{
 "cells": [
  {
   "cell_type": "markdown",
   "metadata": {},
   "source": [
    "# Machine Learning Model Generation - Multiclass Classification"
   ]
  },
  {
   "cell_type": "markdown",
   "metadata": {},
   "source": [
    "### 1. [Tutorial links](#tutorials)\n",
    "### 2. [Load CSV File](#csv_file)\n",
    "### 3. [Split the dataset. Technique: Train-Test split](#train_test)\n",
    "### 4. [Generate Multiclass Classification Models](#multiclass_train_test)\n",
    "\n",
    "> #### 4.1. [Logistic Regression Model](#lr_train_test)\n",
    "#### 4.2. [Random Forest Model using](#rf_train_test)\n",
    "#### 4.3. [k-Nearest Neighbor Model](#knn_train_test)\n",
    "#### 4.4. [Support Vector Machine (SVM) Model](#svm_train_test)\n",
    "#### 4.5. [XGBoost Classifier Model using](#xgb_train_test)\n",
    "\n",
    "\n",
    "### 5. [Analyze the model results](#analyze_results)\n",
    "\n",
    "> #### 5.1. [Print Accuracy of all models](#print_acc)"
   ]
  },
  {
   "cell_type": "markdown",
   "metadata": {},
   "source": [
    "## <a id='tutorials'>1. Tutorial links</a>"
   ]
  },
  {
   "cell_type": "raw",
   "metadata": {},
   "source": [
    "# XGBoost Tutorial/ documentation:\n",
    "https://xgboost.readthedocs.io/en/latest/python/python_api.html#module-xgboost.sklearn\n",
    "    \n",
    "# k-Nearest Neighbor Tutorial/ documentation:\n",
    "https://scikit-learn.org/stable/modules/generated/sklearn.neighbors.KNeighborsClassifier.html\n",
    "    \n",
    "# Support Vector Machine (svm) Tutorial/ documentation:    \n",
    "https://scikit-learn.org/stable/modules/svm.html\n",
    "\n",
    "# Evaluation Techniques\n",
    "http://blog.socratesk.com/blog/2018/10/21/validation-strategies\n"
   ]
  },
  {
   "cell_type": "markdown",
   "metadata": {},
   "source": [
    "### Load libraries"
   ]
  },
  {
   "cell_type": "code",
   "execution_count": 1,
   "metadata": {},
   "outputs": [],
   "source": [
    "# Import pandas library\n",
    "import pandas as pd\n",
    "\n",
    "# Import numpy library\n",
    "import numpy as np\n",
    "\n",
    "# Import Train-Test split library\n",
    "from sklearn.linear_model import LogisticRegression\n",
    "\n",
    "# Import RandomForestClassifier library\n",
    "from sklearn.ensemble import RandomForestClassifier\n",
    "\n",
    "# Import KNeighborsClassifier library\n",
    "from sklearn.neighbors import KNeighborsClassifier\n",
    "\n",
    "# Import Support Vector Machine (SVM) library\n",
    "from sklearn import svm\n",
    "\n",
    "# Import XGBClassifier library\n",
    "from xgboost import XGBClassifier\n",
    "\n",
    "# Import Train-Test split library\n",
    "from sklearn.model_selection import train_test_split\n",
    "\n",
    "# Import KFold split library\n",
    "from sklearn.model_selection import KFold\n",
    "\n",
    "# Import XGBClassifier library\n",
    "from xgboost import XGBClassifier\n",
    "\n",
    "# Import accuracy score computing library\n",
    "from sklearn.metrics import accuracy_score\n",
    "\n",
    "# Import metrics library\n",
    "from sklearn import metrics\n",
    "\n",
    "# Import matplotlib library\n",
    "import matplotlib.pyplot as plt\n",
    "%matplotlib inline\n",
    "\n",
    "# Import warnings\n",
    "import warnings\n",
    "warnings.filterwarnings('ignore')"
   ]
  },
  {
   "cell_type": "markdown",
   "metadata": {},
   "source": [
    "### Source data location and data dictionary"
   ]
  },
  {
   "cell_type": "raw",
   "metadata": {},
   "source": [
    "# Data Documentation: http://archive.ics.uci.edu/ml/datasets/Wine?Quality\n",
    "# Data Description: http://archive.ics.uci.edu/ml/machine-learning-databases/wine/wine.names\n",
    "# Data Source:  http://archive.ics.uci.edu/ml/machine-learning-databases/wine/wine.data\n",
    "\n",
    "# Data location: https://github.com/socratesk/YHatSchoolOfAI/blob/master/data/wineclass.csv\n",
    "# Data Dictionary: https://github.com/socratesk/YHatSchoolOfAI/blob/master/data/wineclass.md"
   ]
  },
  {
   "cell_type": "markdown",
   "metadata": {},
   "source": [
    "### <a id='csv_file'>2. Load CSV file from Git/ local<a>"
   ]
  },
  {
   "cell_type": "code",
   "execution_count": 10,
   "metadata": {},
   "outputs": [
    {
     "name": "stdout",
     "output_type": "stream",
     "text": [
      "(178, 14)\n"
     ]
    },
    {
     "data": {
      "text/html": [
       "<div>\n",
       "<style scoped>\n",
       "    .dataframe tbody tr th:only-of-type {\n",
       "        vertical-align: middle;\n",
       "    }\n",
       "\n",
       "    .dataframe tbody tr th {\n",
       "        vertical-align: top;\n",
       "    }\n",
       "\n",
       "    .dataframe thead th {\n",
       "        text-align: right;\n",
       "    }\n",
       "</style>\n",
       "<table border=\"1\" class=\"dataframe\">\n",
       "  <thead>\n",
       "    <tr style=\"text-align: right;\">\n",
       "      <th></th>\n",
       "      <th>class</th>\n",
       "      <th>alcohol</th>\n",
       "      <th>malic_acid</th>\n",
       "      <th>ash</th>\n",
       "      <th>ash_alcalinity</th>\n",
       "      <th>magnesium</th>\n",
       "      <th>total_phenols</th>\n",
       "      <th>flavanoids</th>\n",
       "      <th>nonflavanoid_phenols</th>\n",
       "      <th>proanthocyanins</th>\n",
       "      <th>color_intensity</th>\n",
       "      <th>hue</th>\n",
       "      <th>od280_diluted_wine</th>\n",
       "      <th>proline</th>\n",
       "    </tr>\n",
       "  </thead>\n",
       "  <tbody>\n",
       "    <tr>\n",
       "      <th>0</th>\n",
       "      <td>1</td>\n",
       "      <td>14.23</td>\n",
       "      <td>1.71</td>\n",
       "      <td>2.43</td>\n",
       "      <td>15.6</td>\n",
       "      <td>127</td>\n",
       "      <td>2.80</td>\n",
       "      <td>3.06</td>\n",
       "      <td>0.28</td>\n",
       "      <td>2.29</td>\n",
       "      <td>5.64</td>\n",
       "      <td>1.04</td>\n",
       "      <td>3.92</td>\n",
       "      <td>1065</td>\n",
       "    </tr>\n",
       "    <tr>\n",
       "      <th>1</th>\n",
       "      <td>1</td>\n",
       "      <td>13.20</td>\n",
       "      <td>1.78</td>\n",
       "      <td>2.14</td>\n",
       "      <td>11.2</td>\n",
       "      <td>100</td>\n",
       "      <td>2.65</td>\n",
       "      <td>2.76</td>\n",
       "      <td>0.26</td>\n",
       "      <td>1.28</td>\n",
       "      <td>4.38</td>\n",
       "      <td>1.05</td>\n",
       "      <td>3.40</td>\n",
       "      <td>1050</td>\n",
       "    </tr>\n",
       "    <tr>\n",
       "      <th>2</th>\n",
       "      <td>1</td>\n",
       "      <td>13.16</td>\n",
       "      <td>2.36</td>\n",
       "      <td>2.67</td>\n",
       "      <td>18.6</td>\n",
       "      <td>101</td>\n",
       "      <td>2.80</td>\n",
       "      <td>3.24</td>\n",
       "      <td>0.30</td>\n",
       "      <td>2.81</td>\n",
       "      <td>5.68</td>\n",
       "      <td>1.03</td>\n",
       "      <td>3.17</td>\n",
       "      <td>1185</td>\n",
       "    </tr>\n",
       "    <tr>\n",
       "      <th>3</th>\n",
       "      <td>1</td>\n",
       "      <td>14.37</td>\n",
       "      <td>1.95</td>\n",
       "      <td>2.50</td>\n",
       "      <td>16.8</td>\n",
       "      <td>113</td>\n",
       "      <td>3.85</td>\n",
       "      <td>3.49</td>\n",
       "      <td>0.24</td>\n",
       "      <td>2.18</td>\n",
       "      <td>7.80</td>\n",
       "      <td>0.86</td>\n",
       "      <td>3.45</td>\n",
       "      <td>1480</td>\n",
       "    </tr>\n",
       "    <tr>\n",
       "      <th>4</th>\n",
       "      <td>1</td>\n",
       "      <td>13.24</td>\n",
       "      <td>2.59</td>\n",
       "      <td>2.87</td>\n",
       "      <td>21.0</td>\n",
       "      <td>118</td>\n",
       "      <td>2.80</td>\n",
       "      <td>2.69</td>\n",
       "      <td>0.39</td>\n",
       "      <td>1.82</td>\n",
       "      <td>4.32</td>\n",
       "      <td>1.04</td>\n",
       "      <td>2.93</td>\n",
       "      <td>735</td>\n",
       "    </tr>\n",
       "  </tbody>\n",
       "</table>\n",
       "</div>"
      ],
      "text/plain": [
       "   class  alcohol  malic_acid   ash  ash_alcalinity  magnesium  total_phenols  \\\n",
       "0      1    14.23        1.71  2.43            15.6        127           2.80   \n",
       "1      1    13.20        1.78  2.14            11.2        100           2.65   \n",
       "2      1    13.16        2.36  2.67            18.6        101           2.80   \n",
       "3      1    14.37        1.95  2.50            16.8        113           3.85   \n",
       "4      1    13.24        2.59  2.87            21.0        118           2.80   \n",
       "\n",
       "   flavanoids  nonflavanoid_phenols  proanthocyanins  color_intensity   hue  \\\n",
       "0        3.06                  0.28             2.29             5.64  1.04   \n",
       "1        2.76                  0.26             1.28             4.38  1.05   \n",
       "2        3.24                  0.30             2.81             5.68  1.03   \n",
       "3        3.49                  0.24             2.18             7.80  0.86   \n",
       "4        2.69                  0.39             1.82             4.32  1.04   \n",
       "\n",
       "   od280_diluted_wine  proline  \n",
       "0                3.92     1065  \n",
       "1                3.40     1050  \n",
       "2                3.17     1185  \n",
       "3                3.45     1480  \n",
       "4                2.93      735  "
      ]
     },
     "execution_count": 10,
     "metadata": {},
     "output_type": "execute_result"
    }
   ],
   "source": [
    "# Load Wine Dataset from Github\n",
    "wine_data = pd.read_csv(\"https://raw.githubusercontent.com/socratesk/YHatSchoolOfAI/master/data/wineclass.csv\")\n",
    "\n",
    "# Load Wine Dataset from local disk\n",
    "# wine_data = pd.read_csv(\"data/wineclass.csv\")\n",
    "                       \n",
    "# Print the shape\n",
    "print (wine_data.shape)\n",
    "\n",
    "# Print few rows to visualize the data\n",
    "wine_data.head()"
   ]
  },
  {
   "cell_type": "markdown",
   "metadata": {},
   "source": [
    "### Describe the dataframe"
   ]
  },
  {
   "cell_type": "code",
   "execution_count": 15,
   "metadata": {},
   "outputs": [
    {
     "data": {
      "text/html": [
       "<div>\n",
       "<style scoped>\n",
       "    .dataframe tbody tr th:only-of-type {\n",
       "        vertical-align: middle;\n",
       "    }\n",
       "\n",
       "    .dataframe tbody tr th {\n",
       "        vertical-align: top;\n",
       "    }\n",
       "\n",
       "    .dataframe thead th {\n",
       "        text-align: right;\n",
       "    }\n",
       "</style>\n",
       "<table border=\"1\" class=\"dataframe\">\n",
       "  <thead>\n",
       "    <tr style=\"text-align: right;\">\n",
       "      <th></th>\n",
       "      <th>class</th>\n",
       "      <th>alcohol</th>\n",
       "      <th>malic_acid</th>\n",
       "      <th>ash</th>\n",
       "      <th>ash_alcalinity</th>\n",
       "      <th>magnesium</th>\n",
       "      <th>total_phenols</th>\n",
       "      <th>flavanoids</th>\n",
       "      <th>nonflavanoid_phenols</th>\n",
       "      <th>proanthocyanins</th>\n",
       "      <th>color_intensity</th>\n",
       "      <th>hue</th>\n",
       "      <th>od280_diluted_wine</th>\n",
       "      <th>proline</th>\n",
       "    </tr>\n",
       "  </thead>\n",
       "  <tbody>\n",
       "    <tr>\n",
       "      <th>count</th>\n",
       "      <td>178.000000</td>\n",
       "      <td>178.000000</td>\n",
       "      <td>178.000000</td>\n",
       "      <td>178.000000</td>\n",
       "      <td>178.000000</td>\n",
       "      <td>178.000000</td>\n",
       "      <td>178.000000</td>\n",
       "      <td>178.000000</td>\n",
       "      <td>178.000000</td>\n",
       "      <td>178.000000</td>\n",
       "      <td>178.000000</td>\n",
       "      <td>178.000000</td>\n",
       "      <td>178.000000</td>\n",
       "      <td>178.000000</td>\n",
       "    </tr>\n",
       "    <tr>\n",
       "      <th>mean</th>\n",
       "      <td>1.938202</td>\n",
       "      <td>13.000618</td>\n",
       "      <td>2.336348</td>\n",
       "      <td>2.366517</td>\n",
       "      <td>9.747472</td>\n",
       "      <td>9.974157</td>\n",
       "      <td>2.295112</td>\n",
       "      <td>2.029270</td>\n",
       "      <td>0.361854</td>\n",
       "      <td>1.590899</td>\n",
       "      <td>5.058090</td>\n",
       "      <td>0.957449</td>\n",
       "      <td>2.611685</td>\n",
       "      <td>7.468933</td>\n",
       "    </tr>\n",
       "    <tr>\n",
       "      <th>std</th>\n",
       "      <td>0.775035</td>\n",
       "      <td>0.811827</td>\n",
       "      <td>1.117146</td>\n",
       "      <td>0.274344</td>\n",
       "      <td>1.669782</td>\n",
       "      <td>1.428248</td>\n",
       "      <td>0.625851</td>\n",
       "      <td>0.998859</td>\n",
       "      <td>0.124453</td>\n",
       "      <td>0.572359</td>\n",
       "      <td>2.318286</td>\n",
       "      <td>0.228572</td>\n",
       "      <td>0.709990</td>\n",
       "      <td>3.149075</td>\n",
       "    </tr>\n",
       "    <tr>\n",
       "      <th>min</th>\n",
       "      <td>1.000000</td>\n",
       "      <td>11.030000</td>\n",
       "      <td>0.740000</td>\n",
       "      <td>1.360000</td>\n",
       "      <td>5.300000</td>\n",
       "      <td>7.000000</td>\n",
       "      <td>0.980000</td>\n",
       "      <td>0.340000</td>\n",
       "      <td>0.130000</td>\n",
       "      <td>0.410000</td>\n",
       "      <td>1.280000</td>\n",
       "      <td>0.480000</td>\n",
       "      <td>1.270000</td>\n",
       "      <td>2.780000</td>\n",
       "    </tr>\n",
       "    <tr>\n",
       "      <th>25%</th>\n",
       "      <td>1.000000</td>\n",
       "      <td>12.362500</td>\n",
       "      <td>1.602500</td>\n",
       "      <td>2.210000</td>\n",
       "      <td>8.600000</td>\n",
       "      <td>8.800000</td>\n",
       "      <td>1.742500</td>\n",
       "      <td>1.205000</td>\n",
       "      <td>0.270000</td>\n",
       "      <td>1.250000</td>\n",
       "      <td>3.220000</td>\n",
       "      <td>0.782500</td>\n",
       "      <td>1.937500</td>\n",
       "      <td>5.005000</td>\n",
       "    </tr>\n",
       "    <tr>\n",
       "      <th>50%</th>\n",
       "      <td>2.000000</td>\n",
       "      <td>13.050000</td>\n",
       "      <td>1.865000</td>\n",
       "      <td>2.360000</td>\n",
       "      <td>9.750000</td>\n",
       "      <td>9.800000</td>\n",
       "      <td>2.355000</td>\n",
       "      <td>2.135000</td>\n",
       "      <td>0.340000</td>\n",
       "      <td>1.555000</td>\n",
       "      <td>4.690000</td>\n",
       "      <td>0.965000</td>\n",
       "      <td>2.780000</td>\n",
       "      <td>6.735000</td>\n",
       "    </tr>\n",
       "    <tr>\n",
       "      <th>75%</th>\n",
       "      <td>3.000000</td>\n",
       "      <td>13.677500</td>\n",
       "      <td>3.082500</td>\n",
       "      <td>2.557500</td>\n",
       "      <td>10.750000</td>\n",
       "      <td>10.700000</td>\n",
       "      <td>2.800000</td>\n",
       "      <td>2.875000</td>\n",
       "      <td>0.437500</td>\n",
       "      <td>1.950000</td>\n",
       "      <td>6.200000</td>\n",
       "      <td>1.120000</td>\n",
       "      <td>3.170000</td>\n",
       "      <td>9.850000</td>\n",
       "    </tr>\n",
       "    <tr>\n",
       "      <th>max</th>\n",
       "      <td>3.000000</td>\n",
       "      <td>14.830000</td>\n",
       "      <td>5.800000</td>\n",
       "      <td>3.230000</td>\n",
       "      <td>15.000000</td>\n",
       "      <td>16.200000</td>\n",
       "      <td>3.880000</td>\n",
       "      <td>5.080000</td>\n",
       "      <td>0.660000</td>\n",
       "      <td>3.580000</td>\n",
       "      <td>13.000000</td>\n",
       "      <td>1.710000</td>\n",
       "      <td>4.000000</td>\n",
       "      <td>16.800000</td>\n",
       "    </tr>\n",
       "  </tbody>\n",
       "</table>\n",
       "</div>"
      ],
      "text/plain": [
       "            class     alcohol  malic_acid         ash  ash_alcalinity  \\\n",
       "count  178.000000  178.000000  178.000000  178.000000      178.000000   \n",
       "mean     1.938202   13.000618    2.336348    2.366517        9.747472   \n",
       "std      0.775035    0.811827    1.117146    0.274344        1.669782   \n",
       "min      1.000000   11.030000    0.740000    1.360000        5.300000   \n",
       "25%      1.000000   12.362500    1.602500    2.210000        8.600000   \n",
       "50%      2.000000   13.050000    1.865000    2.360000        9.750000   \n",
       "75%      3.000000   13.677500    3.082500    2.557500       10.750000   \n",
       "max      3.000000   14.830000    5.800000    3.230000       15.000000   \n",
       "\n",
       "        magnesium  total_phenols  flavanoids  nonflavanoid_phenols  \\\n",
       "count  178.000000     178.000000  178.000000            178.000000   \n",
       "mean     9.974157       2.295112    2.029270              0.361854   \n",
       "std      1.428248       0.625851    0.998859              0.124453   \n",
       "min      7.000000       0.980000    0.340000              0.130000   \n",
       "25%      8.800000       1.742500    1.205000              0.270000   \n",
       "50%      9.800000       2.355000    2.135000              0.340000   \n",
       "75%     10.700000       2.800000    2.875000              0.437500   \n",
       "max     16.200000       3.880000    5.080000              0.660000   \n",
       "\n",
       "       proanthocyanins  color_intensity         hue  od280_diluted_wine  \\\n",
       "count       178.000000       178.000000  178.000000          178.000000   \n",
       "mean          1.590899         5.058090    0.957449            2.611685   \n",
       "std           0.572359         2.318286    0.228572            0.709990   \n",
       "min           0.410000         1.280000    0.480000            1.270000   \n",
       "25%           1.250000         3.220000    0.782500            1.937500   \n",
       "50%           1.555000         4.690000    0.965000            2.780000   \n",
       "75%           1.950000         6.200000    1.120000            3.170000   \n",
       "max           3.580000        13.000000    1.710000            4.000000   \n",
       "\n",
       "          proline  \n",
       "count  178.000000  \n",
       "mean     7.468933  \n",
       "std      3.149075  \n",
       "min      2.780000  \n",
       "25%      5.005000  \n",
       "50%      6.735000  \n",
       "75%      9.850000  \n",
       "max     16.800000  "
      ]
     },
     "execution_count": 15,
     "metadata": {},
     "output_type": "execute_result"
    }
   ],
   "source": [
    "wine_data.describe()"
   ]
  },
  {
   "cell_type": "markdown",
   "metadata": {},
   "source": [
    "### Reduce the dimension of few features of the dataframe"
   ]
  },
  {
   "cell_type": "code",
   "execution_count": 14,
   "metadata": {},
   "outputs": [],
   "source": [
    "# Objective is to maintain the maximum value of the features in the order of 15 -ish.\n",
    "\n",
    "wine_data['ash_alcalinity'] = wine_data['ash_alcalinity'] / 2\n",
    "\n",
    "wine_data['magnesium'] = wine_data['magnesium'] / 10\n",
    "\n",
    "wine_data['proline'] = wine_data['proline'] / 100"
   ]
  },
  {
   "cell_type": "markdown",
   "metadata": {},
   "source": [
    "## <a id='train_test'>3. Split the dataset. Technique: Train-Test split</a>"
   ]
  },
  {
   "cell_type": "code",
   "execution_count": 16,
   "metadata": {},
   "outputs": [
    {
     "name": "stdout",
     "output_type": "stream",
     "text": [
      "Train dataset:  (142, 13) (142,)\n",
      "Test dataset:  (36, 13) (36,)\n"
     ]
    }
   ],
   "source": [
    "# Set the Train and Test split ratio to 80:20\n",
    "SPLIT_RATIO = 0.2\n",
    "\n",
    "# Split the dataset\n",
    "X_train, X_test, Y_train, Y_test = train_test_split(wine_data.drop('class',  axis = 1), \n",
    "                                                    wine_data['class'], \n",
    "                                                    test_size=SPLIT_RATIO, \n",
    "                                                    random_state = 1024)\n",
    "\n",
    "# Print the shape of the Train set\n",
    "print(\"Train dataset: \", X_train.shape, Y_train.shape)\n",
    "\n",
    "# Print the shape of the Test set\n",
    "print(\"Test dataset: \", X_test.shape, Y_test.shape)"
   ]
  },
  {
   "cell_type": "markdown",
   "metadata": {},
   "source": [
    "## <a id='multiclass_train_test'>4. Generate Multiclass Classification</a>"
   ]
  },
  {
   "cell_type": "markdown",
   "metadata": {},
   "source": [
    "### <a id='lr_train_test'>4.1 Logistic Regression Model</a>"
   ]
  },
  {
   "cell_type": "code",
   "execution_count": 17,
   "metadata": {},
   "outputs": [
    {
     "name": "stdout",
     "output_type": "stream",
     "text": [
      "Predicted few values: ['Class 1', 'Class 3', 'Class 2', 'Class 2', 'Class 3', 'Class 3', 'Class 1', 'Class 1']\n",
      "Accuracy of Logistic Regression model: 0.9166666666666666\n"
     ]
    },
    {
     "data": {
      "text/html": [
       "<div>\n",
       "<style scoped>\n",
       "    .dataframe tbody tr th:only-of-type {\n",
       "        vertical-align: middle;\n",
       "    }\n",
       "\n",
       "    .dataframe tbody tr th {\n",
       "        vertical-align: top;\n",
       "    }\n",
       "\n",
       "    .dataframe thead th {\n",
       "        text-align: right;\n",
       "    }\n",
       "</style>\n",
       "<table border=\"1\" class=\"dataframe\">\n",
       "  <thead>\n",
       "    <tr style=\"text-align: right;\">\n",
       "      <th>Predicted</th>\n",
       "      <th>1</th>\n",
       "      <th>2</th>\n",
       "      <th>3</th>\n",
       "      <th>All</th>\n",
       "    </tr>\n",
       "    <tr>\n",
       "      <th>Actual</th>\n",
       "      <th></th>\n",
       "      <th></th>\n",
       "      <th></th>\n",
       "      <th></th>\n",
       "    </tr>\n",
       "  </thead>\n",
       "  <tbody>\n",
       "    <tr>\n",
       "      <th>1</th>\n",
       "      <td>13</td>\n",
       "      <td>1</td>\n",
       "      <td>0</td>\n",
       "      <td>14</td>\n",
       "    </tr>\n",
       "    <tr>\n",
       "      <th>2</th>\n",
       "      <td>0</td>\n",
       "      <td>11</td>\n",
       "      <td>1</td>\n",
       "      <td>12</td>\n",
       "    </tr>\n",
       "    <tr>\n",
       "      <th>3</th>\n",
       "      <td>0</td>\n",
       "      <td>1</td>\n",
       "      <td>9</td>\n",
       "      <td>10</td>\n",
       "    </tr>\n",
       "    <tr>\n",
       "      <th>All</th>\n",
       "      <td>13</td>\n",
       "      <td>13</td>\n",
       "      <td>10</td>\n",
       "      <td>36</td>\n",
       "    </tr>\n",
       "  </tbody>\n",
       "</table>\n",
       "</div>"
      ],
      "text/plain": [
       "Predicted   1   2   3  All\n",
       "Actual                    \n",
       "1          13   1   0   14\n",
       "2           0  11   1   12\n",
       "3           0   1   9   10\n",
       "All        13  13  10   36"
      ]
     },
     "execution_count": 17,
     "metadata": {},
     "output_type": "execute_result"
    }
   ],
   "source": [
    "# Generate a Logistic Regression object\n",
    "lr_model = LogisticRegression(multi_class='ovr') # solver='liblinear',\n",
    "\n",
    "# Train a Logistic Regression model with Train dataset\n",
    "lr_model.fit(X_train, Y_train)\n",
    "\n",
    "# Predict the multiclass outcome\n",
    "y_hat_lr = lr_model.predict(X_test)\n",
    "\n",
    "# Print predicted value\n",
    "y_hat_lr_class = ['Class ' + str(y) for y in y_hat_lr]\n",
    "print (\"Predicted few values:\", y_hat_lr_class[0:8])\n",
    "\n",
    "# Compute the accuracy score\n",
    "accuracy_lr = accuracy_score(Y_test, y_hat_lr)\n",
    "\n",
    "# Print accuracy score\n",
    "print (\"Accuracy of Logistic Regression model:\", accuracy_lr)\n",
    "\n",
    "# Print confusion matrix of actual and predicted values using Crosstab function\n",
    "pd.crosstab(Y_test, y_hat_lr, rownames=['Actual'], colnames=['Predicted'], margins=True)"
   ]
  },
  {
   "cell_type": "markdown",
   "metadata": {},
   "source": [
    "#### 4.1.1 Print Logistic Regression Model parameters"
   ]
  },
  {
   "cell_type": "code",
   "execution_count": 18,
   "metadata": {},
   "outputs": [
    {
     "data": {
      "text/plain": [
       "LogisticRegression(C=1.0, class_weight=None, dual=False, fit_intercept=True,\n",
       "          intercept_scaling=1, max_iter=100, multi_class='ovr',\n",
       "          n_jobs=None, penalty='l2', random_state=None, solver='warn',\n",
       "          tol=0.0001, verbose=0, warm_start=False)"
      ]
     },
     "execution_count": 18,
     "metadata": {},
     "output_type": "execute_result"
    }
   ],
   "source": [
    "# Print the Linear Regression Model\n",
    "lr_model"
   ]
  },
  {
   "cell_type": "markdown",
   "metadata": {},
   "source": [
    "#### 4.1.2 To output the Multiclass Probability using Logistic Regression model ..."
   ]
  },
  {
   "cell_type": "markdown",
   "metadata": {},
   "source": [
    "As we discussed in one of the classes earlier, the Classifier models accept the Train dataset and generate the model that is capable of predicting \"the probability of the outcome\". <br>\n",
    "\n",
    "In the above example, we used `lr_model.predict(X_test)` to predict the multiclass outcome. However if you want a multiclass probability outcome, do the following -"
   ]
  },
  {
   "cell_type": "code",
   "execution_count": 19,
   "metadata": {},
   "outputs": [
    {
     "data": {
      "text/plain": [
       "array([[7.76672359e-01, 1.95535145e-01, 2.77924966e-02],\n",
       "       [6.66844960e-04, 6.21201538e-02, 9.37213001e-01],\n",
       "       [4.36034167e-02, 9.53877841e-01, 2.51874235e-03],\n",
       "       [9.28693024e-02, 8.69881385e-01, 3.72493124e-02],\n",
       "       [1.80654119e-02, 7.68357289e-04, 9.81166231e-01],\n",
       "       [2.15146848e-02, 9.24153334e-02, 8.86069982e-01],\n",
       "       [9.99406425e-01, 5.51987470e-05, 5.38376064e-04],\n",
       "       [9.32128107e-01, 6.70689411e-02, 8.02951472e-04]])"
      ]
     },
     "execution_count": 19,
     "metadata": {},
     "output_type": "execute_result"
    }
   ],
   "source": [
    "# Predict the multiclass outcome\n",
    "y_hat_lr_proba = lr_model.predict_proba(X_test)\n",
    "\n",
    "# Print first 8 rows to visuaize the prediction.\n",
    "y_hat_lr_proba[:8]"
   ]
  },
  {
   "cell_type": "markdown",
   "metadata": {},
   "source": [
    "#### 4.1.3 To draw Area Under the Curve (AUC) for Multiclass classification, refer to the below link <br>\n",
    "\n",
    "####  https://scikit-learn.org/stable/auto_examples/model_selection/plot_roc.html"
   ]
  },
  {
   "cell_type": "markdown",
   "metadata": {},
   "source": [
    "### <a id='rf_train_test'>4.2 Random Forest Model</a>"
   ]
  },
  {
   "cell_type": "code",
   "execution_count": 20,
   "metadata": {},
   "outputs": [
    {
     "name": "stdout",
     "output_type": "stream",
     "text": [
      "Predicted few values: ['Class 1', 'Class 3', 'Class 1', 'Class 2', 'Class 3', 'Class 3', 'Class 1', 'Class 1']\n",
      "Accuracy of Random Forest model:  0.9722222222222222\n"
     ]
    },
    {
     "data": {
      "text/html": [
       "<div>\n",
       "<style scoped>\n",
       "    .dataframe tbody tr th:only-of-type {\n",
       "        vertical-align: middle;\n",
       "    }\n",
       "\n",
       "    .dataframe tbody tr th {\n",
       "        vertical-align: top;\n",
       "    }\n",
       "\n",
       "    .dataframe thead th {\n",
       "        text-align: right;\n",
       "    }\n",
       "</style>\n",
       "<table border=\"1\" class=\"dataframe\">\n",
       "  <thead>\n",
       "    <tr style=\"text-align: right;\">\n",
       "      <th>Predicted</th>\n",
       "      <th>1</th>\n",
       "      <th>2</th>\n",
       "      <th>3</th>\n",
       "      <th>All</th>\n",
       "    </tr>\n",
       "    <tr>\n",
       "      <th>Actual</th>\n",
       "      <th></th>\n",
       "      <th></th>\n",
       "      <th></th>\n",
       "      <th></th>\n",
       "    </tr>\n",
       "  </thead>\n",
       "  <tbody>\n",
       "    <tr>\n",
       "      <th>1</th>\n",
       "      <td>14</td>\n",
       "      <td>0</td>\n",
       "      <td>0</td>\n",
       "      <td>14</td>\n",
       "    </tr>\n",
       "    <tr>\n",
       "      <th>2</th>\n",
       "      <td>0</td>\n",
       "      <td>11</td>\n",
       "      <td>1</td>\n",
       "      <td>12</td>\n",
       "    </tr>\n",
       "    <tr>\n",
       "      <th>3</th>\n",
       "      <td>0</td>\n",
       "      <td>0</td>\n",
       "      <td>10</td>\n",
       "      <td>10</td>\n",
       "    </tr>\n",
       "    <tr>\n",
       "      <th>All</th>\n",
       "      <td>14</td>\n",
       "      <td>11</td>\n",
       "      <td>11</td>\n",
       "      <td>36</td>\n",
       "    </tr>\n",
       "  </tbody>\n",
       "</table>\n",
       "</div>"
      ],
      "text/plain": [
       "Predicted   1   2   3  All\n",
       "Actual                    \n",
       "1          14   0   0   14\n",
       "2           0  11   1   12\n",
       "3           0   0  10   10\n",
       "All        14  11  11   36"
      ]
     },
     "execution_count": 20,
     "metadata": {},
     "output_type": "execute_result"
    }
   ],
   "source": [
    "# Generate a Random Forest Classifier object\n",
    "rf_model = RandomForestClassifier(n_estimators=100, min_samples_leaf=2, random_state=2)\n",
    "\n",
    "# n_estimators - represents no of trees in the forest\n",
    "# n_jobs - No of cores to be used\n",
    "# max_depth - depth of each tree in the forest\n",
    "# min_samples_split - Minimum number of samples required to split an internal node\n",
    "# min_samples_leaf  - Minimum number of samples required to be at a leaf node\n",
    "# max_features - the number of features to consider when looking for best split\n",
    "\n",
    "# Train a Random Forest model with Train dataset\n",
    "rf_model.fit(X_train, Y_train)\n",
    "\n",
    "# Predict the outcome\n",
    "y_hat_rf = rf_model.predict(X_test)\n",
    "\n",
    "# Print predicted value\n",
    "y_hat_rf_class = ['Class ' + str(y) for y in y_hat_rf]\n",
    "print (\"Predicted few values:\", y_hat_rf_class[0:8])\n",
    "\n",
    "# Compute the accuracy score\n",
    "accuracy_rf = accuracy_score(Y_test, y_hat_rf)\n",
    "\n",
    "# Print accuracy score\n",
    "print (\"Accuracy of Random Forest model: \", accuracy_rf)\n",
    "\n",
    "# Print confusion matrix of actual and predicted values using Crosstab function\n",
    "pd.crosstab(Y_test, y_hat_rf, rownames=['Actual'], colnames=['Predicted'], margins=True)"
   ]
  },
  {
   "cell_type": "markdown",
   "metadata": {},
   "source": [
    "#### 4.2.1 Print Random Forest Model parameters"
   ]
  },
  {
   "cell_type": "code",
   "execution_count": 21,
   "metadata": {},
   "outputs": [
    {
     "data": {
      "text/plain": [
       "RandomForestClassifier(bootstrap=True, class_weight=None, criterion='gini',\n",
       "            max_depth=None, max_features='auto', max_leaf_nodes=None,\n",
       "            min_impurity_decrease=0.0, min_impurity_split=None,\n",
       "            min_samples_leaf=2, min_samples_split=2,\n",
       "            min_weight_fraction_leaf=0.0, n_estimators=100, n_jobs=None,\n",
       "            oob_score=False, random_state=2, verbose=0, warm_start=False)"
      ]
     },
     "execution_count": 21,
     "metadata": {},
     "output_type": "execute_result"
    }
   ],
   "source": [
    "# Print the Random Forest Model\n",
    "rf_model"
   ]
  },
  {
   "cell_type": "markdown",
   "metadata": {},
   "source": [
    "#### 4.2.2 To output the Multiclass Probability using Random Forest model ..."
   ]
  },
  {
   "cell_type": "code",
   "execution_count": 22,
   "metadata": {},
   "outputs": [
    {
     "data": {
      "text/plain": [
       "array([[0.47238095, 0.39678571, 0.13083333],\n",
       "       [0.015     , 0.14316667, 0.84183333],\n",
       "       [0.636     , 0.33233333, 0.03166667],\n",
       "       [0.01      , 0.7242381 , 0.2657619 ],\n",
       "       [0.00666667, 0.093     , 0.90033333],\n",
       "       [0.00666667, 0.22607143, 0.7672619 ],\n",
       "       [0.97483333, 0.02516667, 0.        ],\n",
       "       [0.85      , 0.14      , 0.01      ]])"
      ]
     },
     "execution_count": 22,
     "metadata": {},
     "output_type": "execute_result"
    }
   ],
   "source": [
    "# Predict the multiclass outcome\n",
    "y_hat_rf_proba = rf_model.predict_proba(X_test)\n",
    "\n",
    "# Print first 8 rows to visuaize the prediction.\n",
    "y_hat_rf_proba[:8]"
   ]
  },
  {
   "cell_type": "markdown",
   "metadata": {},
   "source": [
    "### <a id='knn_train_test'>4.3 k-Nearest Neighbor Model</a>"
   ]
  },
  {
   "cell_type": "code",
   "execution_count": 23,
   "metadata": {},
   "outputs": [
    {
     "name": "stdout",
     "output_type": "stream",
     "text": [
      "Predicted few values: ['Class 1', 'Class 3', 'Class 1', 'Class 2', 'Class 3', 'Class 2', 'Class 1', 'Class 1']\n",
      "Accuracy of k-Nearest Neighbor model:  0.9166666666666666\n"
     ]
    },
    {
     "data": {
      "text/html": [
       "<div>\n",
       "<style scoped>\n",
       "    .dataframe tbody tr th:only-of-type {\n",
       "        vertical-align: middle;\n",
       "    }\n",
       "\n",
       "    .dataframe tbody tr th {\n",
       "        vertical-align: top;\n",
       "    }\n",
       "\n",
       "    .dataframe thead th {\n",
       "        text-align: right;\n",
       "    }\n",
       "</style>\n",
       "<table border=\"1\" class=\"dataframe\">\n",
       "  <thead>\n",
       "    <tr style=\"text-align: right;\">\n",
       "      <th>Predicted</th>\n",
       "      <th>1</th>\n",
       "      <th>2</th>\n",
       "      <th>3</th>\n",
       "      <th>All</th>\n",
       "    </tr>\n",
       "    <tr>\n",
       "      <th>Actual</th>\n",
       "      <th></th>\n",
       "      <th></th>\n",
       "      <th></th>\n",
       "      <th></th>\n",
       "    </tr>\n",
       "  </thead>\n",
       "  <tbody>\n",
       "    <tr>\n",
       "      <th>1</th>\n",
       "      <td>14</td>\n",
       "      <td>0</td>\n",
       "      <td>0</td>\n",
       "      <td>14</td>\n",
       "    </tr>\n",
       "    <tr>\n",
       "      <th>2</th>\n",
       "      <td>1</td>\n",
       "      <td>10</td>\n",
       "      <td>1</td>\n",
       "      <td>12</td>\n",
       "    </tr>\n",
       "    <tr>\n",
       "      <th>3</th>\n",
       "      <td>0</td>\n",
       "      <td>1</td>\n",
       "      <td>9</td>\n",
       "      <td>10</td>\n",
       "    </tr>\n",
       "    <tr>\n",
       "      <th>All</th>\n",
       "      <td>15</td>\n",
       "      <td>11</td>\n",
       "      <td>10</td>\n",
       "      <td>36</td>\n",
       "    </tr>\n",
       "  </tbody>\n",
       "</table>\n",
       "</div>"
      ],
      "text/plain": [
       "Predicted   1   2   3  All\n",
       "Actual                    \n",
       "1          14   0   0   14\n",
       "2           1  10   1   12\n",
       "3           0   1   9   10\n",
       "All        15  11  10   36"
      ]
     },
     "execution_count": 23,
     "metadata": {},
     "output_type": "execute_result"
    }
   ],
   "source": [
    "# Generate a k-Nearest Neighbor object\n",
    "knn_model = KNeighborsClassifier(n_neighbors = 3)\n",
    "\n",
    "# Train a k-Nearest Neighbor model with Train dataset\n",
    "knn_model.fit(X_train, Y_train)\n",
    "\n",
    "# Predict the outcome\n",
    "y_hat_knn = knn_model.predict(X_test)\n",
    "\n",
    "# Print predicted value\n",
    "y_hat_knn_class = ['Class ' + str(y) for y in y_hat_knn]\n",
    "print (\"Predicted few values:\", y_hat_knn_class[0:8])\n",
    "\n",
    "# Compute the accuracy score\n",
    "accuracy_knn = accuracy_score(Y_test, y_hat_knn)\n",
    "\n",
    "# Print accuracy score\n",
    "print (\"Accuracy of k-Nearest Neighbor model: \", accuracy_knn)\n",
    "\n",
    "# Print confusion matrix of actual and predicted values using Crosstab function\n",
    "pd.crosstab(Y_test, y_hat_knn, rownames=['Actual'], colnames=['Predicted'], margins=True)"
   ]
  },
  {
   "cell_type": "markdown",
   "metadata": {},
   "source": [
    "#### 4.3.1 Print k-Nearest Neighbor Model parameters"
   ]
  },
  {
   "cell_type": "code",
   "execution_count": 24,
   "metadata": {},
   "outputs": [
    {
     "data": {
      "text/plain": [
       "KNeighborsClassifier(algorithm='auto', leaf_size=30, metric='minkowski',\n",
       "           metric_params=None, n_jobs=None, n_neighbors=3, p=2,\n",
       "           weights='uniform')"
      ]
     },
     "execution_count": 24,
     "metadata": {},
     "output_type": "execute_result"
    }
   ],
   "source": [
    "# Print the k-Nearest Neighbor Model\n",
    "knn_model"
   ]
  },
  {
   "cell_type": "markdown",
   "metadata": {},
   "source": [
    "#### 4.3.2 To output the Multiclass Probability using k-Nearest Neighbor model ..."
   ]
  },
  {
   "cell_type": "code",
   "execution_count": null,
   "metadata": {
    "collapsed": true
   },
   "outputs": [],
   "source": [
    "<< HOME WORK: Your code goes here >>"
   ]
  },
  {
   "cell_type": "markdown",
   "metadata": {},
   "source": [
    "### <a id='svm_train_test'>4.4 Support Vector Machine (SVM)  Model</a>"
   ]
  },
  {
   "cell_type": "code",
   "execution_count": 26,
   "metadata": {},
   "outputs": [
    {
     "name": "stdout",
     "output_type": "stream",
     "text": [
      "Predicted few values: ['Class 1', 'Class 3', 'Class 1', 'Class 2', 'Class 3', 'Class 2', 'Class 1', 'Class 1']\n",
      "Accuracy of Support Vector Machine model:  0.9166666666666666\n"
     ]
    },
    {
     "data": {
      "text/html": [
       "<div>\n",
       "<style scoped>\n",
       "    .dataframe tbody tr th:only-of-type {\n",
       "        vertical-align: middle;\n",
       "    }\n",
       "\n",
       "    .dataframe tbody tr th {\n",
       "        vertical-align: top;\n",
       "    }\n",
       "\n",
       "    .dataframe thead th {\n",
       "        text-align: right;\n",
       "    }\n",
       "</style>\n",
       "<table border=\"1\" class=\"dataframe\">\n",
       "  <thead>\n",
       "    <tr style=\"text-align: right;\">\n",
       "      <th>Predicted</th>\n",
       "      <th>1</th>\n",
       "      <th>2</th>\n",
       "      <th>3</th>\n",
       "      <th>All</th>\n",
       "    </tr>\n",
       "    <tr>\n",
       "      <th>Actual</th>\n",
       "      <th></th>\n",
       "      <th></th>\n",
       "      <th></th>\n",
       "      <th></th>\n",
       "    </tr>\n",
       "  </thead>\n",
       "  <tbody>\n",
       "    <tr>\n",
       "      <th>1</th>\n",
       "      <td>14</td>\n",
       "      <td>0</td>\n",
       "      <td>0</td>\n",
       "      <td>14</td>\n",
       "    </tr>\n",
       "    <tr>\n",
       "      <th>2</th>\n",
       "      <td>0</td>\n",
       "      <td>11</td>\n",
       "      <td>1</td>\n",
       "      <td>12</td>\n",
       "    </tr>\n",
       "    <tr>\n",
       "      <th>3</th>\n",
       "      <td>0</td>\n",
       "      <td>2</td>\n",
       "      <td>8</td>\n",
       "      <td>10</td>\n",
       "    </tr>\n",
       "    <tr>\n",
       "      <th>All</th>\n",
       "      <td>14</td>\n",
       "      <td>13</td>\n",
       "      <td>9</td>\n",
       "      <td>36</td>\n",
       "    </tr>\n",
       "  </tbody>\n",
       "</table>\n",
       "</div>"
      ],
      "text/plain": [
       "Predicted   1   2  3  All\n",
       "Actual                   \n",
       "1          14   0  0   14\n",
       "2           0  11  1   12\n",
       "3           0   2  8   10\n",
       "All        14  13  9   36"
      ]
     },
     "execution_count": 26,
     "metadata": {},
     "output_type": "execute_result"
    }
   ],
   "source": [
    "# Generate a Support Vector Machine (SVM) object\n",
    "svm_model = svm.SVC(kernel='linear', random_state=2) # gamma=0.05, degree=5, kernel='linear'\n",
    "\n",
    "# Train a Support Vector Machine model with Train dataset\n",
    "svm_model.fit(X_train, Y_train)\n",
    "\n",
    "# Predict the outcome\n",
    "y_hat_svm = svm_model.predict(X_test)\n",
    "\n",
    "# Print predicted value\n",
    "y_hat_svm_class = ['Class ' + str(y) for y in y_hat_svm]\n",
    "print (\"Predicted few values:\", y_hat_svm_class[0:8])\n",
    "\n",
    "# Compute the accuracy score\n",
    "accuracy_svm = accuracy_score(Y_test, y_hat_svm)\n",
    "\n",
    "# Print accuracy score\n",
    "print (\"Accuracy of Support Vector Machine model: \", accuracy_svm)\n",
    "\n",
    "# Print confusion matrix of actual and predicted values using Crosstab function\n",
    "pd.crosstab(Y_test, y_hat_svm, rownames=['Actual'], colnames=['Predicted'], margins=True)"
   ]
  },
  {
   "cell_type": "markdown",
   "metadata": {},
   "source": [
    "#### 4.4.1 Print Support Vector Machine (SVM) Model parameters"
   ]
  },
  {
   "cell_type": "code",
   "execution_count": 27,
   "metadata": {},
   "outputs": [
    {
     "data": {
      "text/plain": [
       "SVC(C=1.0, cache_size=200, class_weight=None, coef0=0.0,\n",
       "  decision_function_shape='ovr', degree=3, gamma='auto_deprecated',\n",
       "  kernel='linear', max_iter=-1, probability=False, random_state=2,\n",
       "  shrinking=True, tol=0.001, verbose=False)"
      ]
     },
     "execution_count": 27,
     "metadata": {},
     "output_type": "execute_result"
    }
   ],
   "source": [
    "# Print the Support Vector Machine Model\n",
    "svm_model"
   ]
  },
  {
   "cell_type": "markdown",
   "metadata": {},
   "source": [
    "#### 4.4.2 To output the Multiclass Probability using Support Vector Machine (SVM) model ..."
   ]
  },
  {
   "cell_type": "code",
   "execution_count": null,
   "metadata": {
    "collapsed": true
   },
   "outputs": [],
   "source": [
    "<< HOME WORK: Your code goes here >>"
   ]
  },
  {
   "cell_type": "markdown",
   "metadata": {},
   "source": [
    "### <a id='xgb_train_test'>4.5 XGBoost Classifier Model</a>"
   ]
  },
  {
   "cell_type": "code",
   "execution_count": 25,
   "metadata": {},
   "outputs": [
    {
     "name": "stdout",
     "output_type": "stream",
     "text": [
      "Predicted few values: ['Class 1', 'Class 3', 'Class 1', 'Class 2', 'Class 3', 'Class 3', 'Class 1', 'Class 1']\n",
      "Accuracy of XGBoost model:  0.9722222222222222\n"
     ]
    },
    {
     "data": {
      "text/html": [
       "<div>\n",
       "<style scoped>\n",
       "    .dataframe tbody tr th:only-of-type {\n",
       "        vertical-align: middle;\n",
       "    }\n",
       "\n",
       "    .dataframe tbody tr th {\n",
       "        vertical-align: top;\n",
       "    }\n",
       "\n",
       "    .dataframe thead th {\n",
       "        text-align: right;\n",
       "    }\n",
       "</style>\n",
       "<table border=\"1\" class=\"dataframe\">\n",
       "  <thead>\n",
       "    <tr style=\"text-align: right;\">\n",
       "      <th>Predicted</th>\n",
       "      <th>1</th>\n",
       "      <th>2</th>\n",
       "      <th>3</th>\n",
       "      <th>All</th>\n",
       "    </tr>\n",
       "    <tr>\n",
       "      <th>Actual</th>\n",
       "      <th></th>\n",
       "      <th></th>\n",
       "      <th></th>\n",
       "      <th></th>\n",
       "    </tr>\n",
       "  </thead>\n",
       "  <tbody>\n",
       "    <tr>\n",
       "      <th>1</th>\n",
       "      <td>14</td>\n",
       "      <td>0</td>\n",
       "      <td>0</td>\n",
       "      <td>14</td>\n",
       "    </tr>\n",
       "    <tr>\n",
       "      <th>2</th>\n",
       "      <td>0</td>\n",
       "      <td>11</td>\n",
       "      <td>1</td>\n",
       "      <td>12</td>\n",
       "    </tr>\n",
       "    <tr>\n",
       "      <th>3</th>\n",
       "      <td>0</td>\n",
       "      <td>0</td>\n",
       "      <td>10</td>\n",
       "      <td>10</td>\n",
       "    </tr>\n",
       "    <tr>\n",
       "      <th>All</th>\n",
       "      <td>14</td>\n",
       "      <td>11</td>\n",
       "      <td>11</td>\n",
       "      <td>36</td>\n",
       "    </tr>\n",
       "  </tbody>\n",
       "</table>\n",
       "</div>"
      ],
      "text/plain": [
       "Predicted   1   2   3  All\n",
       "Actual                    \n",
       "1          14   0   0   14\n",
       "2           0  11   1   12\n",
       "3           0   0  10   10\n",
       "All        14  11  11   36"
      ]
     },
     "execution_count": 25,
     "metadata": {},
     "output_type": "execute_result"
    }
   ],
   "source": [
    "# Generate a XGBoost object\n",
    "xgb_model = XGBClassifier(learning_rate =0.01, \n",
    "                      subsample=0.75, \n",
    "                      colsample_bytree=0.72, \n",
    "                      min_child_weight=8,\n",
    "                      max_depth=5,\n",
    "                      random_state=2)\n",
    "\n",
    "# Train a XGBoost model with Train dataset\n",
    "xgb_model.fit(X_train, Y_train)\n",
    "\n",
    "# Predict the outcome\n",
    "y_hat_xgb = xgb_model.predict(X_test)\n",
    "\n",
    "# Print predicted value\n",
    "y_hat_xgb_class = ['Class ' + str(y) for y in y_hat_xgb]\n",
    "print (\"Predicted few values:\", y_hat_xgb_class[0:8])\n",
    "\n",
    "# Compute the accuracy score\n",
    "accuracy_xgb = accuracy_score(Y_test, y_hat_xgb)\n",
    "\n",
    "# Print accuracy score\n",
    "print (\"Accuracy of XGBoost model: \", accuracy_xgb)\n",
    "\n",
    "# Print confusion matrix of actual and predicted values using Crosstab function\n",
    "pd.crosstab(Y_test, y_hat_xgb, rownames=['Actual'], colnames=['Predicted'], margins=True)"
   ]
  },
  {
   "cell_type": "markdown",
   "metadata": {},
   "source": [
    "#### 4.5.1 Print XGBoost Classifier Model parameters"
   ]
  },
  {
   "cell_type": "code",
   "execution_count": 28,
   "metadata": {},
   "outputs": [
    {
     "data": {
      "text/plain": [
       "XGBClassifier(base_score=0.5, booster='gbtree', colsample_bylevel=1,\n",
       "       colsample_bynode=1, colsample_bytree=0.72, gamma=0,\n",
       "       learning_rate=0.01, max_delta_step=0, max_depth=5,\n",
       "       min_child_weight=8, missing=None, n_estimators=100, n_jobs=1,\n",
       "       nthread=None, objective='multi:softprob', random_state=2,\n",
       "       reg_alpha=0, reg_lambda=1, scale_pos_weight=1, seed=None,\n",
       "       silent=None, subsample=0.75, verbosity=1)"
      ]
     },
     "execution_count": 28,
     "metadata": {},
     "output_type": "execute_result"
    }
   ],
   "source": [
    "# Print the XGBoost Model\n",
    "xgb_model"
   ]
  },
  {
   "cell_type": "markdown",
   "metadata": {},
   "source": [
    "#### 4.5.2 To output the Multiclass Probability using XGBoost Classifier model ..."
   ]
  },
  {
   "cell_type": "code",
   "execution_count": null,
   "metadata": {
    "collapsed": true
   },
   "outputs": [],
   "source": [
    "<< HOME WORK: Your code goes here >>"
   ]
  },
  {
   "cell_type": "markdown",
   "metadata": {},
   "source": [
    "## <a id='analyze_results'>5. Analyze the model results</a> "
   ]
  },
  {
   "cell_type": "markdown",
   "metadata": {},
   "source": [
    "### <a id='print_acc'>5.1. Print Accuracy of all models</a> "
   ]
  },
  {
   "cell_type": "code",
   "execution_count": 29,
   "metadata": {},
   "outputs": [
    {
     "data": {
      "text/html": [
       "<div>\n",
       "<style scoped>\n",
       "    .dataframe tbody tr th:only-of-type {\n",
       "        vertical-align: middle;\n",
       "    }\n",
       "\n",
       "    .dataframe tbody tr th {\n",
       "        vertical-align: top;\n",
       "    }\n",
       "\n",
       "    .dataframe thead th {\n",
       "        text-align: right;\n",
       "    }\n",
       "</style>\n",
       "<table border=\"1\" class=\"dataframe\">\n",
       "  <thead>\n",
       "    <tr style=\"text-align: right;\">\n",
       "      <th></th>\n",
       "      <th>Metrics</th>\n",
       "      <th>Logistic Regression</th>\n",
       "      <th>Random Forest</th>\n",
       "      <th>k-NN</th>\n",
       "      <th>SVM</th>\n",
       "      <th>XGBoost</th>\n",
       "    </tr>\n",
       "  </thead>\n",
       "  <tbody>\n",
       "    <tr>\n",
       "      <th>0</th>\n",
       "      <td>Accuracy</td>\n",
       "      <td>0.916667</td>\n",
       "      <td>0.972222</td>\n",
       "      <td>0.916667</td>\n",
       "      <td>0.916667</td>\n",
       "      <td>0.972222</td>\n",
       "    </tr>\n",
       "  </tbody>\n",
       "</table>\n",
       "</div>"
      ],
      "text/plain": [
       "    Metrics  Logistic Regression  Random Forest      k-NN       SVM   XGBoost\n",
       "0  Accuracy             0.916667       0.972222  0.916667  0.916667  0.972222"
      ]
     },
     "execution_count": 29,
     "metadata": {},
     "output_type": "execute_result"
    }
   ],
   "source": [
    "# Create a dataframe with Accuracy\n",
    "acc_df = pd.DataFrame(\n",
    "                    {'Metrics': ['Accuracy'],\n",
    "                    'Logistic Regression': [accuracy_lr],\n",
    "                    'Random Forest': [accuracy_rf],\n",
    "                    'k-NN': [accuracy_knn],\n",
    "                    'SVM': [accuracy_svm],\n",
    "                    'XGBoost': [accuracy_xgb]}\n",
    ")\n",
    "\n",
    "acc_df"
   ]
  },
  {
   "cell_type": "code",
   "execution_count": null,
   "metadata": {
    "collapsed": true
   },
   "outputs": [],
   "source": []
  }
 ],
 "metadata": {
  "kernelspec": {
   "display_name": "Python 3",
   "language": "python",
   "name": "python3"
  },
  "language_info": {
   "codemirror_mode": {
    "name": "ipython",
    "version": 3
   },
   "file_extension": ".py",
   "mimetype": "text/x-python",
   "name": "python",
   "nbconvert_exporter": "python",
   "pygments_lexer": "ipython3",
   "version": "3.7.3"
  }
 },
 "nbformat": 4,
 "nbformat_minor": 2
}
