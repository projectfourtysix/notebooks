{
 "cells": [
  {
   "cell_type": "markdown",
   "metadata": {},
   "source": [
    "# Machine Learning Model Generation - Linear Regression"
   ]
  },
  {
   "cell_type": "markdown",
   "metadata": {},
   "source": [
    "### 1. [Tutorial links](#tutorials)\n",
    "### 2. [Load CSV File](#csv_file)\n",
    "### 3. [Split the dataset. Technique: Train-Test split](#train_test)\n",
    "### 4. [Generate Linear Regression Models](#linear)\n",
    "\n",
    "> #### 4.1. [Linear Regression Model](#lr_train_test)\n",
    "  #### 4.2. [Random Forest Model](#rf_train_test)\n",
    "  #### 4.3. [XGBoost Regressor Model](#xgb_train_test)\n",
    "  #### 4.4. [LightGBM Regressor Model](#lgb_train_test)\n",
    "  #### 4.5. [Generalized Boosting Machine (GBM) Model](#gbm_train_test)\n",
    "\n",
    "### 5. [Analyze the model results](#analyze_results)\n",
    "\n",
    "> #### 5.1. [Scatter plot all the model results](#scatterplot_models)\n",
    "#### 5.2. [Print RMSE of all models](#print_rmse)\n",
    "\n",
    "### 6. [Train final model](#final_model)\n",
    "### 7. [Save final model](#save_model)\n",
    "### 8. [Load and use the model](#load_models)\n",
    "\n",
    "\n",
    "> #### 8.1. [Load the model](#load_model)\n",
    "#### 8.2. [Use the model](#use_model)\n"
   ]
  },
  {
   "cell_type": "markdown",
   "metadata": {},
   "source": [
    "## <a id='tutorials'>1. Tutorial links</a>"
   ]
  },
  {
   "cell_type": "raw",
   "metadata": {},
   "source": [
    "# LinearRegression Tutorial/ documentation:\n",
    "https://scikit-learn.org/stable/modules/generated/sklearn.linear_model.LinearRegression.html\n",
    "\n",
    "# RandomForestRegressor Tutorial/ documentation:\n",
    "https://scikit-learn.org/stable/modules/generated/sklearn.ensemble.RandomForestRegressor.html\n",
    "\n",
    "# XGBoost Tutorial/ documentation:\n",
    "https://xgboost.readthedocs.io/en/latest/python/python_api.html#module-xgboost.sklearn\n",
    "*******  https://xgboost.readthedocs.io/en/latest/index.html  *******\n",
    "\n",
    "# XGBoost parameters Tutorial: \n",
    "https://xgboost.readthedocs.io/en/latest/parameter.html\n",
    "\n",
    "# LightGBM Tutorial/ documentation:\n",
    "https://lightgbm.readthedocs.io/en/latest/Python-API.html\n",
    "\n",
    "# LightGBM parameters Tutorial: \n",
    "https://lightgbm.readthedocs.io/en/latest/Parameters.html\n",
    "\n",
    "# GradientBoostingRegressor Tutorial/ documentation:\n",
    "https://scikit-learn.org/stable/modules/generated/sklearn.ensemble.GradientBoostingRegressor.html\n",
    "\n",
    "# Evaluation Techniques\n",
    "http://blog.socratesk.com/blog/2018/10/21/validation-strategies"
   ]
  },
  {
   "cell_type": "markdown",
   "metadata": {},
   "source": [
    "### Load libraries"
   ]
  },
  {
   "cell_type": "code",
   "execution_count": 2,
   "metadata": {},
   "outputs": [
    {
     "name": "stderr",
     "output_type": "stream",
     "text": [
      "/anaconda3/lib/python3.7/site-packages/lightgbm/__init__.py:46: UserWarning: Starting from version 2.2.1, the library file in distribution wheels for macOS is built by the Apple Clang (Xcode_8.3.3) compiler.\n",
      "This means that in case of installing LightGBM from PyPI via the ``pip install lightgbm`` command, you don't need to install the gcc compiler anymore.\n",
      "Instead of that, you need to install the OpenMP library, which is required for running LightGBM on the system with the Apple Clang compiler.\n",
      "You can install the OpenMP library by the following command: ``brew install libomp``.\n",
      "  \"You can install the OpenMP library by the following command: ``brew install libomp``.\", UserWarning)\n"
     ]
    }
   ],
   "source": [
    "# Import pandas library\n",
    "import pandas as pd\n",
    "\n",
    "# Import numpy library\n",
    "import numpy as np\n",
    "\n",
    "# Import Train-Test split library\n",
    "from sklearn.linear_model import LinearRegression\n",
    "\n",
    "# Import RandomForestRegressor library\n",
    "from sklearn.ensemble import RandomForestRegressor\n",
    "\n",
    "# Import XGBRegressor library\n",
    "from xgboost import XGBRegressor\n",
    "\n",
    "# Import LightGBM library\n",
    "import lightgbm as lgb\n",
    "\n",
    "# Import GradientBoostingRegressor library\n",
    "from sklearn.ensemble import GradientBoostingRegressor\n",
    "\n",
    "# Import Train-Test split library\n",
    "from sklearn.model_selection import train_test_split\n",
    "\n",
    "# Import metrics computing library\n",
    "from sklearn import metrics\n",
    "\n",
    "# Import matplotlib library\n",
    "import matplotlib.pyplot as plt\n",
    "%matplotlib inline\n",
    "\n",
    "# Import pickle library - helps store the model\n",
    "import pickle\n",
    "\n",
    "# Import warnings\n",
    "import warnings\n",
    "warnings.filterwarnings('ignore')"
   ]
  },
  {
   "cell_type": "markdown",
   "metadata": {},
   "source": [
    "### Source data location and data dictionary"
   ]
  },
  {
   "cell_type": "raw",
   "metadata": {
    "collapsed": true
   },
   "source": [
    "# Data Documentation: http://archive.ics.uci.edu/ml/datasets/concrete+compressive+strength\n",
    "# Data Description: http://archive.ics.uci.edu/ml/machine-learning-databases/concrete/compressive/Concrete_Readme.txt\n",
    "# Data Source:  https://archive.ics.uci.edu/ml/machine-learning-databases/concrete/compressive/Concrete_Data.xls\n",
    "\n",
    "# Data location: https://github.com/socratesk/YHatSchoolOfAI/blob/master/data/concrete.csv\n",
    "# Data Dictionary: https://github.com/socratesk/YHatSchoolOfAI/blob/master/data/breastcancer.md"
   ]
  },
  {
   "cell_type": "markdown",
   "metadata": {},
   "source": [
    "### <a id='csv_file'>2. Load CSV file from Git/ Local<a>"
   ]
  },
  {
   "cell_type": "code",
   "execution_count": 6,
   "metadata": {},
   "outputs": [
    {
     "name": "stdout",
     "output_type": "stream",
     "text": [
      "(1030, 9)\n"
     ]
    },
    {
     "data": {
      "text/html": [
       "<div>\n",
       "<style scoped>\n",
       "    .dataframe tbody tr th:only-of-type {\n",
       "        vertical-align: middle;\n",
       "    }\n",
       "\n",
       "    .dataframe tbody tr th {\n",
       "        vertical-align: top;\n",
       "    }\n",
       "\n",
       "    .dataframe thead th {\n",
       "        text-align: right;\n",
       "    }\n",
       "</style>\n",
       "<table border=\"1\" class=\"dataframe\">\n",
       "  <thead>\n",
       "    <tr style=\"text-align: right;\">\n",
       "      <th></th>\n",
       "      <th>cement</th>\n",
       "      <th>blast</th>\n",
       "      <th>flyash</th>\n",
       "      <th>water</th>\n",
       "      <th>superplasticizer</th>\n",
       "      <th>coarse_aggregate</th>\n",
       "      <th>fine_aggregate</th>\n",
       "      <th>age</th>\n",
       "      <th>compressive_strength</th>\n",
       "    </tr>\n",
       "  </thead>\n",
       "  <tbody>\n",
       "    <tr>\n",
       "      <th>0</th>\n",
       "      <td>540.0</td>\n",
       "      <td>0.0</td>\n",
       "      <td>0.0</td>\n",
       "      <td>162.0</td>\n",
       "      <td>2.5</td>\n",
       "      <td>1040.0</td>\n",
       "      <td>676.0</td>\n",
       "      <td>28</td>\n",
       "      <td>79.99</td>\n",
       "    </tr>\n",
       "    <tr>\n",
       "      <th>1</th>\n",
       "      <td>540.0</td>\n",
       "      <td>0.0</td>\n",
       "      <td>0.0</td>\n",
       "      <td>162.0</td>\n",
       "      <td>2.5</td>\n",
       "      <td>1055.0</td>\n",
       "      <td>676.0</td>\n",
       "      <td>28</td>\n",
       "      <td>61.89</td>\n",
       "    </tr>\n",
       "    <tr>\n",
       "      <th>2</th>\n",
       "      <td>332.5</td>\n",
       "      <td>142.5</td>\n",
       "      <td>0.0</td>\n",
       "      <td>228.0</td>\n",
       "      <td>0.0</td>\n",
       "      <td>932.0</td>\n",
       "      <td>594.0</td>\n",
       "      <td>270</td>\n",
       "      <td>40.27</td>\n",
       "    </tr>\n",
       "    <tr>\n",
       "      <th>3</th>\n",
       "      <td>332.5</td>\n",
       "      <td>142.5</td>\n",
       "      <td>0.0</td>\n",
       "      <td>228.0</td>\n",
       "      <td>0.0</td>\n",
       "      <td>932.0</td>\n",
       "      <td>594.0</td>\n",
       "      <td>365</td>\n",
       "      <td>41.05</td>\n",
       "    </tr>\n",
       "    <tr>\n",
       "      <th>4</th>\n",
       "      <td>198.6</td>\n",
       "      <td>132.4</td>\n",
       "      <td>0.0</td>\n",
       "      <td>192.0</td>\n",
       "      <td>0.0</td>\n",
       "      <td>978.4</td>\n",
       "      <td>825.5</td>\n",
       "      <td>360</td>\n",
       "      <td>44.30</td>\n",
       "    </tr>\n",
       "    <tr>\n",
       "      <th>5</th>\n",
       "      <td>266.0</td>\n",
       "      <td>114.0</td>\n",
       "      <td>0.0</td>\n",
       "      <td>228.0</td>\n",
       "      <td>0.0</td>\n",
       "      <td>932.0</td>\n",
       "      <td>670.0</td>\n",
       "      <td>90</td>\n",
       "      <td>47.03</td>\n",
       "    </tr>\n",
       "    <tr>\n",
       "      <th>6</th>\n",
       "      <td>380.0</td>\n",
       "      <td>95.0</td>\n",
       "      <td>0.0</td>\n",
       "      <td>228.0</td>\n",
       "      <td>0.0</td>\n",
       "      <td>932.0</td>\n",
       "      <td>594.0</td>\n",
       "      <td>365</td>\n",
       "      <td>43.70</td>\n",
       "    </tr>\n",
       "    <tr>\n",
       "      <th>7</th>\n",
       "      <td>380.0</td>\n",
       "      <td>95.0</td>\n",
       "      <td>0.0</td>\n",
       "      <td>228.0</td>\n",
       "      <td>0.0</td>\n",
       "      <td>932.0</td>\n",
       "      <td>594.0</td>\n",
       "      <td>28</td>\n",
       "      <td>36.45</td>\n",
       "    </tr>\n",
       "  </tbody>\n",
       "</table>\n",
       "</div>"
      ],
      "text/plain": [
       "   cement  blast  flyash  water  superplasticizer  coarse_aggregate  \\\n",
       "0   540.0    0.0     0.0  162.0               2.5            1040.0   \n",
       "1   540.0    0.0     0.0  162.0               2.5            1055.0   \n",
       "2   332.5  142.5     0.0  228.0               0.0             932.0   \n",
       "3   332.5  142.5     0.0  228.0               0.0             932.0   \n",
       "4   198.6  132.4     0.0  192.0               0.0             978.4   \n",
       "5   266.0  114.0     0.0  228.0               0.0             932.0   \n",
       "6   380.0   95.0     0.0  228.0               0.0             932.0   \n",
       "7   380.0   95.0     0.0  228.0               0.0             932.0   \n",
       "\n",
       "   fine_aggregate  age  compressive_strength  \n",
       "0           676.0   28                 79.99  \n",
       "1           676.0   28                 61.89  \n",
       "2           594.0  270                 40.27  \n",
       "3           594.0  365                 41.05  \n",
       "4           825.5  360                 44.30  \n",
       "5           670.0   90                 47.03  \n",
       "6           594.0  365                 43.70  \n",
       "7           594.0   28                 36.45  "
      ]
     },
     "execution_count": 6,
     "metadata": {},
     "output_type": "execute_result"
    }
   ],
   "source": [
    "# Load Concrete Data file from local file system\n",
    "# concrete_data = pd.read_csv(\"data/concrete.csv\")\n",
    "\n",
    "# Load Concrete Data file from github\n",
    "concrete_data = pd.read_csv(\"https://raw.githubusercontent.com/socratesk/YHatSchoolOfAI/master/data/concrete.csv\")\n",
    "\n",
    "# Print the shape\n",
    "print (concrete_data.shape)\n",
    "\n",
    "# Print few rows to visualize the data\n",
    "concrete_data.head(8)"
   ]
  },
  {
   "cell_type": "code",
   "execution_count": 7,
   "metadata": {},
   "outputs": [
    {
     "data": {
      "text/plain": [
       "cement                  float64\n",
       "blast                   float64\n",
       "flyash                  float64\n",
       "water                   float64\n",
       "superplasticizer        float64\n",
       "coarse_aggregate        float64\n",
       "fine_aggregate          float64\n",
       "age                       int64\n",
       "compressive_strength    float64\n",
       "dtype: object"
      ]
     },
     "execution_count": 7,
     "metadata": {},
     "output_type": "execute_result"
    }
   ],
   "source": [
    "concrete_data.dtypes"
   ]
  },
  {
   "cell_type": "markdown",
   "metadata": {},
   "source": [
    "## <a id='train_test'>3. Split the dataset. Technique: Train-Test split</a>"
   ]
  },
  {
   "cell_type": "code",
   "execution_count": 8,
   "metadata": {},
   "outputs": [
    {
     "name": "stdout",
     "output_type": "stream",
     "text": [
      "Train dataset:  (824, 8) (824,)\n",
      "Test dataset:  (206, 8) (206,)\n"
     ]
    }
   ],
   "source": [
    "\n",
    "# Set the Train and Test split ratio to 80:20\n",
    "SPLIT_RATIO = 0.2\n",
    "\n",
    "# Split the dataset\n",
    "X_train, X_test, Y_train, Y_test = train_test_split(concrete_data.drop('compressive_strength',  axis = 1), \n",
    "                                                    concrete_data['compressive_strength'], \n",
    "                                                    test_size=SPLIT_RATIO, \n",
    "                                                    random_state = 225)\n",
    "\n",
    "# Print the shape of the Train set\n",
    "print(\"Train dataset: \", X_train.shape, Y_train.shape)\n",
    "\n",
    "# Print the shape of the Test set\n",
    "print(\"Test dataset: \", X_test.shape, Y_test.shape)"
   ]
  },
  {
   "cell_type": "markdown",
   "metadata": {},
   "source": [
    "## <a id='linear'>4. Generate Linear Regression Models</a>"
   ]
  },
  {
   "cell_type": "markdown",
   "metadata": {},
   "source": [
    "### <a id='lr_train_test'>4.1 Linear Regression Model</a>"
   ]
  },
  {
   "cell_type": "code",
   "execution_count": 9,
   "metadata": {},
   "outputs": [
    {
     "name": "stdout",
     "output_type": "stream",
     "text": [
      "RMSE of Linear Regression model:  10.19605957879761\n"
     ]
    }
   ],
   "source": [
    "# Generate a Linear Regression object\n",
    "lr_model = LinearRegression()\n",
    "\n",
    "# Train a Linear Regression model with Train dataset\n",
    "lr_model.fit(X_train, Y_train)\n",
    "\n",
    "# Predict the outcome\n",
    "y_hat_lr = lr_model.predict(X_test)\n",
    "\n",
    "# Compute the RMSE score and print it\n",
    "rmse_lr = np.sqrt(metrics.mean_squared_error(Y_test, y_hat_lr))\n",
    "\n",
    "# Compute RMSE score\n",
    "print (\"RMSE of Linear Regression model: \", rmse_lr)"
   ]
  },
  {
   "cell_type": "markdown",
   "metadata": {},
   "source": [
    "#### 4.1.1 Print the Linear Regression Model"
   ]
  },
  {
   "cell_type": "code",
   "execution_count": 10,
   "metadata": {},
   "outputs": [
    {
     "data": {
      "text/plain": [
       "LinearRegression(copy_X=True, fit_intercept=True, n_jobs=None,\n",
       "         normalize=False)"
      ]
     },
     "execution_count": 10,
     "metadata": {},
     "output_type": "execute_result"
    }
   ],
   "source": [
    "lr_model"
   ]
  },
  {
   "cell_type": "markdown",
   "metadata": {},
   "source": [
    "#### 4.1.2 Print the Intercepts and Coefficients of Linear Regression Model"
   ]
  },
  {
   "cell_type": "code",
   "execution_count": 11,
   "metadata": {},
   "outputs": [
    {
     "name": "stdout",
     "output_type": "stream",
     "text": [
      "Intercept of Linear Regression model:  -38.93335491561968 \n",
      "\n",
      "Coefficients of Linear Regression model:  [ 0.12024861  0.10612996  0.0927653  -0.12442753  0.32548598  0.02229789\n",
      "  0.02741065  0.12093165] \n",
      "\n",
      "Coefficients of Linear Regression model with features:  {'cement': 0.1202486147756697, 'blast': 0.10612996310823046, 'flyash': 0.09276530339790859, 'water': -0.12442752542607127, 'superplasticizer': 0.3254859790589661, 'coarse_aggregate': 0.022297887040775552, 'fine_aggregate': 0.02741065279205698, 'age': 0.12093164580804337} \n",
      "\n"
     ]
    }
   ],
   "source": [
    "# Print Y-intercept\n",
    "print (\"Intercept of Linear Regression model: \", lr_model.intercept_, \"\\n\")\n",
    "\n",
    "# Print X-coefficients \n",
    "print (\"Coefficients of Linear Regression model: \", lr_model.coef_, \"\\n\") \n",
    "\n",
    "# Print X-coefficients along with feature names\n",
    "# Before printing combine the feature names and their corresponding coefficients\n",
    "coeff = dict(zip(concrete_data.drop('compressive_strength',  axis = 1).columns, lr_model.coef_))\n",
    "\n",
    "# Print X-coefficients \n",
    "print (\"Coefficients of Linear Regression model with features: \", coeff, \"\\n\")"
   ]
  },
  {
   "cell_type": "markdown",
   "metadata": {},
   "source": [
    "#### 4.1.3 Scatter plot the 'Actual' and 'Predicted' values to visualize how they are related"
   ]
  },
  {
   "cell_type": "code",
   "execution_count": 12,
   "metadata": {},
   "outputs": [
    {
     "data": {
      "text/plain": [
       "Text(0.5, 1.0, \"Scatter plot of 'Actual' and 'Predicted' values - Linear Regression\")"
      ]
     },
     "execution_count": 12,
     "metadata": {},
     "output_type": "execute_result"
    },
    {
     "data": {
      "image/png": "[encoded data removed]",
      "text/plain": [
       "<Figure size 576x432 with 1 Axes>"
      ]
     },
     "metadata": {
      "needs_background": "light"
     },
     "output_type": "display_data"
    }
   ],
   "source": [
    "# Set the plotting area/ size\n",
    "plt.figure(figsize = (8, 6))\n",
    "\n",
    "# Scatter plot the Actual and Predicted values\n",
    "plt.scatter(Y_test, y_hat_lr)\n",
    "plt.xlabel('Actual')\n",
    "plt.ylabel('Predicted')\n",
    "plt.title(\"Scatter plot of 'Actual' and 'Predicted' values - Linear Regression\")"
   ]
  },
  {
   "cell_type": "markdown",
   "metadata": {},
   "source": [
    "#### 4.1.4 Check if the Model is overfit"
   ]
  },
  {
   "cell_type": "code",
   "execution_count": 13,
   "metadata": {},
   "outputs": [
    {
     "name": "stdout",
     "output_type": "stream",
     "text": [
      "RMSE of Linear Regression model:  10.417489654942571\n"
     ]
    }
   ],
   "source": [
    "# Predict the outcome of Train dataset\n",
    "y_hat_train_lr = lr_model.predict(X_train)\n",
    "\n",
    "# Compute the RMSE score and print it\n",
    "rmse_train_lr = np.sqrt(metrics.mean_squared_error(Y_train, y_hat_train_lr))\n",
    "\n",
    "# Compute RMSE score\n",
    "print (\"RMSE of Linear Regression model: \", rmse_train_lr)"
   ]
  },
  {
   "cell_type": "markdown",
   "metadata": {},
   "source": [
    "### <a id='rf_train_test'>4.2 Random Forest Model</a>"
   ]
  },
  {
   "cell_type": "code",
   "execution_count": 25,
   "metadata": {},
   "outputs": [
    {
     "name": "stdout",
     "output_type": "stream",
     "text": [
      "RMSE of Random Forest model:  4.8952888729314825\n",
      "RMSE of Random Forest model-1:  7.253264796428684\n"
     ]
    }
   ],
   "source": [
    "# Generate a Random Forest Regressor object\n",
    "rf_model = RandomForestRegressor(n_estimators=100, random_state=22)\n",
    "rf_model1 = RandomForestRegressor(n_estimators=100, random_state=22)\n",
    "\n",
    "# Train a Random Forest model with Train dataset\n",
    "rf_model.fit(X_train, Y_train)\n",
    "rf_model1.fit(X_test, Y_test)\n",
    "\n",
    "# Predict the outcome\n",
    "y_hat_rf = rf_model.predict(X_test)\n",
    "y_hat_rf1 = rf_model1.predict(X_train)\n",
    "\n",
    "# Compute the RMSE score and print it\n",
    "rmse_rf = np.sqrt(metrics.mean_squared_error(Y_test, y_hat_rf))\n",
    "rmse_rf1 = np.sqrt(metrics.mean_squared_error(Y_train, y_hat_rf1))\n",
    "\n",
    "# Compute RMSE score\n",
    "print (\"RMSE of Random Forest model: \", rmse_rf)\n",
    "print (\"RMSE of Random Forest model-1: \", rmse_rf1)"
   ]
  },
  {
   "cell_type": "markdown",
   "metadata": {},
   "source": [
    "#### 4.2.1 Print the Random Forest Model"
   ]
  },
  {
   "cell_type": "code",
   "execution_count": 18,
   "metadata": {},
   "outputs": [
    {
     "data": {
      "text/plain": [
       "RandomForestRegressor(bootstrap=True, criterion='mse', max_depth=None,\n",
       "           max_features='auto', max_leaf_nodes=None,\n",
       "           min_impurity_decrease=0.0, min_impurity_split=None,\n",
       "           min_samples_leaf=1, min_samples_split=2,\n",
       "           min_weight_fraction_leaf=0.0, n_estimators=100, n_jobs=None,\n",
       "           oob_score=False, random_state=22, verbose=0, warm_start=False)"
      ]
     },
     "execution_count": 18,
     "metadata": {},
     "output_type": "execute_result"
    }
   ],
   "source": [
    "rf_model"
   ]
  },
  {
   "cell_type": "markdown",
   "metadata": {},
   "source": [
    "#### 4.2.2 Scatter plot the 'Actual' and 'Predicted' values to visualize how they are related"
   ]
  },
  {
   "cell_type": "code",
   "execution_count": 29,
   "metadata": {},
   "outputs": [
    {
     "data": {
      "text/plain": [
       "Text(0.5, 1.0, \"Scatter plot of 'Actual' and 'Predicted' values - Random Forest\")"
      ]
     },
     "execution_count": 29,
     "metadata": {},
     "output_type": "execute_result"
    },
    {
     "data": {
      "image/png": "[encoded data removed]",
      "text/plain": [
       "<Figure size 576x432 with 1 Axes>"
      ]
     },
     "metadata": {
      "needs_background": "light"
     },
     "output_type": "display_data"
    }
   ],
   "source": [
    "# Set the plotting area/ size\n",
    "plt.figure(figsize = (8, 6))\n",
    "\n",
    "# Plot the Actual and Predicted values\n",
    "plt.scatter(Y_test, y_hat_rf)\n",
    "plt.xlabel('Actual')\n",
    "plt.ylabel('Predicted')\n",
    "plt.title(\"Scatter plot of 'Actual' and 'Predicted' values - Random Forest\")"
   ]
  },
  {
   "cell_type": "markdown",
   "metadata": {},
   "source": [
    "### Question - How will the above plot look-like if it is a overfit model?"
   ]
  },
  {
   "cell_type": "markdown",
   "metadata": {},
   "source": [
    "### <a id='xgb_train_test'>4.3 XGBoost Regressor Model</a>"
   ]
  },
  {
   "cell_type": "code",
   "execution_count": 39,
   "metadata": {},
   "outputs": [
    {
     "name": "stdout",
     "output_type": "stream",
     "text": [
      "RMSE of XGBoost model:  5.057429031674262\n"
     ]
    }
   ],
   "source": [
    "# Generate a XGBoost object\n",
    "xgb_model = XGBRegressor(learning_rate=0.05,  #  Rate of learning\n",
    "                      subsample=0.75,         #  Subsample ratio of the training instances\n",
    "                      colsample_bytree=0.72,  #  Subsample ratio of columns when constructing each tree\n",
    "                      min_child_weight=6,     #  Min sum of instance weight needed in a child\n",
    "                      objective='reg:squarederror', #  Linear Regression model\n",
    "                      max_depth=8)\n",
    "\n",
    "# TUTORIAL: https://xgboost.readthedocs.io/en/latest/parameter.html\n",
    "\n",
    "# Train a XGBoost model with Train dataset\n",
    "xgb_model.fit(X_train, Y_train)\n",
    "\n",
    "# Predict the outcome\n",
    "y_hat_xgb = xgb_model.predict(X_test)\n",
    "\n",
    "# Compute the RMSE score and print it\n",
    "rmse_xgb = np.sqrt(metrics.mean_squared_error(Y_test, y_hat_xgb))\n",
    "\n",
    "# Compute RMSE score\n",
    "print (\"RMSE of XGBoost model: \", rmse_xgb)"
   ]
  },
  {
   "cell_type": "markdown",
   "metadata": {},
   "source": [
    "#### 4.3.1 Print the XGBoost Model"
   ]
  },
  {
   "cell_type": "code",
   "execution_count": 40,
   "metadata": {},
   "outputs": [
    {
     "data": {
      "text/plain": [
       "XGBRegressor(base_score=0.5, booster='gbtree', colsample_bylevel=1,\n",
       "       colsample_bynode=1, colsample_bytree=0.72, gamma=0,\n",
       "       importance_type='gain', learning_rate=0.05, max_delta_step=0,\n",
       "       max_depth=8, min_child_weight=6, missing=None, n_estimators=100,\n",
       "       n_jobs=1, nthread=None, objective='reg:squarederror',\n",
       "       random_state=0, reg_alpha=0, reg_lambda=1, scale_pos_weight=1,\n",
       "       seed=None, silent=None, subsample=0.75, verbosity=1)"
      ]
     },
     "execution_count": 40,
     "metadata": {},
     "output_type": "execute_result"
    }
   ],
   "source": [
    "xgb_model"
   ]
  },
  {
   "cell_type": "markdown",
   "metadata": {},
   "source": [
    "#### 4.3.2 Scatter plot the 'Actual' and 'Predicted' values to visualize how they are related"
   ]
  },
  {
   "cell_type": "code",
   "execution_count": 33,
   "metadata": {},
   "outputs": [
    {
     "data": {
      "text/plain": [
       "Text(0.5, 1.0, \"Scatter plot of 'Actual' and 'Predicted' values - XGBoost Regressor\")"
      ]
     },
     "execution_count": 33,
     "metadata": {},
     "output_type": "execute_result"
    },
    {
     "data": {
      "image/png": "[encoded data removed]",
      "text/plain": [
       "<Figure size 576x432 with 1 Axes>"
      ]
     },
     "metadata": {
      "needs_background": "light"
     },
     "output_type": "display_data"
    }
   ],
   "source": [
    "# Set the plotting area/ size\n",
    "plt.figure(figsize = (8, 6))\n",
    "\n",
    "# Plot the Actual and Predicted values\n",
    "plt.scatter(Y_test, y_hat_xgb)\n",
    "plt.xlabel('Actual')\n",
    "plt.ylabel('Predicted')\n",
    "plt.title(\"Scatter plot of 'Actual' and 'Predicted' values - XGBoost Regressor\")"
   ]
  },
  {
   "cell_type": "markdown",
   "metadata": {},
   "source": [
    "### <a id='lgb_train_test'>4.4 LightGBM Regressor Model</a>"
   ]
  },
  {
   "cell_type": "code",
   "execution_count": 93,
   "metadata": {},
   "outputs": [],
   "source": [
    "d_train = lgb.Dataset(X_train, label=Y_train)\n",
    "\n",
    "params = {}\n",
    "params['learning_rate'] = 0.3\n",
    "params['boosting_type'] = 'gbdt'      # gradient boosting decision tree\n",
    "params['objective'] = 'regression'\n",
    "params['metric'] = 'rmse'\n",
    "params['sub_feature'] = 0.6           # subset of features on each iteration (tree)\n",
    "params['num_leaves'] = 9             # max number of leaves in one tree\n",
    "params['min_data'] = 5                # minimal number of data in one leaf\n",
    "params['max_depth'] = 5               # max depth for tree model\n",
    "params['seed'] = 5                    # seed\n",
    "\n",
    "lgb_model = lgb.train(params=params, train_set=d_train, num_boost_round=100)    # no of trees"
   ]
  },
  {
   "cell_type": "code",
   "execution_count": 94,
   "metadata": {},
   "outputs": [
    {
     "name": "stdout",
     "output_type": "stream",
     "text": [
      "RMSE of LightGBM model:  4.4853612396609766\n"
     ]
    }
   ],
   "source": [
    "# Predict the outcome\n",
    "y_hat_lgb = lgb_model.predict(X_test)\n",
    "\n",
    "# Compute the RMSE score and print it\n",
    "rmse_lgb = np.sqrt(metrics.mean_squared_error(Y_test, y_hat_lgb))\n",
    "\n",
    "# Compute RMSE score\n",
    "print (\"RMSE of LightGBM model: \", rmse_lgb)"
   ]
  },
  {
   "cell_type": "markdown",
   "metadata": {},
   "source": [
    "#### 4.4.1 Print the LightGBM Model"
   ]
  },
  {
   "cell_type": "code",
   "execution_count": 42,
   "metadata": {},
   "outputs": [
    {
     "data": {
      "text/plain": [
       "<lightgbm.basic.Booster at 0x1a205469b0>"
      ]
     },
     "execution_count": 42,
     "metadata": {},
     "output_type": "execute_result"
    }
   ],
   "source": [
    "lgb_model"
   ]
  },
  {
   "cell_type": "markdown",
   "metadata": {},
   "source": [
    "#### 4.4.2 Scatter plot the 'Actual' and 'Predicted' values to visualize how they are related"
   ]
  },
  {
   "cell_type": "code",
   "execution_count": 37,
   "metadata": {},
   "outputs": [
    {
     "data": {
      "text/plain": [
       "Text(0.5, 1.0, \"Scatter plot of 'Actual' and 'Predicted' values - Light GBM\")"
      ]
     },
     "execution_count": 37,
     "metadata": {},
     "output_type": "execute_result"
    },
    {
     "data": {
      "image/png": "[encoded data removed]",
      "text/plain": [
       "<Figure size 576x432 with 1 Axes>"
      ]
     },
     "metadata": {
      "needs_background": "light"
     },
     "output_type": "display_data"
    }
   ],
   "source": [
    "# Set the plotting area/ size\n",
    "plt.figure(figsize = (8, 6))\n",
    "\n",
    "# Plot the Actual and Predicted values\n",
    "plt.scatter(Y_test, y_hat_lgb)\n",
    "plt.xlabel('Actual')\n",
    "plt.ylabel('Predicted')\n",
    "plt.title(\"Scatter plot of 'Actual' and 'Predicted' values - Light GBM\")"
   ]
  },
  {
   "cell_type": "markdown",
   "metadata": {},
   "source": [
    "### <a id='gbm_train_test'>4.5 Gradient Boosting Machine (GBM) Model</a>"
   ]
  },
  {
   "cell_type": "code",
   "execution_count": 43,
   "metadata": {},
   "outputs": [
    {
     "name": "stdout",
     "output_type": "stream",
     "text": [
      "RMSE of  Gradient Boosting Regressor model:  5.1223549948839615\n"
     ]
    }
   ],
   "source": [
    "# Generate a Gradient Boosting Regressor object\n",
    "gbm_model = GradientBoostingRegressor(n_estimators=100, min_samples_leaf=1, random_state=51)\n",
    "\n",
    "# Train a  Gradient Boosting Regressor model with Train dataset\n",
    "gbm_model.fit(X_train, Y_train)\n",
    "\n",
    "# Predict the outcome\n",
    "y_hat_gbm = gbm_model.predict(X_test)\n",
    "\n",
    "# Compute the RMSE score and print it\n",
    "rmse_gbm = np.sqrt(metrics.mean_squared_error(Y_test, y_hat_gbm))\n",
    "\n",
    "# Compute RMSE score\n",
    "print (\"RMSE of  Gradient Boosting Regressor model: \", rmse_gbm)"
   ]
  },
  {
   "cell_type": "markdown",
   "metadata": {},
   "source": [
    "#### 4.5.1 Print the Gradient Boosting Machine (GBM) Model"
   ]
  },
  {
   "cell_type": "code",
   "execution_count": 44,
   "metadata": {},
   "outputs": [
    {
     "data": {
      "text/plain": [
       "GradientBoostingRegressor(alpha=0.9, criterion='friedman_mse', init=None,\n",
       "             learning_rate=0.1, loss='ls', max_depth=3, max_features=None,\n",
       "             max_leaf_nodes=None, min_impurity_decrease=0.0,\n",
       "             min_impurity_split=None, min_samples_leaf=1,\n",
       "             min_samples_split=2, min_weight_fraction_leaf=0.0,\n",
       "             n_estimators=100, n_iter_no_change=None, presort='auto',\n",
       "             random_state=51, subsample=1.0, tol=0.0001,\n",
       "             validation_fraction=0.1, verbose=0, warm_start=False)"
      ]
     },
     "execution_count": 44,
     "metadata": {},
     "output_type": "execute_result"
    }
   ],
   "source": [
    "gbm_model"
   ]
  },
  {
   "cell_type": "markdown",
   "metadata": {},
   "source": [
    "#### 4.5.2 Scatter plot the 'Actual' and 'Predicted' values to visualize how they are related"
   ]
  },
  {
   "cell_type": "code",
   "execution_count": 45,
   "metadata": {},
   "outputs": [
    {
     "data": {
      "text/plain": [
       "Text(0.5, 1.0, \"Scatter plot of 'Actual' and 'Predicted' values - Gradient Boosting Machine\")"
      ]
     },
     "execution_count": 45,
     "metadata": {},
     "output_type": "execute_result"
    },
    {
     "data": {
      "image/png": "[encoded data removed]",
      "text/plain": [
       "<Figure size 576x432 with 1 Axes>"
      ]
     },
     "metadata": {
      "needs_background": "light"
     },
     "output_type": "display_data"
    }
   ],
   "source": [
    "# Set the plotting area/ size\n",
    "plt.figure(figsize = (8, 6))\n",
    "\n",
    "# Plot the Actual and Predicted values\n",
    "plt.scatter(Y_test, y_hat_gbm)\n",
    "plt.xlabel('Actual')\n",
    "plt.ylabel('Predicted')\n",
    "plt.title(\"Scatter plot of 'Actual' and 'Predicted' values - Gradient Boosting Machine\")"
   ]
  },
  {
   "cell_type": "markdown",
   "metadata": {
    "collapsed": true
   },
   "source": [
    "## <a id='analyze_results'>5. Analyze the model results</a>"
   ]
  },
  {
   "cell_type": "markdown",
   "metadata": {
    "collapsed": true
   },
   "source": [
    "### <a id='scatterplot_models'>5.1 Scatter plot all the model results</a>"
   ]
  },
  {
   "cell_type": "code",
   "execution_count": 46,
   "metadata": {},
   "outputs": [
    {
     "data": {
      "text/plain": [
       "Text(0.5, 1.0, 'Scatter plot Y-actual vs Y-hat - GBM')"
      ]
     },
     "execution_count": 46,
     "metadata": {},
     "output_type": "execute_result"
    },
    {
     "data": {
      "image/png": "[encoded data removed]",
      "text/plain": [
       "<Figure size 1152x720 with 5 Axes>"
      ]
     },
     "metadata": {
      "needs_background": "light"
     },
     "output_type": "display_data"
    }
   ],
   "source": [
    "# Set plotting area/ size\n",
    "plt.figure(1, figsize=(16, 10))\n",
    "\n",
    "# Set first plot in a grid\n",
    "plt.subplot(231)\n",
    "\n",
    "# Plot the Actual and Predicted values\n",
    "plt.scatter(Y_test, y_hat_lr)\n",
    "plt.xlabel('Actual')\n",
    "plt.ylabel('Predicted')\n",
    "plt.title(\"Scatter plot Y-actual vs Y-hat - Linear Regression\")\n",
    "\n",
    "# --------------------------\n",
    "# Set second plot in a grid\n",
    "plt.subplot(232)\n",
    "\n",
    "# Plot the Actual and Predicted values\n",
    "plt.scatter(Y_test, y_hat_rf)\n",
    "plt.xlabel('Actual')\n",
    "plt.ylabel('Predicted')\n",
    "plt.title(\"Scatter plot Y-actual vs Y-hat - Random Forest\")\n",
    "\n",
    "# --------------------------\n",
    "# Set third plot in a grid\n",
    "plt.subplot(233)\n",
    "\n",
    "# Plot the Actual and Predicted values\n",
    "plt.scatter(Y_test, y_hat_xgb)\n",
    "plt.xlabel('Actual')\n",
    "plt.ylabel('Predicted')\n",
    "plt.title(\"Scatter plot Y-actual vs Y-hat - XGBoost\")\n",
    "\n",
    "# --------------------------\n",
    "# Set fourth plot in a grid\n",
    "plt.subplot(234)\n",
    "\n",
    "# Plot the Actual and Predicted values\n",
    "plt.scatter(Y_test, y_hat_lgb)\n",
    "plt.xlabel('Actual')\n",
    "plt.ylabel('Predicted')\n",
    "plt.title(\"Scatter plot Y-actual vs Y-hat - LightGBM\")\n",
    "\n",
    "# --------------------------\n",
    "# Set fifth plot in a grid\n",
    "plt.subplot(235)\n",
    "\n",
    "# Plot the Actual and Predicted values\n",
    "plt.scatter(Y_test, y_hat_gbm)\n",
    "plt.xlabel('Actual')\n",
    "plt.ylabel('Predicted')\n",
    "plt.title(\"Scatter plot Y-actual vs Y-hat - GBM\")"
   ]
  },
  {
   "cell_type": "markdown",
   "metadata": {},
   "source": [
    "### <a id='print_rmse'>5.2 Print RMSE of all models</a>"
   ]
  },
  {
   "cell_type": "code",
   "execution_count": 47,
   "metadata": {
    "scrolled": true
   },
   "outputs": [
    {
     "data": {
      "text/html": [
       "<div>\n",
       "<style scoped>\n",
       "    .dataframe tbody tr th:only-of-type {\n",
       "        vertical-align: middle;\n",
       "    }\n",
       "\n",
       "    .dataframe tbody tr th {\n",
       "        vertical-align: top;\n",
       "    }\n",
       "\n",
       "    .dataframe thead th {\n",
       "        text-align: right;\n",
       "    }\n",
       "</style>\n",
       "<table border=\"1\" class=\"dataframe\">\n",
       "  <thead>\n",
       "    <tr style=\"text-align: right;\">\n",
       "      <th></th>\n",
       "      <th>Linear Regression</th>\n",
       "      <th>Random Forest</th>\n",
       "      <th>XGBoost</th>\n",
       "      <th>LightGBM</th>\n",
       "      <th>GBM</th>\n",
       "    </tr>\n",
       "  </thead>\n",
       "  <tbody>\n",
       "    <tr>\n",
       "      <th>0</th>\n",
       "      <td>10.19606</td>\n",
       "      <td>4.895289</td>\n",
       "      <td>5.057429</td>\n",
       "      <td>4.626158</td>\n",
       "      <td>5.122355</td>\n",
       "    </tr>\n",
       "  </tbody>\n",
       "</table>\n",
       "</div>"
      ],
      "text/plain": [
       "   Linear Regression  Random Forest   XGBoost  LightGBM       GBM\n",
       "0           10.19606       4.895289  5.057429  4.626158  5.122355"
      ]
     },
     "execution_count": 47,
     "metadata": {},
     "output_type": "execute_result"
    }
   ],
   "source": [
    "rmse_df = pd.DataFrame(\n",
    "                    {'Linear Regression': [rmse_lr],\n",
    "                    'Random Forest': [rmse_rf],\n",
    "                    'XGBoost': [rmse_xgb],\n",
    "                    'LightGBM': [rmse_lgb],\n",
    "                    'GBM': [rmse_gbm]}\n",
    ")\n",
    "\n",
    "rmse_df"
   ]
  },
  {
   "cell_type": "markdown",
   "metadata": {},
   "source": [
    "#### While choosing the best model, do not just choose by looking at the lower RMSE value alone. Consider how the data is scattered along the axis, too.\n",
    "\n",
    "#### In this case, based on the above graph and RMSE values, the LightGBM model looks promising. So, if I am particular about selecting only one model as final, I would choose the LightGBM model."
   ]
  },
  {
   "cell_type": "markdown",
   "metadata": {},
   "source": [
    "## <a id='final_model'>6. Train final model</a>"
   ]
  },
  {
   "cell_type": "code",
   "execution_count": 95,
   "metadata": {},
   "outputs": [],
   "source": [
    "d_train = lgb.Dataset(concrete_data.drop('compressive_strength', axis = 1), concrete_data['compressive_strength'])\n",
    "\n",
    "params = {}\n",
    "params['learning_rate'] = 0.3\n",
    "params['boosting_type'] = 'gbdt'\n",
    "params['objective'] = 'regression'\n",
    "params['metric'] = 'rmse'\n",
    "params['sub_feature'] = 0.6\n",
    "params['num_leaves'] = 9\n",
    "params['min_data'] = 5\n",
    "params['max_depth'] = 5\n",
    "params['seed'] = 5      \n",
    "\n",
    "lgb_final_model = lgb.train(params=params, train_set=d_train, num_boost_round=100)"
   ]
  },
  {
   "cell_type": "markdown",
   "metadata": {},
   "source": [
    "## <a id='save_model'>7. Save final model</a>"
   ]
  },
  {
   "cell_type": "code",
   "execution_count": 96,
   "metadata": {},
   "outputs": [],
   "source": [
    "# Persist the final model\n",
    "filename = 'concrete_lgbm_final_model_ver_1_0.sav'\n",
    "pickle.dump(lgb_final_model, open(filename, 'wb'))"
   ]
  },
  {
   "cell_type": "markdown",
   "metadata": {},
   "source": [
    "# Runtime ...."
   ]
  },
  {
   "cell_type": "markdown",
   "metadata": {},
   "source": [
    "## <a id='load_models'>8. Load and use the model</a>"
   ]
  },
  {
   "cell_type": "markdown",
   "metadata": {},
   "source": [
    "### <a id='load_model'>8.1 Load the model</a>"
   ]
  },
  {
   "cell_type": "code",
   "execution_count": 97,
   "metadata": {},
   "outputs": [],
   "source": [
    "# load the model from disk\n",
    "filename = 'concrete_lgbm_final_model_ver_1_0.sav'\n",
    "loaded_model = pickle.load(open(filename, 'rb'))"
   ]
  },
  {
   "cell_type": "markdown",
   "metadata": {},
   "source": [
    "### <a id='use_model'>8.2 Use the model</a>"
   ]
  },
  {
   "cell_type": "markdown",
   "metadata": {},
   "source": [
    "#### 8.2.1 Gather input data. This will be from UI, application, or request object"
   ]
  },
  {
   "cell_type": "code",
   "execution_count": 99,
   "metadata": {},
   "outputs": [],
   "source": [
    "# Collect the input data. USER INPUT\n",
    "cement = 250                                  # int(request.form['cement'])\n",
    "blast = 0.0                                   # int(request.form['blast'])\n",
    "flyash = 97                                   # int(request.form['flyash'])\n",
    "water = 145                                   # int(request.form['water'])\n",
    "superplasticizer = 14                         # int(request.form['superplasticizer'])\n",
    "coarse_aggregate = 950                        # int(request.form['coarse_aggregate'])\n",
    "fine_aggregate = 890                          # int(request.form['fine_aggregate'])\n",
    "age = 15                                      # int(request.form['age'])"
   ]
  },
  {
   "cell_type": "markdown",
   "metadata": {},
   "source": [
    "#### 8.2.2 Form a dataframe using the User-Input"
   ]
  },
  {
   "cell_type": "code",
   "execution_count": 100,
   "metadata": {},
   "outputs": [
    {
     "data": {
      "text/html": [
       "<div>\n",
       "<style scoped>\n",
       "    .dataframe tbody tr th:only-of-type {\n",
       "        vertical-align: middle;\n",
       "    }\n",
       "\n",
       "    .dataframe tbody tr th {\n",
       "        vertical-align: top;\n",
       "    }\n",
       "\n",
       "    .dataframe thead th {\n",
       "        text-align: right;\n",
       "    }\n",
       "</style>\n",
       "<table border=\"1\" class=\"dataframe\">\n",
       "  <thead>\n",
       "    <tr style=\"text-align: right;\">\n",
       "      <th></th>\n",
       "      <th>cement</th>\n",
       "      <th>blast</th>\n",
       "      <th>flyash</th>\n",
       "      <th>water</th>\n",
       "      <th>superplasticizer</th>\n",
       "      <th>coarse_aggregate</th>\n",
       "      <th>fine_aggregate</th>\n",
       "      <th>age</th>\n",
       "    </tr>\n",
       "  </thead>\n",
       "  <tbody>\n",
       "    <tr>\n",
       "      <th>0</th>\n",
       "      <td>250</td>\n",
       "      <td>0.0</td>\n",
       "      <td>97</td>\n",
       "      <td>145</td>\n",
       "      <td>14</td>\n",
       "      <td>950</td>\n",
       "      <td>890</td>\n",
       "      <td>15</td>\n",
       "    </tr>\n",
       "  </tbody>\n",
       "</table>\n",
       "</div>"
      ],
      "text/plain": [
       "   cement  blast  flyash  water  superplasticizer  coarse_aggregate  \\\n",
       "0     250    0.0      97    145                14               950   \n",
       "\n",
       "   fine_aggregate  age  \n",
       "0             890   15  "
      ]
     },
     "execution_count": 100,
     "metadata": {},
     "output_type": "execute_result"
    }
   ],
   "source": [
    "# Form a dataframe with the user input. This approach is originally explained in Pandas class.\n",
    "# Note the '[',  ']' bracket around the input values below. This is because, for Pandas, the values have to be in the LIST form.\n",
    "input_df = pd.DataFrame({\n",
    "                    'cement': [cement],\n",
    "                    'blast': [blast],\n",
    "                    'flyash': [flyash],\n",
    "                    'water': [water],\n",
    "                    'superplasticizer': [superplasticizer],\n",
    "                    'coarse_aggregate': [coarse_aggregate],\n",
    "                    'fine_aggregate': [fine_aggregate], \n",
    "                    'age': [age]\n",
    "                    }\n",
    ")\n",
    "\n",
    "# ****** NOTE: If you have done any feature engineering in the training set, then the same thing has to be \n",
    "# ****** carried-out in user-input as well. This is the right place where you have to carry-out the \n",
    "# ****** feature update on the input dataset.\n",
    "\n",
    "# Print the input request dataframe\n",
    "input_df"
   ]
  },
  {
   "cell_type": "markdown",
   "metadata": {},
   "source": [
    "#### 8.2.3 Predict Outcome"
   ]
  },
  {
   "cell_type": "code",
   "execution_count": 101,
   "metadata": {},
   "outputs": [
    {
     "name": "stdout",
     "output_type": "stream",
     "text": [
      "Predicted compressive strength of the concrete:  31.552569648191582 MPa\n"
     ]
    }
   ],
   "source": [
    "# Predict the outcome for the input values using ML model.\n",
    "# The result will be returned as NumPy array, even for one instance/ datapoint\n",
    "comp_strength = loaded_model.predict(input_df)\n",
    "\n",
    "# Print the predicted value\n",
    "print('Predicted compressive strength of the concrete: ', comp_strength[0] , 'MPa')"
   ]
  },
  {
   "cell_type": "code",
   "execution_count": null,
   "metadata": {
    "collapsed": true
   },
   "outputs": [],
   "source": []
  }
 ],
 "metadata": {
  "kernelspec": {
   "display_name": "Python 3",
   "language": "python",
   "name": "python3"
  },
  "language_info": {
   "codemirror_mode": {
    "name": "ipython",
    "version": 3
   },
   "file_extension": ".py",
   "mimetype": "text/x-python",
   "name": "python",
   "nbconvert_exporter": "python",
   "pygments_lexer": "ipython3",
   "version": "3.7.3"
  }
 },
 "nbformat": 4,
 "nbformat_minor": 2
}
