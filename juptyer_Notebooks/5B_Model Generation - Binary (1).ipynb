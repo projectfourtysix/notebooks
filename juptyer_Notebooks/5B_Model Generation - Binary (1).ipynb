{
 "cells": [
  {
   "cell_type": "markdown",
   "metadata": {},
   "source": [
    "# Machine Learning Model Generation - Binary Classification"
   ]
  },
  {
   "cell_type": "markdown",
   "metadata": {},
   "source": [
    "### 1. [Tutorial links](#tutorials)\n",
    "### 2. [Load CSV File](#csv_file)\n",
    "### 3. [Split the dataset. _Technique: Train-Test split_](#train_test)\n",
    "### 4. [Generate Binary Classification Models using Train-Test split](#binomial_train_test)\n",
    "\n",
    "> #### 4.1. [Logistic Regression Model using Train-Test split](#lr_train_test)\n",
    "#### 4.2. [Random Forest Model using Train-Test split](#rf_train_test)\n",
    "#### 4.3. [k-Nearest Neighbor Model using Train-Test split](#knn_train_test)\n",
    "#### 4.4. [Support Vector Machine (SVM) Model using Train-Test split](#svm_train_test)\n",
    "#### 4.5. [XGBoost Classifier Model using Train-Test split](#xgb_train_test)\n",
    "\n",
    "### 5. [Analyze the model results](#analyze_results)\n",
    "\n",
    "> #### 5.1. [Print Accuracy and AUC of all models](#print_AUC)\n",
    "\n",
    "### 6. [Split the dataset. _Technique: K-Fold Cross Validation_](#k_fold)\n",
    "### 7. [Generate Binary Classification Models using K-Fold split](#binomial_kfold)\n",
    "> #### 7.1. [Logistic Regression Model using K-Fold split](#lr_kfold)\n",
    "#### 7.2. [Random Forest Model using K-Fold split](#rf_kfold)\n",
    "#### 7.3. [k-Nearest Neighbor Model using K-Fold split](#knn_kfold)\n",
    "#### 7.4. [Support Vector Machine (SVM) Model using K-Fold split](#svm_kfold)\n",
    "#### 7.5. [XGBoost Classifier Model using K-Fold split](#xgb_kfold)\n"
   ]
  },
  {
   "cell_type": "markdown",
   "metadata": {},
   "source": [
    "## <a id='tutorials'>1. Tutorial links</a>"
   ]
  },
  {
   "cell_type": "raw",
   "metadata": {},
   "source": [
    "# Logistic Regression Tutorial/ documentation:\n",
    "https://scikit-learn.org/stable/modules/generated/sklearn.linear_model.LogisticRegression.html\n",
    "\n",
    "# Random Forest Classifier Tutorial/ documentation:\n",
    "https://scikit-learn.org/stable/modules/generated/sklearn.ensemble.RandomForestClassifier.html\n",
    " \n",
    "# k-Nearest Neighbor Tutorial/ documentation:\n",
    "https://scikit-learn.org/stable/modules/generated/sklearn.neighbors.KNeighborsClassifier.html\n",
    "    \n",
    "# Support Vector Machine (svm) Tutorial/ documentation:    \n",
    "https://scikit-learn.org/stable/modules/svm.html\n",
    "\n",
    "# Support Vector Machine (svm) Tutorial/ documentation FOR PROBABILITY:\n",
    "https://scikit-learn.org/stable/modules/generated/sklearn.svm.SVC.html\n",
    "\n",
    "# XGBoost Tutorial/ documentation:\n",
    "https://xgboost.readthedocs.io/en/latest/python/python_api.html#module-xgboost.sklearn\n",
    "\n",
    "# Evaluation Techniques\n",
    "http://blog.socratesk.com/blog/2018/10/21/validation-strategies"
   ]
  },
  {
   "cell_type": "markdown",
   "metadata": {},
   "source": [
    "### Load libraries"
   ]
  },
  {
   "cell_type": "code",
   "execution_count": 53,
   "metadata": {},
   "outputs": [],
   "source": [
    "# Import pandas library\n",
    "import pandas as pd\n",
    "\n",
    "# Import numpy library\n",
    "import numpy as np\n",
    "\n",
    "# Import Train-Test split library\n",
    "from sklearn.linear_model import LogisticRegression\n",
    "\n",
    "# Import RandomForestClassifier library\n",
    "from sklearn.ensemble import RandomForestClassifier\n",
    "\n",
    "# Import KNeighborsClassifier library\n",
    "from sklearn.neighbors import KNeighborsClassifier\n",
    "\n",
    "# Import Support Vector Machine (SVM) library\n",
    "from sklearn import svm\n",
    "\n",
    "# Import XGBClassifier library\n",
    "from xgboost import XGBClassifier\n",
    "\n",
    "# Import Train-Test split library\n",
    "from sklearn.model_selection import train_test_split\n",
    "\n",
    "# Import KFold split library\n",
    "from sklearn.model_selection import KFold\n",
    "\n",
    "# Import XGBClassifier library\n",
    "from xgboost import XGBClassifier\n",
    "\n",
    "# Import accuracy score computing library\n",
    "from sklearn.metrics import accuracy_score\n",
    "\n",
    "# Import metrics library\n",
    "from sklearn import metrics\n",
    "\n",
    "# Import matplotlib library\n",
    "import matplotlib.pyplot as plt\n",
    "%matplotlib inline\n",
    "\n",
    "# Import warnings\n",
    "import warnings\n",
    "warnings.filterwarnings('ignore')"
   ]
  },
  {
   "cell_type": "markdown",
   "metadata": {},
   "source": [
    "### <a id='csv_file'>2. Load CSV file saved locally after Feature Engineering<a>"
   ]
  },
  {
   "cell_type": "code",
   "execution_count": 54,
   "metadata": {},
   "outputs": [
    {
     "name": "stdout",
     "output_type": "stream",
     "text": [
      "(601, 10)\n"
     ]
    },
    {
     "data": {
      "text/html": [
       "<div>\n",
       "<style scoped>\n",
       "    .dataframe tbody tr th:only-of-type {\n",
       "        vertical-align: middle;\n",
       "    }\n",
       "\n",
       "    .dataframe tbody tr th {\n",
       "        vertical-align: top;\n",
       "    }\n",
       "\n",
       "    .dataframe thead th {\n",
       "        text-align: right;\n",
       "    }\n",
       "</style>\n",
       "<table border=\"1\" class=\"dataframe\">\n",
       "  <thead>\n",
       "    <tr style=\"text-align: right;\">\n",
       "      <th></th>\n",
       "      <th>LoanAmount</th>\n",
       "      <th>Loan_Amount_Term</th>\n",
       "      <th>Credit_History</th>\n",
       "      <th>TotalIncome_log</th>\n",
       "      <th>income_per_person_log</th>\n",
       "      <th>Gender_label</th>\n",
       "      <th>Married_label</th>\n",
       "      <th>Education_label</th>\n",
       "      <th>Self_Employed_label</th>\n",
       "      <th>Loan_Status</th>\n",
       "    </tr>\n",
       "  </thead>\n",
       "  <tbody>\n",
       "    <tr>\n",
       "      <th>0</th>\n",
       "      <td>120.0</td>\n",
       "      <td>360.0</td>\n",
       "      <td>1.0</td>\n",
       "      <td>8.674026</td>\n",
       "      <td>8.674026</td>\n",
       "      <td>1</td>\n",
       "      <td>0</td>\n",
       "      <td>0</td>\n",
       "      <td>0</td>\n",
       "      <td>1</td>\n",
       "    </tr>\n",
       "    <tr>\n",
       "      <th>1</th>\n",
       "      <td>128.0</td>\n",
       "      <td>360.0</td>\n",
       "      <td>1.0</td>\n",
       "      <td>8.714568</td>\n",
       "      <td>8.021420</td>\n",
       "      <td>1</td>\n",
       "      <td>1</td>\n",
       "      <td>0</td>\n",
       "      <td>0</td>\n",
       "      <td>0</td>\n",
       "    </tr>\n",
       "    <tr>\n",
       "      <th>2</th>\n",
       "      <td>66.0</td>\n",
       "      <td>360.0</td>\n",
       "      <td>1.0</td>\n",
       "      <td>8.006368</td>\n",
       "      <td>8.006368</td>\n",
       "      <td>1</td>\n",
       "      <td>1</td>\n",
       "      <td>0</td>\n",
       "      <td>1</td>\n",
       "      <td>1</td>\n",
       "    </tr>\n",
       "    <tr>\n",
       "      <th>3</th>\n",
       "      <td>120.0</td>\n",
       "      <td>360.0</td>\n",
       "      <td>1.0</td>\n",
       "      <td>8.505323</td>\n",
       "      <td>8.505323</td>\n",
       "      <td>1</td>\n",
       "      <td>1</td>\n",
       "      <td>1</td>\n",
       "      <td>0</td>\n",
       "      <td>1</td>\n",
       "    </tr>\n",
       "    <tr>\n",
       "      <th>4</th>\n",
       "      <td>141.0</td>\n",
       "      <td>360.0</td>\n",
       "      <td>1.0</td>\n",
       "      <td>8.699515</td>\n",
       "      <td>8.699515</td>\n",
       "      <td>1</td>\n",
       "      <td>0</td>\n",
       "      <td>0</td>\n",
       "      <td>0</td>\n",
       "      <td>1</td>\n",
       "    </tr>\n",
       "  </tbody>\n",
       "</table>\n",
       "</div>"
      ],
      "text/plain": [
       "   LoanAmount  Loan_Amount_Term  Credit_History  TotalIncome_log  \\\n",
       "0       120.0             360.0             1.0         8.674026   \n",
       "1       128.0             360.0             1.0         8.714568   \n",
       "2        66.0             360.0             1.0         8.006368   \n",
       "3       120.0             360.0             1.0         8.505323   \n",
       "4       141.0             360.0             1.0         8.699515   \n",
       "\n",
       "   income_per_person_log  Gender_label  Married_label  Education_label  \\\n",
       "0               8.674026             1              0                0   \n",
       "1               8.021420             1              1                0   \n",
       "2               8.006368             1              1                0   \n",
       "3               8.505323             1              1                1   \n",
       "4               8.699515             1              0                0   \n",
       "\n",
       "   Self_Employed_label  Loan_Status  \n",
       "0                    0            1  \n",
       "1                    0            0  \n",
       "2                    1            1  \n",
       "3                    0            1  \n",
       "4                    0            1  "
      ]
     },
     "execution_count": 54,
     "metadata": {},
     "output_type": "execute_result"
    }
   ],
   "source": [
    "# Load Loan Data file that is saved after Feature Engineering from local disk\n",
    "loan_data = pd.read_csv(\"LoanData_final.csv\")\n",
    "\n",
    "# Print the shape\n",
    "print (loan_data.shape)\n",
    "\n",
    "# Print few rows to visualize the data\n",
    "loan_data.head()"
   ]
  },
  {
   "cell_type": "markdown",
   "metadata": {},
   "source": [
    "## <a id='train_test'>3. Split the dataset. _Technique: Train-Test split_</a>"
   ]
  },
  {
   "cell_type": "code",
   "execution_count": 20,
   "metadata": {},
   "outputs": [
    {
     "name": "stdout",
     "output_type": "stream",
     "text": [
      "Train dataset:  (480, 9) (480,)\n",
      "Test dataset:  (121, 9) (121,)\n"
     ]
    }
   ],
   "source": [
    "# Set the Train and Test split ratio to 80:20\n",
    "SPLIT_RATIO = 0.2\n",
    "\n",
    "# Split the dataset\n",
    "X_train, X_test, Y_train, Y_test = train_test_split(loan_data.drop('Loan_Status',  axis = 1), \n",
    "                                                    loan_data['Loan_Status'], \n",
    "                                                    test_size=SPLIT_RATIO, \n",
    "                                                    random_state = 21345)\n",
    "\n",
    "# Print the shape of the Train set\n",
    "print(\"Train dataset: \", X_train.shape, Y_train.shape)\n",
    "\n",
    "# Print the shape of the Test set\n",
    "print(\"Test dataset: \", X_test.shape, Y_test.shape)"
   ]
  },
  {
   "cell_type": "markdown",
   "metadata": {},
   "source": [
    "## <a id='binomial_train_test'>4. Generate Binary Classification Models using Train-Test split</a>"
   ]
  },
  {
   "cell_type": "markdown",
   "metadata": {},
   "source": [
    "### <a id='lr_train_test'>4.1 Logistic Regression Model using Train-Test split</a>"
   ]
  },
  {
   "cell_type": "code",
   "execution_count": 21,
   "metadata": {},
   "outputs": [
    {
     "name": "stdout",
     "output_type": "stream",
     "text": [
      "First few predicted Loan Status values: [1 1 1 1 1 1 0 1] \n",
      "\n",
      "Accuracy of Logistic Regression model: 0.7933884297520661\n"
     ]
    },
    {
     "data": {
      "text/html": [
       "<div>\n",
       "<style scoped>\n",
       "    .dataframe tbody tr th:only-of-type {\n",
       "        vertical-align: middle;\n",
       "    }\n",
       "\n",
       "    .dataframe tbody tr th {\n",
       "        vertical-align: top;\n",
       "    }\n",
       "\n",
       "    .dataframe thead th {\n",
       "        text-align: right;\n",
       "    }\n",
       "</style>\n",
       "<table border=\"1\" class=\"dataframe\">\n",
       "  <thead>\n",
       "    <tr style=\"text-align: right;\">\n",
       "      <th>Predicted</th>\n",
       "      <th>0</th>\n",
       "      <th>1</th>\n",
       "      <th>All</th>\n",
       "    </tr>\n",
       "    <tr>\n",
       "      <th>Actual</th>\n",
       "      <th></th>\n",
       "      <th></th>\n",
       "      <th></th>\n",
       "    </tr>\n",
       "  </thead>\n",
       "  <tbody>\n",
       "    <tr>\n",
       "      <th>0</th>\n",
       "      <td>18</td>\n",
       "      <td>23</td>\n",
       "      <td>41</td>\n",
       "    </tr>\n",
       "    <tr>\n",
       "      <th>1</th>\n",
       "      <td>2</td>\n",
       "      <td>78</td>\n",
       "      <td>80</td>\n",
       "    </tr>\n",
       "    <tr>\n",
       "      <th>All</th>\n",
       "      <td>20</td>\n",
       "      <td>101</td>\n",
       "      <td>121</td>\n",
       "    </tr>\n",
       "  </tbody>\n",
       "</table>\n",
       "</div>"
      ],
      "text/plain": [
       "Predicted   0    1  All\n",
       "Actual                 \n",
       "0          18   23   41\n",
       "1           2   78   80\n",
       "All        20  101  121"
      ]
     },
     "execution_count": 21,
     "metadata": {},
     "output_type": "execute_result"
    }
   ],
   "source": [
    "# Generate a Logistic Regression object\n",
    "# liblinear removes warning due to backward compatibility. NOT Important\n",
    "lr_model = LogisticRegression(solver='liblinear', random_state=2011)\n",
    "\n",
    "# Train a Logistic Regression model with Train dataset\n",
    "lr_model.fit(X_train, Y_train)\n",
    "\n",
    "# Predict the outcome\n",
    "y_hat_lr = lr_model.predict(X_test)\n",
    "\n",
    "# Compute the accuracy score and print it\n",
    "accuracy_lr = accuracy_score(Y_test, y_hat_lr)\n",
    "\n",
    "# Print first 8 rows to visualize the prediction.\n",
    "print (\"First few predicted Loan Status values:\", y_hat_lr[:8], \"\\n\")\n",
    "\n",
    "# Compute accuracy score\n",
    "print (\"Accuracy of Logistic Regression model:\", accuracy_lr)\n",
    "\n",
    "# Print confusion matrix of actual and predicted values using Crosstab function\n",
    "pd.crosstab(Y_test, y_hat_lr, rownames=['Actual'], colnames=['Predicted'], margins=True)"
   ]
  },
  {
   "cell_type": "markdown",
   "metadata": {},
   "source": [
    "#### 4.1.1 Print Logistic Regression Model parameters"
   ]
  },
  {
   "cell_type": "code",
   "execution_count": 22,
   "metadata": {},
   "outputs": [
    {
     "data": {
      "text/plain": [
       "LogisticRegression(C=1.0, class_weight=None, dual=False, fit_intercept=True,\n",
       "          intercept_scaling=1, max_iter=100, multi_class='warn',\n",
       "          n_jobs=None, penalty='l2', random_state=2011, solver='liblinear',\n",
       "          tol=0.0001, verbose=0, warm_start=False)"
      ]
     },
     "execution_count": 22,
     "metadata": {},
     "output_type": "execute_result"
    }
   ],
   "source": [
    "# Print the Linear Regression Model\n",
    "lr_model"
   ]
  },
  {
   "cell_type": "markdown",
   "metadata": {},
   "source": [
    "#### 4.1.2 To output the Binary Probability using Logistic Regression model ..."
   ]
  },
  {
   "cell_type": "markdown",
   "metadata": {},
   "source": [
    "As we discussed in one of the classes earlier, the Classifier models accept the Train dataset and generate the model that is capable of predicting **\"the probability of the outcome\"**. <br>\n",
    "\n",
    "In the above example, we used **`lr_model.predict(X_test)`** to predict the binary outcome. However, if you want a binary probability outcome, do the following -"
   ]
  },
  {
   "cell_type": "code",
   "execution_count": 23,
   "metadata": {},
   "outputs": [
    {
     "data": {
      "text/plain": [
       "array([[0.25256429, 0.74743571],\n",
       "       [0.23298107, 0.76701893],\n",
       "       [0.16059218, 0.83940782],\n",
       "       [0.16794134, 0.83205866],\n",
       "       [0.15135649, 0.84864351],\n",
       "       [0.10591146, 0.89408854],\n",
       "       [0.81921599, 0.18078401],\n",
       "       [0.1856494 , 0.8143506 ]])"
      ]
     },
     "execution_count": 23,
     "metadata": {},
     "output_type": "execute_result"
    }
   ],
   "source": [
    "# Predict the binary probability outcome\n",
    "y_hat_lr_proba = lr_model.predict_proba(X_test)\n",
    "\n",
    "# Print first 8 rows to visualize the prediction.\n",
    "y_hat_lr_proba[:8]"
   ]
  },
  {
   "cell_type": "markdown",
   "metadata": {},
   "source": [
    "#### 4.1.3 To draw Area Under the Curve (AUC) of Logistic Regression model ..."
   ]
  },
  {
   "cell_type": "code",
   "execution_count": 24,
   "metadata": {},
   "outputs": [
    {
     "data": {
      "text/plain": [
       "[<matplotlib.lines.Line2D at 0x1a17adbc88>]"
      ]
     },
     "execution_count": 24,
     "metadata": {},
     "output_type": "execute_result"
    },
    {
     "data": {
      "image/png": "[encoded data removed]",
      "text/plain": [
       "<Figure size 576x576 with 1 Axes>"
      ]
     },
     "metadata": {
      "needs_background": "light"
     },
     "output_type": "display_data"
    }
   ],
   "source": [
    "# Compute area under the curve (AUC)\n",
    "auc_lr = metrics.roc_auc_score(Y_test, y_hat_lr_proba[:, 1])\n",
    "\n",
    "# Compute False Positive Rate, True Positive Rate, and Thresholds using metrics library\n",
    "fpr, tpr, threshold = metrics.roc_curve(Y_test, y_hat_lr_proba[:, 1])\n",
    "\n",
    "# Set the plotting area/ size\n",
    "plt.figure(figsize = (8, 8))\n",
    "\n",
    "# Plot the AUC curve\n",
    "plt.plot(fpr, tpr, label='AUC =' + str(auc_lr), color='b')\n",
    "plt.legend(loc=8)\n",
    "\n",
    "# Plot the base line (diagonal dotted line)\n",
    "plt.plot([0, 1], [0, 1], 'k-.', lw=1)\n",
    "\n",
    "x = [0, 1, 1]\n",
    "y = [0, 0, 1]\n",
    "# Plot the base line (diagonal dotted line)\n",
    "plt.plot(x, y, 'k-',  color='b')"
   ]
  },
  {
   "cell_type": "markdown",
   "metadata": {},
   "source": [
    "#### 4.1.4 Scatterplot the actual and predicted classifications."
   ]
  },
  {
   "cell_type": "code",
   "execution_count": 25,
   "metadata": {},
   "outputs": [
    {
     "data": {
      "text/plain": [
       "Text(0.5, 1.0, \"Scatter plot of 'Actual' and 'Predicted' values - Logistic Regression\")"
      ]
     },
     "execution_count": 25,
     "metadata": {},
     "output_type": "execute_result"
    },
    {
     "data": {
      "image/png": "[encoded data removed]",
      "text/plain": [
       "<Figure size 864x432 with 1 Axes>"
      ]
     },
     "metadata": {
      "needs_background": "light"
     },
     "output_type": "display_data"
    }
   ],
   "source": [
    "y_hat_lr_list=y_hat_lr_proba[:, 1:2].tolist()\n",
    "\n",
    "# Set the plotting area/ size\n",
    "plt.figure(figsize = (12, 6))\n",
    "\n",
    "# Scatter plot the Actual and Predicted values\n",
    "plt.scatter(y_hat_lr_list, Y_test)\n",
    "plt.axvline(x=0.5, c='darkorange')\n",
    "plt.ylabel('Actual')\n",
    "plt.xlabel('Predicted')\n",
    "plt.title(\"Scatter plot of 'Actual' and 'Predicted' values - Logistic Regression\")"
   ]
  },
  {
   "cell_type": "markdown",
   "metadata": {},
   "source": [
    "### <a id='rf_train_test'>4.2 Random Forest Model using Train-Test split</a>"
   ]
  },
  {
   "cell_type": "code",
   "execution_count": 26,
   "metadata": {},
   "outputs": [
    {
     "name": "stdout",
     "output_type": "stream",
     "text": [
      "First few predicted Loan Status values: [1 1 1 1 1 1 0 1] \n",
      "\n",
      "Accuracy of Random Forest model: 0.8181818181818182\n"
     ]
    },
    {
     "data": {
      "text/html": [
       "<div>\n",
       "<style scoped>\n",
       "    .dataframe tbody tr th:only-of-type {\n",
       "        vertical-align: middle;\n",
       "    }\n",
       "\n",
       "    .dataframe tbody tr th {\n",
       "        vertical-align: top;\n",
       "    }\n",
       "\n",
       "    .dataframe thead th {\n",
       "        text-align: right;\n",
       "    }\n",
       "</style>\n",
       "<table border=\"1\" class=\"dataframe\">\n",
       "  <thead>\n",
       "    <tr style=\"text-align: right;\">\n",
       "      <th>Predicted</th>\n",
       "      <th>0</th>\n",
       "      <th>1</th>\n",
       "      <th>All</th>\n",
       "    </tr>\n",
       "    <tr>\n",
       "      <th>Actual</th>\n",
       "      <th></th>\n",
       "      <th></th>\n",
       "      <th></th>\n",
       "    </tr>\n",
       "  </thead>\n",
       "  <tbody>\n",
       "    <tr>\n",
       "      <th>0</th>\n",
       "      <td>22</td>\n",
       "      <td>19</td>\n",
       "      <td>41</td>\n",
       "    </tr>\n",
       "    <tr>\n",
       "      <th>1</th>\n",
       "      <td>3</td>\n",
       "      <td>77</td>\n",
       "      <td>80</td>\n",
       "    </tr>\n",
       "    <tr>\n",
       "      <th>All</th>\n",
       "      <td>25</td>\n",
       "      <td>96</td>\n",
       "      <td>121</td>\n",
       "    </tr>\n",
       "  </tbody>\n",
       "</table>\n",
       "</div>"
      ],
      "text/plain": [
       "Predicted   0   1  All\n",
       "Actual                \n",
       "0          22  19   41\n",
       "1           3  77   80\n",
       "All        25  96  121"
      ]
     },
     "execution_count": 26,
     "metadata": {},
     "output_type": "execute_result"
    }
   ],
   "source": [
    "# Generate a Random Forest Classifier object\n",
    "rf_model = RandomForestClassifier(n_estimators=100, min_samples_leaf=1, random_state=2202)\n",
    "\n",
    "# n_estimators - represents no of trees in the forest\n",
    "# n_jobs - No of cores to be used\n",
    "# max_depth - depth of each tree in the forest\n",
    "# min_samples_split - Minimum number of samples required to split an internal node\n",
    "# min_samples_leaf  - Minimum number of samples required to be at a leaf node\n",
    "# max_features - the number of features to consider when looking for best split\n",
    "\n",
    "# Train a Random Forest model with Train dataset\n",
    "rf_model.fit(X_train, Y_train)\n",
    "\n",
    "# Predict the outcome\n",
    "y_hat_rf = rf_model.predict(X_test)\n",
    "\n",
    "# Compute the accuracy score and print it\n",
    "accuracy_rf = accuracy_score(Y_test, y_hat_rf)\n",
    "\n",
    "# Print first 8 rows to visualize the prediction.\n",
    "print (\"First few predicted Loan Status values:\", y_hat_rf[:8], \"\\n\")\n",
    "\n",
    "# Compute accuracy score\n",
    "print (\"Accuracy of Random Forest model:\", accuracy_rf)\n",
    "\n",
    "# Print confusion matrix of actual and predicted values using Crosstab function\n",
    "pd.crosstab(Y_test, y_hat_rf, rownames=['Actual'], colnames=['Predicted'], margins=True)"
   ]
  },
  {
   "cell_type": "markdown",
   "metadata": {},
   "source": [
    "#### 4.2.1 Print Random Forest Model parameters"
   ]
  },
  {
   "cell_type": "code",
   "execution_count": 27,
   "metadata": {},
   "outputs": [
    {
     "data": {
      "text/plain": [
       "RandomForestClassifier(bootstrap=True, class_weight=None, criterion='gini',\n",
       "            max_depth=None, max_features='auto', max_leaf_nodes=None,\n",
       "            min_impurity_decrease=0.0, min_impurity_split=None,\n",
       "            min_samples_leaf=1, min_samples_split=2,\n",
       "            min_weight_fraction_leaf=0.0, n_estimators=100, n_jobs=None,\n",
       "            oob_score=False, random_state=2202, verbose=0,\n",
       "            warm_start=False)"
      ]
     },
     "execution_count": 27,
     "metadata": {},
     "output_type": "execute_result"
    }
   ],
   "source": [
    "# Print the Random Forest Model\n",
    "rf_model"
   ]
  },
  {
   "cell_type": "markdown",
   "metadata": {},
   "source": [
    "#### 4.2.2 To output the Binary Probability using Random Forest model ..."
   ]
  },
  {
   "cell_type": "code",
   "execution_count": 28,
   "metadata": {},
   "outputs": [
    {
     "data": {
      "text/plain": [
       "array([[0.31, 0.69],\n",
       "       [0.23, 0.77],\n",
       "       [0.2 , 0.8 ],\n",
       "       [0.07, 0.93],\n",
       "       [0.34, 0.66],\n",
       "       [0.31, 0.69],\n",
       "       [0.93, 0.07],\n",
       "       [0.07, 0.93]])"
      ]
     },
     "execution_count": 28,
     "metadata": {},
     "output_type": "execute_result"
    }
   ],
   "source": [
    "# Predict the binary probability outcome\n",
    "y_hat_rf_proba = rf_model.predict_proba(X_test)\n",
    "\n",
    "# Print first 8 rows to visualize the prediction.\n",
    "y_hat_rf_proba[:8]"
   ]
  },
  {
   "cell_type": "markdown",
   "metadata": {},
   "source": [
    "#### 4.2.3 To draw Area Under the Curve (AUC) of Random Forest model ..."
   ]
  },
  {
   "cell_type": "code",
   "execution_count": 29,
   "metadata": {},
   "outputs": [
    {
     "data": {
      "text/plain": [
       "[<matplotlib.lines.Line2D at 0x1a17b99390>]"
      ]
     },
     "execution_count": 29,
     "metadata": {},
     "output_type": "execute_result"
    },
    {
     "data": {
      "image/png": "[encoded data removed]",
      "text/plain": [
       "<Figure size 576x576 with 1 Axes>"
      ]
     },
     "metadata": {
      "needs_background": "light"
     },
     "output_type": "display_data"
    }
   ],
   "source": [
    "# Compute area under the curve (AUC)\n",
    "auc_rf = metrics.roc_auc_score(Y_test, y_hat_rf_proba[:, 1])\n",
    "\n",
    "# Compute False Positive Rate, True Positive Rate, and Thresholds using metrics library\n",
    "fpr, tpr, threshold = metrics.roc_curve(Y_test, y_hat_rf_proba[:, 1])\n",
    "\n",
    "# Set the plotting area/ size\n",
    "plt.figure(figsize = (8, 8))\n",
    "\n",
    "# Plot the AUC curve\n",
    "plt.plot(fpr, tpr, label='AUC =' + str(auc_rf), color='b')\n",
    "plt.legend(loc=8)\n",
    "\n",
    "# Plot the base line (diagonal dotted line)\n",
    "plt.plot([0, 1], [0, 1], 'k-.', lw=1)\n",
    "\n",
    "x = [0, 1, 1]\n",
    "y = [0, 0, 1]\n",
    "# Plot the base line (diagonal dotted line)\n",
    "plt.plot(x, y, 'k-',  color='b')"
   ]
  },
  {
   "cell_type": "markdown",
   "metadata": {},
   "source": [
    "### <a id='knn_train_test'>4.3 k-Nearest Neighbor Model using Train-Test split</a>"
   ]
  },
  {
   "cell_type": "code",
   "execution_count": 30,
   "metadata": {},
   "outputs": [
    {
     "name": "stdout",
     "output_type": "stream",
     "text": [
      "First few predicted Loan Status values: [1 1 1 1 1 1 1 1] \n",
      "\n",
      "Accuracy of k-Nearest Neighbor model: 0.6363636363636364\n"
     ]
    },
    {
     "data": {
      "text/html": [
       "<div>\n",
       "<style scoped>\n",
       "    .dataframe tbody tr th:only-of-type {\n",
       "        vertical-align: middle;\n",
       "    }\n",
       "\n",
       "    .dataframe tbody tr th {\n",
       "        vertical-align: top;\n",
       "    }\n",
       "\n",
       "    .dataframe thead th {\n",
       "        text-align: right;\n",
       "    }\n",
       "</style>\n",
       "<table border=\"1\" class=\"dataframe\">\n",
       "  <thead>\n",
       "    <tr style=\"text-align: right;\">\n",
       "      <th>Predicted</th>\n",
       "      <th>0</th>\n",
       "      <th>1</th>\n",
       "      <th>All</th>\n",
       "    </tr>\n",
       "    <tr>\n",
       "      <th>Actual</th>\n",
       "      <th></th>\n",
       "      <th></th>\n",
       "      <th></th>\n",
       "    </tr>\n",
       "  </thead>\n",
       "  <tbody>\n",
       "    <tr>\n",
       "      <th>0</th>\n",
       "      <td>4</td>\n",
       "      <td>37</td>\n",
       "      <td>41</td>\n",
       "    </tr>\n",
       "    <tr>\n",
       "      <th>1</th>\n",
       "      <td>7</td>\n",
       "      <td>73</td>\n",
       "      <td>80</td>\n",
       "    </tr>\n",
       "    <tr>\n",
       "      <th>All</th>\n",
       "      <td>11</td>\n",
       "      <td>110</td>\n",
       "      <td>121</td>\n",
       "    </tr>\n",
       "  </tbody>\n",
       "</table>\n",
       "</div>"
      ],
      "text/plain": [
       "Predicted   0    1  All\n",
       "Actual                 \n",
       "0           4   37   41\n",
       "1           7   73   80\n",
       "All        11  110  121"
      ]
     },
     "execution_count": 30,
     "metadata": {},
     "output_type": "execute_result"
    }
   ],
   "source": [
    "# Generate a k-Nearest Neighbor object\n",
    "knn_model = KNeighborsClassifier(n_neighbors = 9)\n",
    "\n",
    "# Train a k-Nearest Neighbor model with Train dataset\n",
    "knn_model.fit(X_train, Y_train)\n",
    "\n",
    "# Predict the outcome\n",
    "y_hat_knn = knn_model.predict(X_test)\n",
    "\n",
    "# Compute the accuracy score and print it\n",
    "accuracy_knn = accuracy_score(Y_test, y_hat_knn)\n",
    "\n",
    "# Print first 8 rows to visualize the prediction.\n",
    "print (\"First few predicted Loan Status values:\", y_hat_knn[:8], \"\\n\")\n",
    "\n",
    "# Compute accuracy score\n",
    "print (\"Accuracy of k-Nearest Neighbor model:\", accuracy_knn)\n",
    "\n",
    "# Print confusion matrix of actual and predicted values using Crosstab function\n",
    "pd.crosstab(Y_test, y_hat_knn, rownames=['Actual'], colnames=['Predicted'], margins=True)"
   ]
  },
  {
   "cell_type": "markdown",
   "metadata": {},
   "source": [
    "#### 4.3.1 Print k-Nearest Neighbor Model parameters"
   ]
  },
  {
   "cell_type": "code",
   "execution_count": 31,
   "metadata": {},
   "outputs": [
    {
     "data": {
      "text/plain": [
       "KNeighborsClassifier(algorithm='auto', leaf_size=30, metric='minkowski',\n",
       "           metric_params=None, n_jobs=None, n_neighbors=9, p=2,\n",
       "           weights='uniform')"
      ]
     },
     "execution_count": 31,
     "metadata": {},
     "output_type": "execute_result"
    }
   ],
   "source": [
    "# Print the k-Nearest Neighbor Model\n",
    "knn_model"
   ]
  },
  {
   "cell_type": "markdown",
   "metadata": {},
   "source": [
    "#### 4.3.2 To output the Binary Probability using k-Nearest Neighbor model ..."
   ]
  },
  {
   "cell_type": "raw",
   "metadata": {},
   "source": [
    "<< HOME WORK >>"
   ]
  },
  {
   "cell_type": "code",
   "execution_count": null,
   "metadata": {
    "collapsed": true
   },
   "outputs": [],
   "source": [
    "# Predict the binary probability outcome\n",
    "y_hat_knn_proba =  << your code goes here >>\n",
    "\n",
    "# Print first 8 rows to visualize the prediction.\n",
    "y_hat_knn_proba[:8]"
   ]
  },
  {
   "cell_type": "markdown",
   "metadata": {},
   "source": [
    "#### 4.3.3 To draw Area Under the Curve (AUC) of k-Nearest Neighbor model ..."
   ]
  },
  {
   "cell_type": "code",
   "execution_count": null,
   "metadata": {
    "collapsed": true
   },
   "outputs": [],
   "source": [
    "<< HOME WORK: your code goes here >>"
   ]
  },
  {
   "cell_type": "markdown",
   "metadata": {},
   "source": [
    "### <a id='svm_train_test'>4.4 Support Vector Machine (SVM)  Model using Train-Test split</a>"
   ]
  },
  {
   "cell_type": "code",
   "execution_count": 32,
   "metadata": {},
   "outputs": [
    {
     "name": "stdout",
     "output_type": "stream",
     "text": [
      "First few predicted Loan Status values: [1 1 1 1 1 1 0 1] \n",
      "\n",
      "Accuracy of Support Vector Machine model: 0.8016528925619835\n"
     ]
    },
    {
     "data": {
      "text/html": [
       "<div>\n",
       "<style scoped>\n",
       "    .dataframe tbody tr th:only-of-type {\n",
       "        vertical-align: middle;\n",
       "    }\n",
       "\n",
       "    .dataframe tbody tr th {\n",
       "        vertical-align: top;\n",
       "    }\n",
       "\n",
       "    .dataframe thead th {\n",
       "        text-align: right;\n",
       "    }\n",
       "</style>\n",
       "<table border=\"1\" class=\"dataframe\">\n",
       "  <thead>\n",
       "    <tr style=\"text-align: right;\">\n",
       "      <th>Predicted</th>\n",
       "      <th>0</th>\n",
       "      <th>1</th>\n",
       "      <th>All</th>\n",
       "    </tr>\n",
       "    <tr>\n",
       "      <th>Actual</th>\n",
       "      <th></th>\n",
       "      <th></th>\n",
       "      <th></th>\n",
       "    </tr>\n",
       "  </thead>\n",
       "  <tbody>\n",
       "    <tr>\n",
       "      <th>0</th>\n",
       "      <td>18</td>\n",
       "      <td>23</td>\n",
       "      <td>41</td>\n",
       "    </tr>\n",
       "    <tr>\n",
       "      <th>1</th>\n",
       "      <td>1</td>\n",
       "      <td>79</td>\n",
       "      <td>80</td>\n",
       "    </tr>\n",
       "    <tr>\n",
       "      <th>All</th>\n",
       "      <td>19</td>\n",
       "      <td>102</td>\n",
       "      <td>121</td>\n",
       "    </tr>\n",
       "  </tbody>\n",
       "</table>\n",
       "</div>"
      ],
      "text/plain": [
       "Predicted   0    1  All\n",
       "Actual                 \n",
       "0          18   23   41\n",
       "1           1   79   80\n",
       "All        19  102  121"
      ]
     },
     "execution_count": 32,
     "metadata": {},
     "output_type": "execute_result"
    }
   ],
   "source": [
    "# Generate a Support Vector Machine (SVM) object\n",
    "svm_model = svm.SVC(gamma=0.05, degree=5, kernel='linear')\n",
    "\n",
    "# Train a Support Vector Machine model with Train dataset\n",
    "svm_model.fit(X_train, Y_train)\n",
    "\n",
    "# Predict the outcome\n",
    "y_hat_svm = svm_model.predict(X_test)\n",
    "\n",
    "# Compute the accuracy score and print it\n",
    "accuracy_svm = accuracy_score(Y_test, y_hat_svm)\n",
    "\n",
    "# Print first 8 rows to visualize the prediction.\n",
    "print (\"First few predicted Loan Status values:\", y_hat_svm[:8], \"\\n\")\n",
    "\n",
    "# Compute accuracy score\n",
    "print (\"Accuracy of Support Vector Machine model:\", accuracy_svm)\n",
    "\n",
    "# Print confusion matrix of actual and predicted values using Crosstab function\n",
    "pd.crosstab(Y_test, y_hat_svm, rownames=['Actual'], colnames=['Predicted'], margins=True)"
   ]
  },
  {
   "cell_type": "markdown",
   "metadata": {},
   "source": [
    "#### 4.4.1 Print Support Vector Machine (SVM) Model parameters"
   ]
  },
  {
   "cell_type": "code",
   "execution_count": 33,
   "metadata": {},
   "outputs": [
    {
     "data": {
      "text/plain": [
       "SVC(C=1.0, cache_size=200, class_weight=None, coef0=0.0,\n",
       "  decision_function_shape='ovr', degree=5, gamma=0.05, kernel='linear',\n",
       "  max_iter=-1, probability=False, random_state=None, shrinking=True,\n",
       "  tol=0.001, verbose=False)"
      ]
     },
     "execution_count": 33,
     "metadata": {},
     "output_type": "execute_result"
    }
   ],
   "source": [
    "# Print the Support Vector Machine Model\n",
    "svm_model"
   ]
  },
  {
   "cell_type": "markdown",
   "metadata": {},
   "source": [
    "#### 4.4.2 To output the Binary Probability using Support Vector Machine (SVM) model ..."
   ]
  },
  {
   "cell_type": "code",
   "execution_count": 34,
   "metadata": {},
   "outputs": [
    {
     "data": {
      "text/plain": [
       "array([[0.20439401, 0.79560599],\n",
       "       [0.19487369, 0.80512631],\n",
       "       [0.19387387, 0.80612613],\n",
       "       [0.19310545, 0.80689455],\n",
       "       [0.19265819, 0.80734181],\n",
       "       [0.17897639, 0.82102361],\n",
       "       [0.91869419, 0.08130581],\n",
       "       [0.19763938, 0.80236062]])"
      ]
     },
     "execution_count": 34,
     "metadata": {},
     "output_type": "execute_result"
    }
   ],
   "source": [
    "# Generate a Support Vector Machine (SVM) object to determine probability of binary outcome\n",
    "svm_model_proba = svm.SVC(gamma=0.05, degree=5, kernel='linear', probability=True)\n",
    "\n",
    "# Train a Support Vector Machine model with Train dataset\n",
    "svm_model_proba.fit(X_train, Y_train)\n",
    "\n",
    "# Predict the probability outcome\n",
    "y_hat_svm_proba = svm_model_proba.predict_proba(X_test)\n",
    "\n",
    "# Print first 8 rows to visualize the prediction.\n",
    "y_hat_svm_proba[:8]"
   ]
  },
  {
   "cell_type": "markdown",
   "metadata": {},
   "source": [
    "#### 4.4.3 To draw Area Under the Curve (AUC) of Support Vector Machine (SVM) model ..."
   ]
  },
  {
   "cell_type": "code",
   "execution_count": 35,
   "metadata": {},
   "outputs": [
    {
     "data": {
      "text/plain": [
       "[<matplotlib.lines.Line2D at 0x1a17b62a20>]"
      ]
     },
     "execution_count": 35,
     "metadata": {},
     "output_type": "execute_result"
    },
    {
     "data": {
      "image/png": "[encoded data removed]",
      "text/plain": [
       "<Figure size 576x576 with 1 Axes>"
      ]
     },
     "metadata": {
      "needs_background": "light"
     },
     "output_type": "display_data"
    }
   ],
   "source": [
    "# Compute area under the curve (AUC)\n",
    "auc_svm = metrics.roc_auc_score(Y_test, y_hat_svm_proba[:, 1])\n",
    "\n",
    "# Compute False Positive Rate, True Positive Rate, and Thresholds using metrics library\n",
    "fpr, tpr, threshold = metrics.roc_curve(Y_test, y_hat_svm_proba[:, 1])\n",
    "\n",
    "# Set the plotting area/ size\n",
    "plt.figure(figsize = (8, 8))\n",
    "\n",
    "\n",
    "# Plot the AUC curve\n",
    "plt.plot(fpr, tpr, label='AUC =' + str(auc_svm), color='b')\n",
    "plt.legend(loc=8)\n",
    "\n",
    "# Plot the base line (diagonal dotted line)\n",
    "plt.plot([0, 1], [0, 1], 'k-.', lw=1)\n",
    "\n",
    "x = [0, 1, 1]\n",
    "y = [0, 0, 1]\n",
    "# Plot the base line (diagonal dotted line)\n",
    "plt.plot(x, y, 'k-',  color='b')"
   ]
  },
  {
   "cell_type": "markdown",
   "metadata": {},
   "source": [
    "### <a id='xgb_train_test'>4.5 XGBoost Classifier Model using Train-Test split</a>"
   ]
  },
  {
   "cell_type": "code",
   "execution_count": 38,
   "metadata": {
    "scrolled": true
   },
   "outputs": [
    {
     "name": "stdout",
     "output_type": "stream",
     "text": [
      "First few predicted Loan Status values: [1 1 1 1 1 1 0 1] \n",
      "\n",
      "Accuracy of XGBoost model: 0.8016528925619835\n"
     ]
    },
    {
     "data": {
      "text/html": [
       "<div>\n",
       "<style scoped>\n",
       "    .dataframe tbody tr th:only-of-type {\n",
       "        vertical-align: middle;\n",
       "    }\n",
       "\n",
       "    .dataframe tbody tr th {\n",
       "        vertical-align: top;\n",
       "    }\n",
       "\n",
       "    .dataframe thead th {\n",
       "        text-align: right;\n",
       "    }\n",
       "</style>\n",
       "<table border=\"1\" class=\"dataframe\">\n",
       "  <thead>\n",
       "    <tr style=\"text-align: right;\">\n",
       "      <th>Predicted</th>\n",
       "      <th>0</th>\n",
       "      <th>1</th>\n",
       "      <th>All</th>\n",
       "    </tr>\n",
       "    <tr>\n",
       "      <th>Actual</th>\n",
       "      <th></th>\n",
       "      <th></th>\n",
       "      <th></th>\n",
       "    </tr>\n",
       "  </thead>\n",
       "  <tbody>\n",
       "    <tr>\n",
       "      <th>0</th>\n",
       "      <td>18</td>\n",
       "      <td>23</td>\n",
       "      <td>41</td>\n",
       "    </tr>\n",
       "    <tr>\n",
       "      <th>1</th>\n",
       "      <td>1</td>\n",
       "      <td>79</td>\n",
       "      <td>80</td>\n",
       "    </tr>\n",
       "    <tr>\n",
       "      <th>All</th>\n",
       "      <td>19</td>\n",
       "      <td>102</td>\n",
       "      <td>121</td>\n",
       "    </tr>\n",
       "  </tbody>\n",
       "</table>\n",
       "</div>"
      ],
      "text/plain": [
       "Predicted   0    1  All\n",
       "Actual                 \n",
       "0          18   23   41\n",
       "1           1   79   80\n",
       "All        19  102  121"
      ]
     },
     "execution_count": 38,
     "metadata": {},
     "output_type": "execute_result"
    }
   ],
   "source": [
    "# Generate a XGBoost object\n",
    "xgb_model = XGBClassifier(learning_rate =0.01, \n",
    "                      subsample=0.75, \n",
    "                      colsample_bytree=0.72, \n",
    "                      min_child_weight=8,\n",
    "                      max_depth=5)\n",
    "\n",
    "# Train a XGBoost model with Train dataset\n",
    "xgb_model.fit(X_train, Y_train)\n",
    "\n",
    "# Predict the outcome\n",
    "y_hat_xgb = xgb_model.predict(X_test)\n",
    "\n",
    "# Compute the accuracy score and print it\n",
    "accuracy_xgb = accuracy_score(Y_test, y_hat_xgb)\n",
    "\n",
    "# Print first 8 rows to visualize the prediction.\n",
    "print (\"First few predicted Loan Status values:\", y_hat_xgb[:8], \"\\n\")\n",
    "\n",
    "# Compute accuracy score\n",
    "print (\"Accuracy of XGBoost model:\", accuracy_xgb)\n",
    "\n",
    "# Print confusion matrix of actual and predicted values using Crosstab function\n",
    "pd.crosstab(Y_test, y_hat_xgb, rownames=['Actual'], colnames=['Predicted'], margins=True)"
   ]
  },
  {
   "cell_type": "markdown",
   "metadata": {},
   "source": [
    "#### 4.5.1 Print XGBoost Classifier Model parameters"
   ]
  },
  {
   "cell_type": "code",
   "execution_count": 39,
   "metadata": {},
   "outputs": [
    {
     "data": {
      "text/plain": [
       "XGBClassifier(base_score=0.5, booster='gbtree', colsample_bylevel=1,\n",
       "       colsample_bynode=1, colsample_bytree=0.72, gamma=0,\n",
       "       learning_rate=0.01, max_delta_step=0, max_depth=5,\n",
       "       min_child_weight=8, missing=None, n_estimators=100, n_jobs=1,\n",
       "       nthread=None, objective='binary:logistic', random_state=0,\n",
       "       reg_alpha=0, reg_lambda=1, scale_pos_weight=1, seed=None,\n",
       "       silent=None, subsample=0.75, verbosity=1)"
      ]
     },
     "execution_count": 39,
     "metadata": {},
     "output_type": "execute_result"
    }
   ],
   "source": [
    "# Print the XGBoost Model\n",
    "xgb_model"
   ]
  },
  {
   "cell_type": "markdown",
   "metadata": {},
   "source": [
    "#### 4.5.2 To output the Binary Probability using XGBoost Classifier model ..."
   ]
  },
  {
   "cell_type": "raw",
   "metadata": {},
   "source": [
    "# Predict the binary probability outcome\n",
    "y_hat_xgb_proba = xgb_model.predict_proba(X_test)\n",
    "\n",
    "# Print first 8 rows to visualize the prediction.\n",
    "y_hat_xgb_proba[:8]"
   ]
  },
  {
   "cell_type": "code",
   "execution_count": 40,
   "metadata": {},
   "outputs": [
    {
     "data": {
      "text/plain": [
       "array([[0.3646816 , 0.6353184 ],\n",
       "       [0.32505584, 0.67494416],\n",
       "       [0.31861126, 0.68138874],\n",
       "       [0.2990147 , 0.7009853 ],\n",
       "       [0.3179463 , 0.6820537 ],\n",
       "       [0.30034322, 0.6996568 ],\n",
       "       [0.6258414 , 0.37415862],\n",
       "       [0.30840117, 0.69159883]], dtype=float32)"
      ]
     },
     "execution_count": 40,
     "metadata": {},
     "output_type": "execute_result"
    }
   ],
   "source": [
    "# Predict the binary probability outcome\n",
    "y_hat_xgb_proba = xgb_model.predict_proba(X_test)\n",
    "\n",
    "# Print first 8 rows to visualize the prediction.\n",
    "y_hat_xgb_proba[:8]"
   ]
  },
  {
   "cell_type": "code",
   "execution_count": 47,
   "metadata": {},
   "outputs": [
    {
     "data": {
      "text/plain": [
       "[<matplotlib.lines.Line2D at 0x1a182fa240>]"
      ]
     },
     "execution_count": 47,
     "metadata": {},
     "output_type": "execute_result"
    },
    {
     "data": {
      "image/png": "[encoded data removed]",
      "text/plain": [
       "<Figure size 576x576 with 1 Axes>"
      ]
     },
     "metadata": {
      "needs_background": "light"
     },
     "output_type": "display_data"
    }
   ],
   "source": [
    "# Compute area under the curve (AUC)\n",
    "auc_xgb = metrics.roc_auc_score(Y_test, y_hat_xgb_proba[:, 1])\n",
    "\n",
    "# Compute False Positive Rate, True Positive Rate, and Thresholds using metrics library\n",
    "fpr, tpr, threshold = metrics.roc_curve(Y_test, y_hat_xgb_proba[:, 1])\n",
    "\n",
    "# Set the plotting area/ size\n",
    "plt.figure(figsize = (8, 8))\n",
    "\n",
    "# Plot the AUC curve\n",
    "plt.plot(fpr, tpr, label='AUC =' + str(auc_xgb), color='b')\n",
    "plt.legend(loc=8)\n",
    "\n",
    "# Plot the base line (diagonal dotted line)\n",
    "plt.plot([0, 1], [0, 1], 'k-.', lw=1)\n",
    "\n",
    "x = [0, 1, 1]\n",
    "y = [0, 0, 1]\n",
    "# Plot the base line (diagonal dotted line)\n",
    "plt.plot(x, y, 'k-',  color='b')"
   ]
  },
  {
   "cell_type": "code",
   "execution_count": null,
   "metadata": {},
   "outputs": [],
   "source": []
  },
  {
   "cell_type": "markdown",
   "metadata": {},
   "source": [
    "#### 4.5.3 To draw Area Under the Curve (AUC) of XGBoost model ..."
   ]
  },
  {
   "cell_type": "code",
   "execution_count": null,
   "metadata": {
    "collapsed": true
   },
   "outputs": [],
   "source": [
    "<< HOME WORK: your code goes here >>"
   ]
  },
  {
   "cell_type": "markdown",
   "metadata": {},
   "source": [
    "## <a id='analyze_results'>5. Analyze the model results</a>"
   ]
  },
  {
   "cell_type": "markdown",
   "metadata": {},
   "source": [
    "###  <a id='print_AUC'>Print Accuracy and AUC of all models</a>"
   ]
  },
  {
   "cell_type": "code",
   "execution_count": 48,
   "metadata": {},
   "outputs": [
    {
     "data": {
      "text/html": [
       "<div>\n",
       "<style scoped>\n",
       "    .dataframe tbody tr th:only-of-type {\n",
       "        vertical-align: middle;\n",
       "    }\n",
       "\n",
       "    .dataframe tbody tr th {\n",
       "        vertical-align: top;\n",
       "    }\n",
       "\n",
       "    .dataframe thead th {\n",
       "        text-align: right;\n",
       "    }\n",
       "</style>\n",
       "<table border=\"1\" class=\"dataframe\">\n",
       "  <thead>\n",
       "    <tr style=\"text-align: right;\">\n",
       "      <th></th>\n",
       "      <th>Metrics</th>\n",
       "      <th>Logistic Regression</th>\n",
       "      <th>Random Forest</th>\n",
       "      <th>k-NN</th>\n",
       "      <th>SVM</th>\n",
       "      <th>XGBoost</th>\n",
       "    </tr>\n",
       "  </thead>\n",
       "  <tbody>\n",
       "    <tr>\n",
       "      <th>0</th>\n",
       "      <td>Accuracy</td>\n",
       "      <td>0.793388</td>\n",
       "      <td>0.818182</td>\n",
       "      <td>0.636364</td>\n",
       "      <td>0.801653</td>\n",
       "      <td>0.801653</td>\n",
       "    </tr>\n",
       "    <tr>\n",
       "      <th>1</th>\n",
       "      <td>AUC</td>\n",
       "      <td>0.734451</td>\n",
       "      <td>0.802287</td>\n",
       "      <td>0.508621</td>\n",
       "      <td>0.709756</td>\n",
       "      <td>0.787195</td>\n",
       "    </tr>\n",
       "  </tbody>\n",
       "</table>\n",
       "</div>"
      ],
      "text/plain": [
       "    Metrics  Logistic Regression  Random Forest      k-NN       SVM   XGBoost\n",
       "0  Accuracy             0.793388       0.818182  0.636364  0.801653  0.801653\n",
       "1       AUC             0.734451       0.802287  0.508621  0.709756  0.787195"
      ]
     },
     "execution_count": 48,
     "metadata": {},
     "output_type": "execute_result"
    }
   ],
   "source": [
    "#auc_xgb = 0.7253211629479379  # Computed before hand\n",
    "auc_knn = 0.5086206896551724  # Computed before hand\n",
    "\n",
    "# Create a dataframe with Accuracy and AUC\n",
    "acc_auc_df = pd.DataFrame(\n",
    "                    {'Metrics': ['Accuracy', 'AUC'],\n",
    "                    'Logistic Regression': [accuracy_lr, auc_lr],\n",
    "                    'Random Forest': [accuracy_rf, auc_rf],\n",
    "                    'k-NN': [accuracy_knn, auc_knn],\n",
    "                    'SVM': [accuracy_svm, auc_svm],\n",
    "                    'XGBoost': [accuracy_xgb, auc_xgb]}\n",
    ")\n",
    "\n",
    "acc_auc_df"
   ]
  },
  {
   "cell_type": "markdown",
   "metadata": {},
   "source": [
    "## Split the dataset. _Technique: K-Fold Cross Validation_"
   ]
  },
  {
   "cell_type": "markdown",
   "metadata": {},
   "source": [
    "## <a id='binomial_kfold'>6. Generate Binary Classification Models using K-Fold split</a>"
   ]
  },
  {
   "cell_type": "markdown",
   "metadata": {},
   "source": [
    "### <a id='lr_kfold'>6.1 Logistic Regression Model using K-Fold split</a>"
   ]
  },
  {
   "cell_type": "code",
   "execution_count": 49,
   "metadata": {},
   "outputs": [
    {
     "name": "stdout",
     "output_type": "stream",
     "text": [
      "Train dataset: (480, 9) (480,)\n",
      "Test dataset: (121, 9) (121,)\n",
      "Accuracy: 0.8181818181818182 \n",
      "\n",
      "Train dataset: (481, 9) (481,)\n",
      "Test dataset: (120, 9) (120,)\n",
      "Accuracy: 0.7583333333333333 \n",
      "\n",
      "Train dataset: (481, 9) (481,)\n",
      "Test dataset: (120, 9) (120,)\n",
      "Accuracy: 0.8 \n",
      "\n",
      "Train dataset: (481, 9) (481,)\n",
      "Test dataset: (120, 9) (120,)\n",
      "Accuracy: 0.8583333333333333 \n",
      "\n",
      "Train dataset: (481, 9) (481,)\n",
      "Test dataset: (120, 9) (120,)\n",
      "Accuracy: 0.825 \n",
      "\n",
      "Final accuracy using Logistic Regression: 0.8119696969696971\n"
     ]
    }
   ],
   "source": [
    "# Set the number of splits\n",
    "NO_SPLITS = 5\n",
    "\n",
    "# Create KFold object with number of splits\n",
    "kf = KFold(n_splits=NO_SPLITS, random_state=111)\n",
    "\n",
    "# Create temp datasets to store the X and  part of the dataset\n",
    "loan_data_X = loan_data.drop('Loan_Status',  axis = 1)\n",
    "loan_data_Y = loan_data['Loan_Status']\n",
    "\n",
    "# Generate a Logistic Regression object\n",
    "lr_KFold_model = LogisticRegression(solver='liblinear')\n",
    "\n",
    "# Define a variable to store the sum of accuracy of each fold\n",
    "accuracy_score_sum = 0\n",
    "\n",
    "# Split the data using KFold object, run the model iteratively, and compute accuracy\n",
    "for train_index, test_index in kf.split(loan_data_X):\n",
    "\n",
    "    # Split train and test datasets using fold index\n",
    "    X_train, X_test = loan_data_X.iloc[train_index], loan_data_X.iloc[test_index]\n",
    "    Y_train, Y_test = loan_data_Y[train_index], loan_data_Y[test_index]\n",
    "    \n",
    "    # Print the shape of the Train set\n",
    "    print(\"Train dataset:\", X_train.shape, Y_train.shape)\n",
    "\n",
    "    # Print the shape of the Test set\n",
    "    print(\"Test dataset:\", X_test.shape, Y_test.shape)\n",
    "    \n",
    "    # Train a Logistic Regression model with Train dataset\n",
    "    lr_KFold_model.fit(X_train, Y_train)\n",
    "\n",
    "    # Compute the accuracy score and print it\n",
    "    # It does two things. First, with 'X_test', it predicts the 'y-hat'. \n",
    "    # Second, with 'y-hat' and 'Y_test' it computes accuracy score\n",
    "    accuracy_score = lr_KFold_model.score(X_test, Y_test)\n",
    "    \n",
    "    # Print accuracy score\n",
    "    print(\"Accuracy:\", accuracy_score, \"\\n\")\n",
    "    \n",
    "    # Add accuracy of each iterations\n",
    "    accuracy_score_sum += accuracy_score\n",
    "\n",
    "# Compute the mean accuracy score of K-Folds and print it\n",
    "mean_accuracy = accuracy_score_sum / NO_SPLITS\n",
    "print (\"Final accuracy using Logistic Regression:\", mean_accuracy)"
   ]
  },
  {
   "cell_type": "markdown",
   "metadata": {},
   "source": [
    "### <a id='rf_kfold'>6.2 Random Forest Model using K-Fold split</a>"
   ]
  },
  {
   "cell_type": "code",
   "execution_count": 50,
   "metadata": {},
   "outputs": [
    {
     "name": "stdout",
     "output_type": "stream",
     "text": [
      "Train dataset: (480, 9) (480,)\n",
      "Test dataset: (121, 9) (121,)\n",
      "Accuracy: 0.7933884297520661 \n",
      "\n",
      "Train dataset: (481, 9) (481,)\n",
      "Test dataset: (120, 9) (120,)\n",
      "Accuracy: 0.7416666666666667 \n",
      "\n",
      "Train dataset: (481, 9) (481,)\n",
      "Test dataset: (120, 9) (120,)\n",
      "Accuracy: 0.7916666666666666 \n",
      "\n",
      "Train dataset: (481, 9) (481,)\n",
      "Test dataset: (120, 9) (120,)\n",
      "Accuracy: 0.8333333333333334 \n",
      "\n",
      "Train dataset: (481, 9) (481,)\n",
      "Test dataset: (120, 9) (120,)\n",
      "Accuracy: 0.8083333333333333 \n",
      "\n",
      "Final accuracy using Random Forest model: 0.7936776859504132\n"
     ]
    }
   ],
   "source": [
    "# Generate a Random Forest object\n",
    "rf_KFold_model = RandomForestClassifier(n_estimators=100, min_samples_leaf=1, random_state=2202)\n",
    "\n",
    "# Define a variable to store the sum of accuracy of each fold\n",
    "accuracy_score_sum = 0\n",
    "\n",
    "# Create temp datasets to store the X and Y part of the dataset\n",
    "loan_data_X = loan_data.drop('Loan_Status',  axis = 1)\n",
    "loan_data_Y = loan_data['Loan_Status']\n",
    "\n",
    "# Split the data using KFold object, run the model iteratively, and compute accuracy\n",
    "for train_index, test_index in kf.split(loan_data_X):\n",
    "\n",
    "    # Split train and test datasets using fold index\n",
    "    X_train, X_test = loan_data_X.iloc[train_index], loan_data_X.iloc[test_index]\n",
    "    Y_train, Y_test = loan_data_Y[train_index], loan_data_Y[test_index]\n",
    "\n",
    "    # Print the shape of the Train set\n",
    "    print(\"Train dataset:\", X_train.shape, Y_train.shape)\n",
    "\n",
    "    # Print the shape of the Test set\n",
    "    print(\"Test dataset:\", X_test.shape, Y_test.shape)\n",
    "    \n",
    "    # Train a Random Forest model with Train dataset\n",
    "    rf_KFold_model.fit(X_train, Y_train)\n",
    "\n",
    "    # Compute the accuracy score and print it\n",
    "    accuracy_score = rf_KFold_model.score(X_test, Y_test)\n",
    "    \n",
    "    # Print accuracy score\n",
    "    print(\"Accuracy:\", accuracy_score, \"\\n\")\n",
    "    \n",
    "    # Add accuracy of each iterations\n",
    "    accuracy_score_sum += accuracy_score\n",
    "\n",
    "# Compute the mean accuracy score of K-Folds and print it\n",
    "mean_accuracy = accuracy_score_sum / NO_SPLITS\n",
    "print (\"Final accuracy using Random Forest model:\", mean_accuracy)"
   ]
  },
  {
   "cell_type": "markdown",
   "metadata": {},
   "source": [
    "### <a id='knn_kfold'>6.3 k-Nearest Neighbor Model using K-Fold split</a>"
   ]
  },
  {
   "cell_type": "raw",
   "metadata": {},
   "source": [
    "<< HOME WORK >>"
   ]
  },
  {
   "cell_type": "code",
   "execution_count": null,
   "metadata": {
    "collapsed": true
   },
   "outputs": [],
   "source": [
    "<< Your code goes here.. >>"
   ]
  },
  {
   "cell_type": "markdown",
   "metadata": {},
   "source": [
    "### <a id='svm_kfold'>6.4 Support Vector Machine (SVM) Model using K-Fold split</a>"
   ]
  },
  {
   "cell_type": "code",
   "execution_count": 52,
   "metadata": {
    "scrolled": true
   },
   "outputs": [
    {
     "name": "stdout",
     "output_type": "stream",
     "text": [
      "Train dataset: (480, 9) (480,)\n",
      "Test dataset: (121, 9) (121,)\n",
      "Accuracy: 0.6776859504132231 \n",
      "\n",
      "Train dataset: (481, 9) (481,)\n",
      "Test dataset: (120, 9) (120,)\n",
      "Accuracy: 0.6833333333333333 \n",
      "\n",
      "Train dataset: (481, 9) (481,)\n",
      "Test dataset: (120, 9) (120,)\n",
      "Accuracy: 0.7 \n",
      "\n",
      "Train dataset: (481, 9) (481,)\n",
      "Test dataset: (120, 9) (120,)\n",
      "Accuracy: 0.7 \n",
      "\n",
      "Train dataset: (481, 9) (481,)\n",
      "Test dataset: (120, 9) (120,)\n",
      "Accuracy: 0.6916666666666667 \n",
      "\n",
      "Final accuracy using Random Forest model: 0.6905371900826445\n"
     ]
    }
   ],
   "source": [
    "# Generate a Support Vector Machine (SVM) object\n",
    "svm_KFold_model = svm.SVC(gamma='scale')\n",
    "\n",
    "# Define a variable to store the sum of accuracy of each fold\n",
    "accuracy_score_sum = 0\n",
    "\n",
    "# Create temp datasets to store the X and Y part of the dataset\n",
    "loan_data_X = loan_data.drop('Loan_Status',  axis = 1)\n",
    "loan_data_Y = loan_data['Loan_Status']\n",
    "\n",
    "# Split the data using KFold object, run the model iteratively, and compute accuracy\n",
    "for train_index, test_index in kf.split(loan_data_X):\n",
    "\n",
    "    # Split train and test datasets using fold index\n",
    "    X_train, X_test = loan_data_X.iloc[train_index], loan_data_X.iloc[test_index]\n",
    "    Y_train, Y_test = loan_data_Y[train_index], loan_data_Y[test_index]\n",
    "\n",
    "    # Print the shape of the Train set\n",
    "    print(\"Train dataset:\", X_train.shape, Y_train.shape)\n",
    "\n",
    "    # Print the shape of the Test set\n",
    "    print(\"Test dataset:\", X_test.shape, Y_test.shape)\n",
    "    \n",
    "    # Train a Random Forest model with Train dataset\n",
    "    svm_KFold_model.fit(X_train, Y_train)\n",
    "\n",
    "    # Compute the accuracy score and print it\n",
    "    accuracy_score = svm_KFold_model.score(X_test, Y_test)\n",
    "    \n",
    "    # Print accuracy score\n",
    "    print(\"Accuracy:\", accuracy_score, \"\\n\")\n",
    "    \n",
    "    # Add accuracy of each iterations\n",
    "    accuracy_score_sum += accuracy_score\n",
    "\n",
    "# Compute the mean accuracy score of K-Folds and print it\n",
    "mean_accuracy = accuracy_score_sum / NO_SPLITS\n",
    "print (\"Final accuracy using Random Forest model:\", mean_accuracy)"
   ]
  },
  {
   "cell_type": "markdown",
   "metadata": {},
   "source": [
    "### <a id='xgb_kfold'>6.5 XGBoost Classifier Model using K-Fold split</a>"
   ]
  },
  {
   "cell_type": "raw",
   "metadata": {},
   "source": [
    "<< HOME WORK >>"
   ]
  },
  {
   "cell_type": "code",
   "execution_count": null,
   "metadata": {
    "collapsed": true
   },
   "outputs": [],
   "source": [
    "<< Your code goes here.. >>"
   ]
  }
 ],
 "metadata": {
  "kernelspec": {
   "display_name": "Python 3",
   "language": "python",
   "name": "python3"
  },
  "language_info": {
   "codemirror_mode": {
    "name": "ipython",
    "version": 3
   },
   "file_extension": ".py",
   "mimetype": "text/x-python",
   "name": "python",
   "nbconvert_exporter": "python",
   "pygments_lexer": "ipython3",
   "version": "3.7.3"
  }
 },
 "nbformat": 4,
 "nbformat_minor": 2
}
