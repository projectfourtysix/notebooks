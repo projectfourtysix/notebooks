{
 "cells": [
  {
   "cell_type": "markdown",
   "metadata": {
    "collapsed": true
   },
   "source": [
    "# PYTHON OVERVIEW"
   ]
  },
  {
   "cell_type": "markdown",
   "metadata": {},
   "source": [
    "### Getting input from users"
   ]
  },
  {
   "cell_type": "code",
   "execution_count": null,
   "metadata": {},
   "outputs": [],
   "source": [
    "aa = input(\"Print my name: \")\n",
    "print (\"Hello \" + aa + \"!\")"
   ]
  },
  {
   "cell_type": "markdown",
   "metadata": {},
   "source": [
    "### Simple Arithmetic operations"
   ]
  },
  {
   "cell_type": "code",
   "execution_count": null,
   "metadata": {},
   "outputs": [],
   "source": [
    "print (5/2)\n",
    "print (6/3)"
   ]
  },
  {
   "cell_type": "code",
   "execution_count": null,
   "metadata": {},
   "outputs": [],
   "source": [
    "print (11 // 2)  # prints quotient\n",
    "print (10 % 3)   # prints remainder"
   ]
  },
  {
   "cell_type": "markdown",
   "metadata": {},
   "source": [
    "### Python Literals"
   ]
  },
  {
   "cell_type": "code",
   "execution_count": null,
   "metadata": {},
   "outputs": [],
   "source": [
    "print ('Data Science for Developers') # String\n",
    "print (545)                           # Integer\n",
    "print (5.45)                          # Float\n",
    "print (5.45 + 6j)                     # Complex numbers\n",
    "print (True)                          # Boolean"
   ]
  },
  {
   "cell_type": "markdown",
   "metadata": {},
   "source": [
    "### Two ways to print values using `print` statement"
   ]
  },
  {
   "cell_type": "code",
   "execution_count": null,
   "metadata": {},
   "outputs": [],
   "source": [
    "i = 5\n",
    "j = 7\n",
    "\n",
    "print(i)\n",
    "print ('Value: ' + str(i) + str(j))\n",
    "print ('Value:', i, j)"
   ]
  },
  {
   "cell_type": "markdown",
   "metadata": {},
   "source": [
    "### Datatype conversion"
   ]
  },
  {
   "cell_type": "code",
   "execution_count": null,
   "metadata": {},
   "outputs": [],
   "source": [
    "i = \"10\"\n",
    "print ('Total: ' + str(int(i) + 5))\n",
    "print ('Total:', int(i) + 5)"
   ]
  },
  {
   "cell_type": "markdown",
   "metadata": {},
   "source": [
    "### Printing the datatype of variables"
   ]
  },
  {
   "cell_type": "code",
   "execution_count": null,
   "metadata": {},
   "outputs": [],
   "source": [
    "i = 5\n",
    "print (type(i))\n",
    "\n",
    "f = 5.4\n",
    "print (type(f))\n",
    "\n",
    "s = 'Data Science'\n",
    "print (type(s))"
   ]
  },
  {
   "cell_type": "markdown",
   "metadata": {},
   "source": [
    "### Comments and Document Strings"
   ]
  },
  {
   "cell_type": "code",
   "execution_count": null,
   "metadata": {},
   "outputs": [],
   "source": [
    "# Hello World comment\n",
    "print ('Awesome World!')\n",
    "\n",
    "\n",
    "\"\"\"\n",
    "This is a\n",
    "multiline\n",
    "comment/ document string\n",
    "\"\"\"\n",
    "print ('My awesome World!')"
   ]
  },
  {
   "cell_type": "markdown",
   "metadata": {},
   "source": [
    "### Python Collection - Data Structures"
   ]
  },
  {
   "cell_type": "code",
   "execution_count": null,
   "metadata": {},
   "outputs": [],
   "source": [
    "# List - Ordered and changeable. Allows duplicate values. **** MOSTLY USED ****\n",
    "x = [25, 'Data', 'Science', '5.75', 'Data']\n",
    "print ('Printing List:', x)\n",
    "       \n",
    "# Tuple - Ordered and **unchangeable**. Allows duplicate values\n",
    "y = ('Foo', 'Bar', 3, 3)\n",
    "print ('Printing Tuple:', y)\n",
    "\n",
    "# Set - unordered and unindexed. Allows **no duplicate** values\n",
    "z = {25, 25, 'a', 6.8}                    \n",
    "print ('Printing Set:', z)\n",
    "\n",
    "# Dictionary - unordered, changeable, and indexed. Allows **no duplicate** values. Key-value pair. **** MOSTLY USED ****\n",
    "a = {\"name\" : \"Tom\", \"age\" : 23, \"sex\" : \"M\"}\n",
    "print ('Printing Dictionary:', a)"
   ]
  },
  {
   "cell_type": "markdown",
   "metadata": {},
   "source": [
    "###  Simple `IF` Statement"
   ]
  },
  {
   "cell_type": "code",
   "execution_count": null,
   "metadata": {},
   "outputs": [],
   "source": [
    "# Given\n",
    "riskRating = 6\n",
    "\n",
    "if riskRating < 4:                   # falls between 1 and 3\n",
    "    print (\"Low risk Customer\")\n",
    "\n",
    "elif 4 <= riskRating <= 6:           # falls between 4 and 6\n",
    "    print (\"Medium risk Customer\")\n",
    "    \n",
    "elif 7 <= riskRating <= 8:           # falls between 7 and 8\n",
    "    print (\"High risk Customer\")\n",
    "    \n",
    "else:\n",
    "    print (\"Critical risk Customer\")"
   ]
  },
  {
   "cell_type": "code",
   "execution_count": null,
   "metadata": {},
   "outputs": [],
   "source": [
    "# Given\n",
    "riskRating = 6\n",
    "lob = 'B'\n",
    "\n",
    "if riskRating < 4:                            # falls between 1 and 3\n",
    "    print (\"Low risk Customer\")\n",
    "    \n",
    "elif 4 <= riskRating <= 6 and lob == 'A':     # falls between 4 and 6\n",
    "     print (\"Medium risk Customer\")\n",
    "        \n",
    "elif 7 <= riskRating <= 8:                    # falls between 7 and 8\n",
    "     print (\"High risk Customer\")\n",
    "        \n",
    "else:\n",
    "    print (\"Critical risk Customer\")"
   ]
  },
  {
   "cell_type": "markdown",
   "metadata": {},
   "source": [
    "### Inline `IF` Condition - 1"
   ]
  },
  {
   "cell_type": "code",
   "execution_count": null,
   "metadata": {},
   "outputs": [],
   "source": [
    "# Given\n",
    "risk_ratings = ['Low', 'Medium', 'High', 'Critical']\n",
    "\n",
    "if 'High' in risk_ratings:\n",
    "    print ('Rating 3')\n",
    "else:\n",
    "    print ('Rating Unavailable')"
   ]
  },
  {
   "cell_type": "code",
   "execution_count": null,
   "metadata": {},
   "outputs": [],
   "source": [
    "# Alternate approach\n",
    "# Given\n",
    "risk_ratings = ['Low', 'Medium', 'High', 'Critical']\n",
    "\n",
    "print ('Rating 3' if 'High' in risk_ratings else 'Rating Unavailable')"
   ]
  },
  {
   "cell_type": "markdown",
   "metadata": {},
   "source": [
    "### Inline `IF` Condition - 2"
   ]
  },
  {
   "cell_type": "code",
   "execution_count": null,
   "metadata": {},
   "outputs": [],
   "source": [
    "# Given \n",
    "no_cylinders = 'Four'\n",
    "\n",
    "if (no_cylinders == 'Four'):\n",
    "    cylinder = 4\n",
    "elif (no_cylinders == 'Six'):\n",
    "    cylinder = 6\n",
    "else:\n",
    "    cylinder = 8\n",
    "    \n",
    "print ('Cylinder number:', cylinder)"
   ]
  },
  {
   "cell_type": "code",
   "execution_count": null,
   "metadata": {},
   "outputs": [],
   "source": [
    "# Alternate approach\n",
    "# Given\n",
    "no_cylinders = 'Six'\n",
    "\n",
    "print (4 if no_cylinders == 'Four' else 6 if no_cylinders == 'Six' else 8)"
   ]
  },
  {
   "cell_type": "markdown",
   "metadata": {},
   "source": [
    "### Simple `FOR` Loop"
   ]
  },
  {
   "cell_type": "code",
   "execution_count": null,
   "metadata": {},
   "outputs": [],
   "source": [
    "risk_ratings = ['Low', 'Medium', 'High', 'Critical']\n",
    "\n",
    "for rating in risk_ratings:\n",
    "    print (rating)"
   ]
  },
  {
   "cell_type": "markdown",
   "metadata": {},
   "source": [
    "### Inline `FOR` Loop"
   ]
  },
  {
   "cell_type": "code",
   "execution_count": null,
   "metadata": {},
   "outputs": [],
   "source": [
    "risk_ratings = ['Low', 'Medium', 'High', 'Critical']\n",
    "\n",
    "print ([rating for rating in risk_ratings])"
   ]
  },
  {
   "cell_type": "markdown",
   "metadata": {},
   "source": [
    "### Simple `WHILE` Loop"
   ]
  },
  {
   "cell_type": "code",
   "execution_count": null,
   "metadata": {},
   "outputs": [],
   "source": [
    "i = 0\n",
    "while i < 5:\n",
    "    print('The Data Science for Developers')\n",
    "    i += 1"
   ]
  },
  {
   "cell_type": "markdown",
   "metadata": {},
   "source": [
    "###  IF and FOR Statements"
   ]
  },
  {
   "cell_type": "code",
   "execution_count": null,
   "metadata": {},
   "outputs": [],
   "source": [
    "# Given\n",
    "cylinder_list = ['Four', 'Four', 'Six', 'Four', 'Eight', 'Six', 'Four', 'Six', 'Twelve']\n",
    "\n",
    "# Output variable\n",
    "cylinders = []\n",
    "\n",
    "# for val in range(16):\n",
    "for cyl in cylinder_list:\n",
    "    if (cyl == 'Four'):\n",
    "        cylinders.append(4)\n",
    "    elif (cyl == 'Six'):\n",
    "         cylinders.append(6)\n",
    "    else:\n",
    "        cylinders.append(8)\n",
    "print (cylinders)"
   ]
  },
  {
   "cell_type": "code",
   "execution_count": null,
   "metadata": {},
   "outputs": [],
   "source": [
    "# Alternate approach\n",
    "# Given\n",
    "cylinder_list = ['Four', 'Four', 'Six', 'Four', 'Eight', 'Six', 'Four', 'Six', 'Twelve']\n",
    "\n",
    "# Output variable\n",
    "cylinders = []\n",
    "\n",
    "# for val in range(16):\n",
    "for cyl in cylinder_list:\n",
    "    cylinders.append(4 if cyl == 'Four' else 6 if cyl == 'Six' else 8)\n",
    "   \n",
    "print (cylinders)"
   ]
  },
  {
   "cell_type": "markdown",
   "metadata": {},
   "source": [
    "###  Inline IF and FOR loop"
   ]
  },
  {
   "cell_type": "code",
   "execution_count": null,
   "metadata": {},
   "outputs": [],
   "source": [
    "# In a given dataset, filter the values that meet certain criteria \n",
    "# In this case, values that are divisible by 3\n",
    "import numpy as np\n",
    "random_values = np.random.randint(low=5, high=200, size = 25) # This may be your input too.\n",
    "\n",
    "feature_names = []\n",
    "for i in random_values:\n",
    "    if (i%3 == 0):\n",
    "        feature_names.append(i)\n",
    "\n",
    "print (feature_names)"
   ]
  },
  {
   "cell_type": "code",
   "execution_count": 1,
   "metadata": {},
   "outputs": [
    {
     "name": "stdout",
     "output_type": "stream",
     "text": [
      "[42, 117, 129, 24, 198, 126, 126]\n"
     ]
    }
   ],
   "source": [
    "# Alternate approach\n",
    "import numpy as np\n",
    "\n",
    "print ([i for i in np.random.randint(low=5, high=200, size = 25) if i%3 == 0])\n",
    "\n",
    "# mylist = [i for i in np.random.randint(low=5, high=200, size = 25) if i%3 == 0]\n",
    "# print (mylist)"
   ]
  },
  {
   "cell_type": "markdown",
   "metadata": {},
   "source": [
    "### True and False"
   ]
  },
  {
   "cell_type": "code",
   "execution_count": null,
   "metadata": {},
   "outputs": [],
   "source": [
    "print (True == True)\n",
    "print (True == False)\n",
    "print (True == True)\n",
    "print (False == False)"
   ]
  },
  {
   "cell_type": "markdown",
   "metadata": {},
   "source": [
    "### Shallow and deep comparison"
   ]
  },
  {
   "cell_type": "code",
   "execution_count": null,
   "metadata": {},
   "outputs": [],
   "source": [
    "first_course   = 'The Data Science for Developers'\n",
    "second_course  = 'The Data Science for Developers'\n",
    "\n",
    "print(first_course == second_course)\n",
    "print(first_course is second_course)"
   ]
  },
  {
   "cell_type": "code",
   "execution_count": null,
   "metadata": {},
   "outputs": [],
   "source": [
    "print(id(first_course))\n",
    "print(id(second_course))"
   ]
  },
  {
   "cell_type": "markdown",
   "metadata": {},
   "source": [
    "### Pass-by-reference - String"
   ]
  },
  {
   "cell_type": "code",
   "execution_count": null,
   "metadata": {},
   "outputs": [],
   "source": [
    "first_course = 'The Data Science for Developers'\n",
    "second_course = first_course\n",
    "\n",
    "print(first_course == second_course)\n",
    "print(first_course is second_course)"
   ]
  },
  {
   "cell_type": "code",
   "execution_count": null,
   "metadata": {},
   "outputs": [],
   "source": [
    "print(id(first_course))\n",
    "print(id(second_course))"
   ]
  },
  {
   "cell_type": "markdown",
   "metadata": {},
   "source": [
    "### Object reference versus Object copy"
   ]
  },
  {
   "cell_type": "code",
   "execution_count": null,
   "metadata": {},
   "outputs": [],
   "source": [
    "# Object Reference\n",
    "main_course_list = ['The', 'Data', 'Science', 'for', 'Developers']\n",
    "updated_course_list = main_course_list\n",
    "main_course_list[4] = 'Architects'\n",
    "\n",
    "print (main_course_list)\n",
    "print (updated_course_list)"
   ]
  },
  {
   "cell_type": "code",
   "execution_count": null,
   "metadata": {
    "scrolled": true
   },
   "outputs": [],
   "source": [
    "# Object Copy \n",
    "main_course_list = ['The', 'Data', 'Science', 'for', 'Developers']\n",
    "updated_course_list = main_course_list.copy()    # deep copy of an object\n",
    "main_course_list[4] = 'Architects'\n",
    "\n",
    "print (main_course_list)\n",
    "print (updated_course_list)"
   ]
  },
  {
   "cell_type": "markdown",
   "metadata": {},
   "source": [
    "## String Manipulation"
   ]
  },
  {
   "cell_type": "markdown",
   "metadata": {},
   "source": [
    "### Substring - (from 0th position _inclusive:exclusive_)"
   ]
  },
  {
   "cell_type": "code",
   "execution_count": 2,
   "metadata": {
    "scrolled": true
   },
   "outputs": [
    {
     "name": "stdout",
     "output_type": "stream",
     "text": [
      "Given string: Hello World! \n",
      "\n",
      "Extracted substring: llo \n",
      "Extracted substring length:  4\n"
     ]
    }
   ],
   "source": [
    "strg = 'Hello World!'\n",
    "print (\"Given string:\", strg, \"\\n\")\n",
    "\n",
    "# Extracting substring from main string  \n",
    "sub_str = strg[2:6]   # From 0th position inclusive:exclusive\n",
    "print (\"Extracted substring: \" + sub_str)\n",
    "print (\"Extracted substring length: \", len(sub_str))"
   ]
  },
  {
   "cell_type": "markdown",
   "metadata": {},
   "source": [
    "### String trimming"
   ]
  },
  {
   "cell_type": "code",
   "execution_count": null,
   "metadata": {},
   "outputs": [],
   "source": [
    "# Remove leading and trailing empty spaces in a string\n",
    "strp_sub_str = sub_str.strip()\n",
    "print (\"Stripped substring: \" + strp_sub_str)\n",
    "print (\"Stripped substring length: \", len(strp_sub_str))"
   ]
  },
  {
   "cell_type": "markdown",
   "metadata": {},
   "source": [
    "### String - Upper and Lower case"
   ]
  },
  {
   "cell_type": "code",
   "execution_count": null,
   "metadata": {},
   "outputs": [],
   "source": [
    "# Changing from lower case to upper case\n",
    "strg_upper = strg.upper()\n",
    "print (\"Upper case: \" + strg_upper)\n",
    "\n",
    "# Changing from upper case to lower case\n",
    "strg_lower = strg.lower()\n",
    "print (\"Lower case: \" + strg_lower)"
   ]
  },
  {
   "cell_type": "markdown",
   "metadata": {},
   "source": [
    "### String - Replacing a specific word"
   ]
  },
  {
   "cell_type": "code",
   "execution_count": 3,
   "metadata": {},
   "outputs": [
    {
     "name": "stdout",
     "output_type": "stream",
     "text": [
      "Replaced word string: Hello Universe! \n",
      "\n",
      "Original string: Hello World!\n",
      "Replaced char string: Hello Wild!\n"
     ]
    }
   ],
   "source": [
    "# Replacing a word in a string\n",
    "s_word_replaced = strg.replace('World', 'Universe')\n",
    "print (\"Replaced word string:\", s_word_replaced, \"\\n\")\n",
    "\n",
    "# Replacing few characters in a string\n",
    "s_str_replaced = strg.replace(strg[7:9], 'i')\n",
    "print (\"Original string:\",  strg)\n",
    "print (\"Replaced char string: \" + s_str_replaced)"
   ]
  },
  {
   "cell_type": "markdown",
   "metadata": {},
   "source": [
    "###  Function with one input"
   ]
  },
  {
   "cell_type": "code",
   "execution_count": null,
   "metadata": {},
   "outputs": [],
   "source": [
    "# Define a function\n",
    "def compute_equation(x):\n",
    "    return x**2 + 5\n",
    "\n",
    "# Call the function\n",
    "print (compute_equation(10))"
   ]
  },
  {
   "cell_type": "markdown",
   "metadata": {},
   "source": [
    "###  Calling a function in FOR loop"
   ]
  },
  {
   "cell_type": "code",
   "execution_count": null,
   "metadata": {},
   "outputs": [],
   "source": [
    "feature_names = []\n",
    "\n",
    "for i in range(1, 15):\n",
    "    feature_names.append(compute_equation(i))  # Call the function\n",
    "print (feature_names)"
   ]
  },
  {
   "cell_type": "code",
   "execution_count": null,
   "metadata": {},
   "outputs": [],
   "source": [
    "# Alternate approach\n",
    "a = [compute_equation(i) for i in range(1, 15)]  # Call the function\n",
    "print (a)"
   ]
  },
  {
   "cell_type": "markdown",
   "metadata": {},
   "source": [
    "###  Function with one (default) input"
   ]
  },
  {
   "cell_type": "code",
   "execution_count": null,
   "metadata": {},
   "outputs": [],
   "source": [
    "# Define a function\n",
    "def compute_equation_with_default(x=3):\n",
    "    return x**2 + 5\n",
    "\n",
    "# Call the function\n",
    "print (compute_equation_with_default(10))\n",
    "print (compute_equation_with_default())"
   ]
  },
  {
   "cell_type": "markdown",
   "metadata": {},
   "source": [
    "###  Function with two inputs"
   ]
  },
  {
   "cell_type": "code",
   "execution_count": null,
   "metadata": {
    "collapsed": true
   },
   "outputs": [],
   "source": [
    "# Define a function with two inputs\n",
    "def compute_binomial_equation(x, y=2):\n",
    "    return (3*x - y)**2"
   ]
  },
  {
   "cell_type": "code",
   "execution_count": null,
   "metadata": {},
   "outputs": [],
   "source": [
    "# Pass both the inputs. Values will be taken in the same order as passed\n",
    "print (compute_binomial_equation(3, 4))\n",
    "\n",
    "# Pass only one (required) input. For the second variable 'default' value will be considered\n",
    "print (compute_binomial_equation(3))\n",
    "\n",
    "# Pass both the inputs in a mixed order. But specify the variables explicitly \n",
    "print (compute_binomial_equation(y=4, x=3))\n",
    "\n",
    "# Pass only one (required) input with explicit variable name. For the second variable 'default' value will be considered\n",
    "print (compute_binomial_equation(x=3))\n",
    "\n",
    "# Pass both the inputs. But specify the variable for the second one explicitly \n",
    "print (compute_binomial_equation(3, y=4))\n",
    "\n",
    "# Pass both the inputs explicitly and specify the variable too in the same order \n",
    "print (compute_binomial_equation(x=3, y=4))"
   ]
  },
  {
   "cell_type": "markdown",
   "metadata": {},
   "source": [
    "### Function with one \"output\""
   ]
  },
  {
   "cell_type": "code",
   "execution_count": null,
   "metadata": {},
   "outputs": [],
   "source": [
    "# Define a function with one output\n",
    "def square_area(side=5):\n",
    "    return (side * side)\n",
    "\n",
    "# Call the function\n",
    "print (\"Area:\", square_area())\n",
    "print (\"Area:\", square_area(10))"
   ]
  },
  {
   "cell_type": "markdown",
   "metadata": {},
   "source": [
    "### Function with multiple outputs"
   ]
  },
  {
   "cell_type": "code",
   "execution_count": null,
   "metadata": {},
   "outputs": [],
   "source": [
    "# Define a function with three outputs\n",
    "def square_properties(side=5):\n",
    "    \n",
    "    circumference = 4 * side\n",
    "    area = side * side\n",
    "    volume = area * side\n",
    "    \n",
    "    return (circumference, area, volume)\n",
    "\n",
    "\n",
    "# Call the function\n",
    "circ, area, cu_volume = square_properties(11)\n",
    "\n",
    "print (circ)\n",
    "print (area)\n",
    "print (cu_volume)"
   ]
  },
  {
   "cell_type": "markdown",
   "metadata": {},
   "source": [
    "### Working with Dictionary that has two outputs "
   ]
  },
  {
   "cell_type": "code",
   "execution_count": null,
   "metadata": {},
   "outputs": [],
   "source": [
    "# Given\n",
    "dict = {'Peter':25, 'Sam':32, 'Tom': 29}\n",
    "\n",
    "# dict.items()  #  To loop through key, value\n",
    "# dict.keys()   #  To loop through keys\n",
    "# dict.values() #  To loop through values\n",
    "for k, v in dict.items():\n",
    "    if (k == 'Peter'):\n",
    "        print ('Age:', v+5)\n",
    "    else:\n",
    "        print ('Age:', v)"
   ]
  },
  {
   "cell_type": "markdown",
   "metadata": {},
   "source": [
    "##  Lambda function with map"
   ]
  },
  {
   "cell_type": "markdown",
   "metadata": {},
   "source": [
    "### Map"
   ]
  },
  {
   "cell_type": "code",
   "execution_count": 6,
   "metadata": {},
   "outputs": [],
   "source": [
    "# Define a named function\n",
    "\n",
    "# Deg.C to Deg.F conversion formula = (9/5)*C + 32\n",
    "\n",
    "def deg_to_fah (C):\n",
    "    return ((float(9) / 5) * C + 32)"
   ]
  },
  {
   "cell_type": "code",
   "execution_count": 7,
   "metadata": {},
   "outputs": [
    {
     "name": "stdout",
     "output_type": "stream",
     "text": [
      "Fahrenheit using FOR: [102.56, 97.7, 99.14, 100.22]\n"
     ]
    }
   ],
   "source": [
    "# Define a list of values to be passed into the function\n",
    "celsius = [39.2, 36.5, 37.3, 37.9]\n",
    "\n",
    "# Call the function in \" inline for loop\" for each value in the list\n",
    "fahrenheit_for = [deg_to_fah(i) for i in celsius ]\n",
    "print('Fahrenheit using FOR:', fahrenheit_for)"
   ]
  },
  {
   "cell_type": "code",
   "execution_count": 10,
   "metadata": {},
   "outputs": [
    {
     "name": "stdout",
     "output_type": "stream",
     "text": [
      "Fahrenheit using Map: [102.56, 97.7, 99.14, 100.22]\n"
     ]
    }
   ],
   "source": [
    "\n",
    "# Alternate approach using Map \n",
    "\n",
    "# Define a list of values to be passed into the function\n",
    "celsius = [39.2, 36.5, 37.3, 37.9]\n",
    "\n",
    "fahrenheit_map = list(map(deg_to_fah, celsius))    # Remember there is NO FOR Loop; there are no ( ) for function\n",
    "print('Fahrenheit using Map:', fahrenheit_map)"
   ]
  },
  {
   "cell_type": "markdown",
   "metadata": {},
   "source": [
    "### Lambda (a.k.a. anonymous) function with Map and \"one input\""
   ]
  },
  {
   "cell_type": "code",
   "execution_count": null,
   "metadata": {},
   "outputs": [],
   "source": [
    "# Alternate approach using anonymous function\n",
    "# No Need to define a named function. Use Lambda function\n",
    "\n",
    "# Define a list of values to be passed into anonymous function\n",
    "celsius = [39.2, 36.5, 37.3, 37.9]\n",
    "\n",
    "# Define an anonymous function and map the list\n",
    "fahrenheit = list(map(lambda x: (float(9) / 5) * x + 32, celsius))\n",
    "print('Fahrenheit using Lambda and Map:', fahrenheit)"
   ]
  },
  {
   "cell_type": "markdown",
   "metadata": {},
   "source": [
    "### Lambda (a.k.a. anonymous) function with map and multiple inputs"
   ]
  },
  {
   "cell_type": "code",
   "execution_count": null,
   "metadata": {},
   "outputs": [],
   "source": [
    "'''\n",
    "Body Mass Index (BMI) Formula = Weight in Kg / (Height in M)**2\n",
    "Unit = Kg/Sq.M\n",
    "'''\n",
    "\n",
    "# Define a list of weight values to be passed into anonymous function\n",
    "weight = [50.4, 74.2, 65.1, 83.8]  # in KG\n",
    "\n",
    "# Define a list of height values to be passed into anonymous function\n",
    "height = [1.55, 1.70, 1.63, 1.72]      # in Meter\n",
    "\n",
    "# Define an anonymous function and map both list values\n",
    "# Anonymous function: lambda x, y: (x / y**2)\n",
    "bmi = list(map(lambda wt, ht: (wt / ht**2), weight, height))\n",
    "\n",
    "# Print the output\n",
    "print ('Raw value:', bmi)\n",
    "print ('\\n')\n",
    "\n",
    "print ('Rounded value using inline For loop:', [round(i, 2) for i in bmi])       # Inline for loop \n",
    "print ('Rounded value using Lambda and MAP:', list(map(lambda x: round(x, 2), bmi)))  # Using Lambda and map functions\n",
    "print ('\\n')\n",
    "\n",
    "print ('Rounded value using MAP - 1:', list(map(round, bmi)))   # Using map functions\n",
    "print ('Rounded value using MAP - 2:', list(map(round, bmi, [2, 3, 5, 2])))   # Using map functions"
   ]
  },
  {
   "cell_type": "markdown",
   "metadata": {},
   "source": [
    "## Understand the difference between Python modules, packages, and libraries"
   ]
  },
  {
   "cell_type": "markdown",
   "metadata": {
    "collapsed": true
   },
   "source": [
    "### Module"
   ]
  },
  {
   "cell_type": "markdown",
   "metadata": {
    "collapsed": true
   },
   "source": [
    "Module is nothing but a Python file (with *.py extension) containing a set of functions <br>\n",
    "Ex: `Greet.py`"
   ]
  },
  {
   "cell_type": "raw",
   "metadata": {},
   "source": [
    "# Sample module\n",
    "# Save the below code in a file called \"Greet.py\"\n",
    "\n",
    "temperature = [20, 34, 28, 26]\n",
    "course_name = \"The Data Science for Developers!\"\n",
    "\n",
    "def welcome(arg):\n",
    "    print(\"Welcome to \" + arg)\n",
    "\n",
    "class MyClass:\n",
    "    def greet_world(self):\n",
    "        print (\"Hello World! Welcome!!\")"
   ]
  },
  {
   "cell_type": "code",
   "execution_count": null,
   "metadata": {
    "collapsed": true
   },
   "outputs": [],
   "source": [
    "# Import the module from local file system\n",
    "import Greet\n",
    "\n",
    "\n",
    "# Library used to unload and reload the updated module - IGNORE FOR NOW\n",
    "# import importlib\n",
    "# importlib.reload(Greet)"
   ]
  },
  {
   "cell_type": "markdown",
   "metadata": {},
   "source": [
    "### Call the list variable directly - _No instantiation required_"
   ]
  },
  {
   "cell_type": "code",
   "execution_count": null,
   "metadata": {},
   "outputs": [],
   "source": [
    "Greet.temperature"
   ]
  },
  {
   "cell_type": "markdown",
   "metadata": {},
   "source": [
    "### Call the String  variable directly - _No instantiation required_"
   ]
  },
  {
   "cell_type": "code",
   "execution_count": null,
   "metadata": {},
   "outputs": [],
   "source": [
    "Greet.course_name"
   ]
  },
  {
   "cell_type": "markdown",
   "metadata": {},
   "source": [
    "### Call the function (method) directly - _No instantiation required_"
   ]
  },
  {
   "cell_type": "code",
   "execution_count": null,
   "metadata": {},
   "outputs": [],
   "source": [
    "Greet.welcome(\"the Course!\")"
   ]
  },
  {
   "cell_type": "markdown",
   "metadata": {},
   "source": [
    "### Create an instance of a class and call the function (method) inside that class"
   ]
  },
  {
   "cell_type": "code",
   "execution_count": null,
   "metadata": {},
   "outputs": [],
   "source": [
    "obj = Greet.MyClass()\n",
    "obj.greet_world()"
   ]
  },
  {
   "cell_type": "markdown",
   "metadata": {
    "collapsed": true
   },
   "source": [
    "### Package "
   ]
  },
  {
   "cell_type": "markdown",
   "metadata": {
    "collapsed": true
   },
   "source": [
    "Package is a namespace that contains modules and sub packages. In other words, it is ia folder that contains files and other child folders.\n",
    "\n",
    "What makes a folder to become package is that each folder and its sub-folder should contain a special file called \\__`init`\\__`.py`.\n",
    "\n",
    "This file (\\__`init`\\__`.py`) can be just empty or may contain code that needs to be executed at the time of importing a package. By including the \\__`init`\\__`.py` file, a folder can be imported the same way like module."
   ]
  },
  {
   "cell_type": "raw",
   "metadata": {},
   "source": [
    "+ mainpkg\n",
    "  \n",
    "  __init__.py\n",
    "  Login.py\n",
    "  Logout.py\n",
    "  \n",
    "  + clientpkg\n",
    "      __init__.py\n",
    "      CustDetails.py\n",
    "      AgreementDetails.py\n",
    "      \n",
    "  + autopkg\n",
    "  \n",
    "      __init__.py\n",
    "      AutoPolicy.py\n",
    "      AutoClaims.py\n",
    "      \n",
    "   + lifepkg\n",
    "  \n",
    "      __init__.py\n",
    "      LifePolicy.py\n",
    "      LifeClaims.py   "
   ]
  },
  {
   "cell_type": "markdown",
   "metadata": {},
   "source": [
    "### Creating a class"
   ]
  },
  {
   "cell_type": "code",
   "execution_count": null,
   "metadata": {},
   "outputs": [],
   "source": [
    "class Car:\n",
    "  def __init__(self, make, model, year=2018):\n",
    "    self.make = make\n",
    "    self.model = model\n",
    "    self.year = year\n",
    "\n",
    "car1 = Car(\"Chevy\", \"Impala\", 2019)\n",
    "\n",
    "car2 = Car(\"Audi\", \"A4\")\n",
    "\n",
    "print(car1.make)\n",
    "print(car1.model)\n",
    "print(car1.year)\n",
    "print('\\n')\n",
    "\n",
    "print(car2.make)\n",
    "print(car2.model)\n",
    "print(car2.year)"
   ]
  },
  {
   "cell_type": "markdown",
   "metadata": {},
   "source": [
    "### Various ways to import libraries"
   ]
  },
  {
   "cell_type": "code",
   "execution_count": null,
   "metadata": {
    "collapsed": true
   },
   "outputs": [],
   "source": [
    "# Import a library/ module\n",
    "import pandas\n",
    "\n",
    "# Import a library with alias\n",
    "import pandas as pd\n",
    "\n",
    "# From a module import a variable \n",
    "from math import pi\n",
    "\n",
    "# From a library/ module import a specific function\n",
    "from pandas import read_csv\n",
    "\n",
    "# From a library/ module import a specific function with alias\n",
    "from pandas import read_csv as rd\n",
    "\n",
    "# From a library/ module import a specific function \n",
    "from Greet import welcome"
   ]
  },
  {
   "cell_type": "code",
   "execution_count": null,
   "metadata": {},
   "outputs": [],
   "source": [
    "welcome('the Course!')"
   ]
  },
  {
   "cell_type": "markdown",
   "metadata": {
    "collapsed": true
   },
   "source": [
    "# ============================================================="
   ]
  }
 ],
 "metadata": {
  "kernelspec": {
   "display_name": "Python 3",
   "language": "python",
   "name": "python3"
  },
  "language_info": {
   "codemirror_mode": {
    "name": "ipython",
    "version": 3
   },
   "file_extension": ".py",
   "mimetype": "text/x-python",
   "name": "python",
   "nbconvert_exporter": "python",
   "pygments_lexer": "ipython3",
   "version": "3.7.3"
  }
 },
 "nbformat": 4,
 "nbformat_minor": 2
}
