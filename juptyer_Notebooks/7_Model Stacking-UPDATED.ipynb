{
 "cells": [
  {
   "cell_type": "markdown",
   "metadata": {},
   "source": [
    "# Machine Learning Model - Stacking"
   ]
  },
  {
   "cell_type": "markdown",
   "metadata": {},
   "source": [
    "### 1. [Tutorial links](#tutorials)\n",
    "### 2. [Load CSV File](#csv_file)\n",
    "### 3. [Split the dataset into Train-1 - Train-2 - Test](#train_test)\n",
    "### 4. [Generate meta models](#meta)\n",
    "\n",
    "> #### 4.1. [Linear Regression Model](#lr_train_test)\n",
    "  #### 4.2. [Random Forest Model](#rf_train_test)\n",
    "  #### 4.3. [XGBoost Regressor Model](#xgb_train_test)\n",
    "  #### 4.4. [LightGBM Regressor Model](#lgb_train_test)\n",
    "  #### 4.5. [Generalized Boosting Machine (GBM) Model](#gbm_train_test)\n",
    "\n",
    "### 5. [Combine the predicted values of Train-2](#combine_yhat_train)\n",
    "### 6. [Combine the predicted values of Test](#combine_yhat_test)\n",
    "### 7. [Generate top-level model using metamodel predicted values using Train-2](#train_meta)\n",
    "\n",
    "> #### 7.1. [Use XGBoost Regressor as a top-level model](#xgb_top)\n",
    "\n",
    "### 8. [Analyze the metamodel and top-level model results](#analyze_results)\n",
    "\n",
    "> #### 8.1. [Scatter plot the model results](#scatterplot_models)\n",
    "  #### 8.2  [ Compute the RMSE score of all models](#rmse_models)\n",
    "  #### 8.3  [Compute and print the percentage increase in performance](#perc_perf)\n",
    "  \n",
    "  "
   ]
  },
  {
   "cell_type": "markdown",
   "metadata": {},
   "source": [
    "## <a id='tutorials'>1. Tutorial links</a>"
   ]
  },
  {
   "cell_type": "raw",
   "metadata": {},
   "source": [
    "# XGBoost Tutorial/ documentation:\n",
    "https://xgboost.readthedocs.io/en/latest/python/python_api.html#module-xgboost.sklearn\n",
    "\n",
    "# LightGBM Tutorial/ documentation:\n",
    "https://lightgbm.readthedocs.io/en/latest/Python-API.html\n",
    "\n",
    "# Evaluation Techniques\n",
    "http://blog.socratesk.com/blog/2018/10/21/validation-strategies"
   ]
  },
  {
   "cell_type": "markdown",
   "metadata": {},
   "source": [
    "### Load libraries"
   ]
  },
  {
   "cell_type": "code",
   "execution_count": 1,
   "metadata": {},
   "outputs": [
    {
     "name": "stderr",
     "output_type": "stream",
     "text": [
      "/anaconda3/lib/python3.7/site-packages/lightgbm/__init__.py:46: UserWarning: Starting from version 2.2.1, the library file in distribution wheels for macOS is built by the Apple Clang (Xcode_8.3.3) compiler.\n",
      "This means that in case of installing LightGBM from PyPI via the ``pip install lightgbm`` command, you don't need to install the gcc compiler anymore.\n",
      "Instead of that, you need to install the OpenMP library, which is required for running LightGBM on the system with the Apple Clang compiler.\n",
      "You can install the OpenMP library by the following command: ``brew install libomp``.\n",
      "  \"You can install the OpenMP library by the following command: ``brew install libomp``.\", UserWarning)\n"
     ]
    }
   ],
   "source": [
    "# Import pandas library\n",
    "import pandas as pd\n",
    "\n",
    "# Import numpy library\n",
    "import numpy as np\n",
    "\n",
    "# Import Train-Test split library\n",
    "from sklearn.linear_model import LinearRegression\n",
    "\n",
    "# Import RandomForestRegressor library\n",
    "from sklearn.ensemble import RandomForestRegressor\n",
    "\n",
    "# Import XGBRegressor library\n",
    "from xgboost import XGBRegressor\n",
    "\n",
    "# Import LightGBM library\n",
    "import lightgbm as lgb\n",
    "\n",
    "# Import GradientBoostingRegressor library\n",
    "from sklearn.ensemble import GradientBoostingRegressor\n",
    "\n",
    "# Import Train-Test split library\n",
    "from sklearn.model_selection import train_test_split\n",
    "\n",
    "# Import metrics computing library\n",
    "from sklearn import metrics\n",
    "\n",
    "# Import matplotlib library\n",
    "import matplotlib.pyplot as plt\n",
    "%matplotlib inline\n",
    "\n",
    "# Import library to ignore warnings\n",
    "import warnings\n",
    "warnings.filterwarnings('ignore')\n",
    "\n",
    "# Import random to set seed\n",
    "import random"
   ]
  },
  {
   "cell_type": "markdown",
   "metadata": {},
   "source": [
    "### <a id='csv_file'>2. Load CSV file from GitHub/ Local<a>"
   ]
  },
  {
   "cell_type": "code",
   "execution_count": 2,
   "metadata": {},
   "outputs": [
    {
     "name": "stdout",
     "output_type": "stream",
     "text": [
      "(1030, 9)\n"
     ]
    },
    {
     "data": {
      "text/html": [
       "<div>\n",
       "<style scoped>\n",
       "    .dataframe tbody tr th:only-of-type {\n",
       "        vertical-align: middle;\n",
       "    }\n",
       "\n",
       "    .dataframe tbody tr th {\n",
       "        vertical-align: top;\n",
       "    }\n",
       "\n",
       "    .dataframe thead th {\n",
       "        text-align: right;\n",
       "    }\n",
       "</style>\n",
       "<table border=\"1\" class=\"dataframe\">\n",
       "  <thead>\n",
       "    <tr style=\"text-align: right;\">\n",
       "      <th></th>\n",
       "      <th>cement</th>\n",
       "      <th>blast</th>\n",
       "      <th>flyash</th>\n",
       "      <th>water</th>\n",
       "      <th>superplasticizer</th>\n",
       "      <th>coarse_aggregate</th>\n",
       "      <th>fine_aggregate</th>\n",
       "      <th>age</th>\n",
       "      <th>compressive_strength</th>\n",
       "    </tr>\n",
       "  </thead>\n",
       "  <tbody>\n",
       "    <tr>\n",
       "      <th>0</th>\n",
       "      <td>540.0</td>\n",
       "      <td>0.0</td>\n",
       "      <td>0.0</td>\n",
       "      <td>162.0</td>\n",
       "      <td>2.5</td>\n",
       "      <td>1040.0</td>\n",
       "      <td>676.0</td>\n",
       "      <td>28</td>\n",
       "      <td>79.99</td>\n",
       "    </tr>\n",
       "    <tr>\n",
       "      <th>1</th>\n",
       "      <td>540.0</td>\n",
       "      <td>0.0</td>\n",
       "      <td>0.0</td>\n",
       "      <td>162.0</td>\n",
       "      <td>2.5</td>\n",
       "      <td>1055.0</td>\n",
       "      <td>676.0</td>\n",
       "      <td>28</td>\n",
       "      <td>61.89</td>\n",
       "    </tr>\n",
       "    <tr>\n",
       "      <th>2</th>\n",
       "      <td>332.5</td>\n",
       "      <td>142.5</td>\n",
       "      <td>0.0</td>\n",
       "      <td>228.0</td>\n",
       "      <td>0.0</td>\n",
       "      <td>932.0</td>\n",
       "      <td>594.0</td>\n",
       "      <td>270</td>\n",
       "      <td>40.27</td>\n",
       "    </tr>\n",
       "    <tr>\n",
       "      <th>3</th>\n",
       "      <td>332.5</td>\n",
       "      <td>142.5</td>\n",
       "      <td>0.0</td>\n",
       "      <td>228.0</td>\n",
       "      <td>0.0</td>\n",
       "      <td>932.0</td>\n",
       "      <td>594.0</td>\n",
       "      <td>365</td>\n",
       "      <td>41.05</td>\n",
       "    </tr>\n",
       "    <tr>\n",
       "      <th>4</th>\n",
       "      <td>198.6</td>\n",
       "      <td>132.4</td>\n",
       "      <td>0.0</td>\n",
       "      <td>192.0</td>\n",
       "      <td>0.0</td>\n",
       "      <td>978.4</td>\n",
       "      <td>825.5</td>\n",
       "      <td>360</td>\n",
       "      <td>44.30</td>\n",
       "    </tr>\n",
       "  </tbody>\n",
       "</table>\n",
       "</div>"
      ],
      "text/plain": [
       "   cement  blast  flyash  water  superplasticizer  coarse_aggregate  \\\n",
       "0   540.0    0.0     0.0  162.0               2.5            1040.0   \n",
       "1   540.0    0.0     0.0  162.0               2.5            1055.0   \n",
       "2   332.5  142.5     0.0  228.0               0.0             932.0   \n",
       "3   332.5  142.5     0.0  228.0               0.0             932.0   \n",
       "4   198.6  132.4     0.0  192.0               0.0             978.4   \n",
       "\n",
       "   fine_aggregate  age  compressive_strength  \n",
       "0           676.0   28                 79.99  \n",
       "1           676.0   28                 61.89  \n",
       "2           594.0  270                 40.27  \n",
       "3           594.0  365                 41.05  \n",
       "4           825.5  360                 44.30  "
      ]
     },
     "execution_count": 2,
     "metadata": {},
     "output_type": "execute_result"
    }
   ],
   "source": [
    "# Load Concrete Data file that is saved after Feature Engineering from local disk\n",
    "# concrete_data = pd.read_csv(\"data/concrete.csv\")\n",
    "\n",
    "# Load Concrete Data file from github\n",
    "concrete_data = pd.read_csv(\"https://raw.githubusercontent.com/socratesk/YHatSchoolOfAI/master/data/concrete.csv\")\n",
    "\n",
    "# Print the shape\n",
    "print (concrete_data.shape)\n",
    "\n",
    "# Print few rows to visualize the data\n",
    "concrete_data.head()"
   ]
  },
  {
   "cell_type": "markdown",
   "metadata": {},
   "source": [
    "## <a id='train_test'>3. Split the dataset into Train-1 - Train-2 - Test</a>"
   ]
  },
  {
   "cell_type": "code",
   "execution_count": 3,
   "metadata": {},
   "outputs": [
    {
     "name": "stdout",
     "output_type": "stream",
     "text": [
      "Train-1 dataset:  (412, 8) (412,)\n",
      "Train-2 dataset:  (412, 8) (412,)\n",
      "Test dataset:  (206, 8) (206,)\n"
     ]
    }
   ],
   "source": [
    "# Set the Train and Test split ratio to 80:20\n",
    "TEST_RATIO = 0.2\n",
    "TRAIN_RATIO = 0.5\n",
    "\n",
    "# Split the main dataset into Train and Test\n",
    "X_train, X_test, Y_train, Y_test = train_test_split(concrete_data.drop('compressive_strength',  axis = 1), \n",
    "                                                    concrete_data['compressive_strength'], \n",
    "                                                    test_size=TEST_RATIO, \n",
    "                                                    random_state = 225)\n",
    "\n",
    "# Split the Train dataset into Train1 and Train2\n",
    "X_train1, X_train2, Y_train1, Y_train2 = train_test_split(X_train, Y_train, test_size=TRAIN_RATIO, random_state = 225)\n",
    "\n",
    "# Print the shape of the Train-1 set\n",
    "print(\"Train-1 dataset: \", X_train1.shape, Y_train1.shape)\n",
    "\n",
    "# Print the shape of the Train-2 set\n",
    "print(\"Train-2 dataset: \", X_train2.shape, Y_train2.shape)\n",
    "\n",
    "# Print the shape of the Test set\n",
    "print(\"Test dataset: \", X_test.shape, Y_test.shape)"
   ]
  },
  {
   "cell_type": "markdown",
   "metadata": {},
   "source": [
    "## <a id='meta'>4. Generate meta models</a>"
   ]
  },
  {
   "cell_type": "markdown",
   "metadata": {},
   "source": [
    "![Modelstack](img/stack-1.png)"
   ]
  },
  {
   "cell_type": "markdown",
   "metadata": {},
   "source": [
    "### <a id='lr_train_test'>4.1 Linear Regression Model</a>"
   ]
  },
  {
   "cell_type": "code",
   "execution_count": 12,
   "metadata": {},
   "outputs": [
    {
     "data": {
      "text/plain": [
       "array([19.0933908 , 26.36286664, 49.04016149, 59.66782496, 34.64400205,\n",
       "       24.92458352, 55.05591474, 29.66803779])"
      ]
     },
     "execution_count": 12,
     "metadata": {},
     "output_type": "execute_result"
    }
   ],
   "source": [
    "# Set seed for reproducibility\n",
    "random.seed(22)\n",
    "\n",
    "# Generate a Linear Regression object\n",
    "lr_model = LinearRegression()\n",
    "\n",
    "# Train a Linear Regression model using Train-1 dataset\n",
    "lr_model.fit(X_train1, Y_train1)\n",
    "\n",
    "# Predict the outcome on Train-2\n",
    "y_hat_lr_train2 = lr_model.predict(X_train2)\n",
    "\n",
    "# Predict the outcome on Test\n",
    "y_hat_lr_test = lr_model.predict(X_test)\n",
    "y_hat_lr_test[:8]"
   ]
  },
  {
   "cell_type": "markdown",
   "metadata": {},
   "source": [
    "### <a id='rf_train_test'>4.2 Random Forest Model</a>"
   ]
  },
  {
   "cell_type": "code",
   "execution_count": 13,
   "metadata": {},
   "outputs": [
    {
     "data": {
      "text/plain": [
       "array([10.8762, 27.7617, 60.4286, 63.7143, 32.852 , 24.8368, 62.136 ,\n",
       "       17.3313])"
      ]
     },
     "execution_count": 13,
     "metadata": {},
     "output_type": "execute_result"
    }
   ],
   "source": [
    "# Generate a Random Forest Regressor object\n",
    "rf_model = RandomForestRegressor(n_estimators=100, min_samples_leaf=1, random_state=22)\n",
    "\n",
    "# Train a Random Forest model using Train-1 dataset\n",
    "rf_model.fit(X_train1, Y_train1)\n",
    "\n",
    "# Predict the outcome on Train-2\n",
    "y_hat_rf_train2 = rf_model.predict(X_train2)\n",
    "\n",
    "# Predict the outcome on Test\n",
    "y_hat_rf_test = rf_model.predict(X_test)\n",
    "y_hat_rf_test[:8]"
   ]
  },
  {
   "cell_type": "markdown",
   "metadata": {},
   "source": [
    "### <a id='xgb_train_test'>4.3 XGBoost Regressor Model</a>"
   ]
  },
  {
   "cell_type": "code",
   "execution_count": 14,
   "metadata": {},
   "outputs": [
    {
     "name": "stdout",
     "output_type": "stream",
     "text": [
      "[11:39:41] WARNING: src/objective/regression_obj.cu:152: reg:linear is now deprecated in favor of reg:squarederror.\n"
     ]
    },
    {
     "data": {
      "text/plain": [
       "array([10.421309, 20.424622, 63.261734, 66.9889  , 31.990044, 24.104477,\n",
       "       60.82658 , 22.952148], dtype=float32)"
      ]
     },
     "execution_count": 14,
     "metadata": {},
     "output_type": "execute_result"
    }
   ],
   "source": [
    "# Generate a XGBoost object\n",
    "xgb_model = XGBRegressor(random_state=22)\n",
    "\n",
    "# Train a XGBoost model using Train-1 dataset\n",
    "xgb_model.fit(X_train1, Y_train1)\n",
    "\n",
    "# Predict the outcome on Train-2\n",
    "y_hat_xgb_train2 = xgb_model.predict(X_train2)\n",
    "\n",
    "# Predict the outcome on Test\n",
    "y_hat_xgb_test = xgb_model.predict(X_test)\n",
    "y_hat_xgb_test[:8]"
   ]
  },
  {
   "cell_type": "markdown",
   "metadata": {},
   "source": [
    "### <a id='lgb_train_test'>4.4 LightGBM Regressor Model</a>"
   ]
  },
  {
   "cell_type": "code",
   "execution_count": 15,
   "metadata": {},
   "outputs": [
    {
     "data": {
      "text/plain": [
       "array([11.06855711, 18.44118416, 68.17646603, 65.19245748, 28.79990979,\n",
       "       22.77074216, 66.22507358, 17.14769074])"
      ]
     },
     "execution_count": 15,
     "metadata": {},
     "output_type": "execute_result"
    }
   ],
   "source": [
    "# Set seed for reproducibility\n",
    "random.seed(22)\n",
    "\n",
    "d_train = lgb.Dataset(X_train1, label=Y_train1)\n",
    "\n",
    "params = {}\n",
    "params['learning_rate'] = 0.3\n",
    "params['boosting_type'] = 'gbdt'\n",
    "params['objective'] = 'regression'\n",
    "params['metric'] = 'rmse'\n",
    "params['sub_feature'] = 0.6\n",
    "params['num_leaves'] = 10\n",
    "params['min_data'] = 5\n",
    "params['max_depth'] = 5\n",
    "\n",
    "# Train a LightGBM model using Train-1 dataset\n",
    "lgb_model = lgb.train(params=params, train_set=d_train, num_boost_round=100)\n",
    "\n",
    "# Predict the outcome on Train-2\n",
    "y_hat_lgb_train2 = lgb_model.predict(X_train2)\n",
    "\n",
    "# Predict the outcome on Test\n",
    "y_hat_lgb_test = lgb_model.predict(X_test)\n",
    "y_hat_lgb_test[:8]"
   ]
  },
  {
   "cell_type": "markdown",
   "metadata": {},
   "source": [
    "### <a id='gbm_train_test'>4.5 Gradient Boosting Machine (GBM) Model</a>"
   ]
  },
  {
   "cell_type": "code",
   "execution_count": 16,
   "metadata": {},
   "outputs": [
    {
     "data": {
      "text/plain": [
       "array([ 9.65996412, 18.86587751, 62.15292469, 66.78175275, 32.57228031,\n",
       "       29.77127839, 62.10896389, 22.68678701])"
      ]
     },
     "execution_count": 16,
     "metadata": {},
     "output_type": "execute_result"
    }
   ],
   "source": [
    "# Set seed for reproducibility\n",
    "random.seed(22)\n",
    "\n",
    "# Generate a Gradient Boosting Regressor object\n",
    "gbm_model = GradientBoostingRegressor(n_estimators=100, min_samples_leaf=1, random_state=22)\n",
    "\n",
    "# Train a  Gradient Boosting Regressor model using Train-1 dataset\n",
    "gbm_model.fit(X_train1, Y_train1)\n",
    "\n",
    "# Predict the outcome on Train-2\n",
    "y_hat_gbm_train2 = gbm_model.predict(X_train2)\n",
    "\n",
    "# Predict the outcome on Test\n",
    "y_hat_gbm_test = gbm_model.predict(X_test)\n",
    "y_hat_gbm_test[:8]"
   ]
  },
  {
   "cell_type": "markdown",
   "metadata": {},
   "source": [
    "## <a id='combine_yhat_train'>5 Combine the predicted values of Train-2</a>"
   ]
  },
  {
   "cell_type": "markdown",
   "metadata": {},
   "source": [
    "![Modelstack](img/stack-2.png)"
   ]
  },
  {
   "cell_type": "code",
   "execution_count": 9,
   "metadata": {},
   "outputs": [
    {
     "data": {
      "text/html": [
       "<div>\n",
       "<style scoped>\n",
       "    .dataframe tbody tr th:only-of-type {\n",
       "        vertical-align: middle;\n",
       "    }\n",
       "\n",
       "    .dataframe tbody tr th {\n",
       "        vertical-align: top;\n",
       "    }\n",
       "\n",
       "    .dataframe thead th {\n",
       "        text-align: right;\n",
       "    }\n",
       "</style>\n",
       "<table border=\"1\" class=\"dataframe\">\n",
       "  <thead>\n",
       "    <tr style=\"text-align: right;\">\n",
       "      <th></th>\n",
       "      <th>Linear_Reg_Prediction</th>\n",
       "      <th>RandomForest_Prediction</th>\n",
       "      <th>XGBoost_Prediction</th>\n",
       "      <th>LightGBM_Prediction</th>\n",
       "      <th>GBM_Prediction</th>\n",
       "      <th>Actual</th>\n",
       "    </tr>\n",
       "  </thead>\n",
       "  <tbody>\n",
       "    <tr>\n",
       "      <th>198</th>\n",
       "      <td>35.871583</td>\n",
       "      <td>44.5401</td>\n",
       "      <td>41.818840</td>\n",
       "      <td>39.387519</td>\n",
       "      <td>46.344508</td>\n",
       "      <td>37.34</td>\n",
       "    </tr>\n",
       "    <tr>\n",
       "      <th>331</th>\n",
       "      <td>39.334756</td>\n",
       "      <td>40.6432</td>\n",
       "      <td>45.571079</td>\n",
       "      <td>44.403395</td>\n",
       "      <td>43.496913</td>\n",
       "      <td>52.50</td>\n",
       "    </tr>\n",
       "    <tr>\n",
       "      <th>396</th>\n",
       "      <td>46.051644</td>\n",
       "      <td>62.0302</td>\n",
       "      <td>66.310356</td>\n",
       "      <td>70.136719</td>\n",
       "      <td>65.694177</td>\n",
       "      <td>41.37</td>\n",
       "    </tr>\n",
       "    <tr>\n",
       "      <th>150</th>\n",
       "      <td>58.918634</td>\n",
       "      <td>63.5729</td>\n",
       "      <td>65.275810</td>\n",
       "      <td>56.317107</td>\n",
       "      <td>66.236757</td>\n",
       "      <td>66.10</td>\n",
       "    </tr>\n",
       "    <tr>\n",
       "      <th>364</th>\n",
       "      <td>33.147136</td>\n",
       "      <td>15.6449</td>\n",
       "      <td>17.373890</td>\n",
       "      <td>22.175703</td>\n",
       "      <td>16.136370</td>\n",
       "      <td>18.02</td>\n",
       "    </tr>\n",
       "  </tbody>\n",
       "</table>\n",
       "</div>"
      ],
      "text/plain": [
       "     Linear_Reg_Prediction  RandomForest_Prediction  XGBoost_Prediction  \\\n",
       "198              35.871583                  44.5401           41.818840   \n",
       "331              39.334756                  40.6432           45.571079   \n",
       "396              46.051644                  62.0302           66.310356   \n",
       "150              58.918634                  63.5729           65.275810   \n",
       "364              33.147136                  15.6449           17.373890   \n",
       "\n",
       "     LightGBM_Prediction  GBM_Prediction  Actual  \n",
       "198            39.387519       46.344508   37.34  \n",
       "331            44.403395       43.496913   52.50  \n",
       "396            70.136719       65.694177   41.37  \n",
       "150            56.317107       66.236757   66.10  \n",
       "364            22.175703       16.136370   18.02  "
      ]
     },
     "execution_count": 9,
     "metadata": {},
     "output_type": "execute_result"
    }
   ],
   "source": [
    "# Form a dataframe using Train2 predictions\n",
    "metamodel_train2_df = pd.DataFrame({\n",
    "                    'Linear_Reg_Prediction': y_hat_lr_train2,\n",
    "                    'RandomForest_Prediction': y_hat_rf_train2,\n",
    "                    'XGBoost_Prediction': y_hat_xgb_train2,\n",
    "                    'LightGBM_Prediction': y_hat_lgb_train2,\n",
    "                    'GBM_Prediction': y_hat_gbm_train2,\n",
    "                    'Actual': Y_train2}\n",
    ")\n",
    "metamodel_train2_df.head()"
   ]
  },
  {
   "cell_type": "markdown",
   "metadata": {},
   "source": [
    "## <a id='combine_yhat_test'>6 Combine the predicted values of Test</a>"
   ]
  },
  {
   "cell_type": "markdown",
   "metadata": {},
   "source": [
    "![Modelstack](img/stack-3.png)"
   ]
  },
  {
   "cell_type": "code",
   "execution_count": 17,
   "metadata": {},
   "outputs": [
    {
     "data": {
      "text/html": [
       "<div>\n",
       "<style scoped>\n",
       "    .dataframe tbody tr th:only-of-type {\n",
       "        vertical-align: middle;\n",
       "    }\n",
       "\n",
       "    .dataframe tbody tr th {\n",
       "        vertical-align: top;\n",
       "    }\n",
       "\n",
       "    .dataframe thead th {\n",
       "        text-align: right;\n",
       "    }\n",
       "</style>\n",
       "<table border=\"1\" class=\"dataframe\">\n",
       "  <thead>\n",
       "    <tr style=\"text-align: right;\">\n",
       "      <th></th>\n",
       "      <th>Linear_Reg_Prediction</th>\n",
       "      <th>RandomForest_Prediction</th>\n",
       "      <th>XGBoost_Prediction</th>\n",
       "      <th>LightGBM_Prediction</th>\n",
       "      <th>GBM_Prediction</th>\n",
       "      <th>Actual</th>\n",
       "    </tr>\n",
       "  </thead>\n",
       "  <tbody>\n",
       "    <tr>\n",
       "      <th>189</th>\n",
       "      <td>19.093391</td>\n",
       "      <td>10.8762</td>\n",
       "      <td>10.421309</td>\n",
       "      <td>11.068557</td>\n",
       "      <td>9.659964</td>\n",
       "      <td>10.38</td>\n",
       "    </tr>\n",
       "    <tr>\n",
       "      <th>427</th>\n",
       "      <td>26.362867</td>\n",
       "      <td>27.7617</td>\n",
       "      <td>20.424622</td>\n",
       "      <td>18.441184</td>\n",
       "      <td>18.865878</td>\n",
       "      <td>19.42</td>\n",
       "    </tr>\n",
       "    <tr>\n",
       "      <th>405</th>\n",
       "      <td>49.040161</td>\n",
       "      <td>60.4286</td>\n",
       "      <td>63.261734</td>\n",
       "      <td>68.176466</td>\n",
       "      <td>62.152925</td>\n",
       "      <td>69.84</td>\n",
       "    </tr>\n",
       "    <tr>\n",
       "      <th>141</th>\n",
       "      <td>59.667825</td>\n",
       "      <td>63.7143</td>\n",
       "      <td>66.988899</td>\n",
       "      <td>65.192457</td>\n",
       "      <td>66.781753</td>\n",
       "      <td>64.30</td>\n",
       "    </tr>\n",
       "    <tr>\n",
       "      <th>920</th>\n",
       "      <td>34.644002</td>\n",
       "      <td>32.8520</td>\n",
       "      <td>31.990044</td>\n",
       "      <td>28.799910</td>\n",
       "      <td>32.572280</td>\n",
       "      <td>29.07</td>\n",
       "    </tr>\n",
       "  </tbody>\n",
       "</table>\n",
       "</div>"
      ],
      "text/plain": [
       "     Linear_Reg_Prediction  RandomForest_Prediction  XGBoost_Prediction  \\\n",
       "189              19.093391                  10.8762           10.421309   \n",
       "427              26.362867                  27.7617           20.424622   \n",
       "405              49.040161                  60.4286           63.261734   \n",
       "141              59.667825                  63.7143           66.988899   \n",
       "920              34.644002                  32.8520           31.990044   \n",
       "\n",
       "     LightGBM_Prediction  GBM_Prediction  Actual  \n",
       "189            11.068557        9.659964   10.38  \n",
       "427            18.441184       18.865878   19.42  \n",
       "405            68.176466       62.152925   69.84  \n",
       "141            65.192457       66.781753   64.30  \n",
       "920            28.799910       32.572280   29.07  "
      ]
     },
     "execution_count": 17,
     "metadata": {},
     "output_type": "execute_result"
    }
   ],
   "source": [
    "# Form a dataframe using Train2 predictions\n",
    "metamodel_test_df = pd.DataFrame({\n",
    "                    'Linear_Reg_Prediction': y_hat_lr_test,\n",
    "                    'RandomForest_Prediction': y_hat_rf_test,\n",
    "                    'XGBoost_Prediction': y_hat_xgb_test,\n",
    "                    'LightGBM_Prediction': y_hat_lgb_test,\n",
    "                    'GBM_Prediction': y_hat_gbm_test,\n",
    "                    'Actual': Y_test}\n",
    ")\n",
    "metamodel_test_df.head()"
   ]
  },
  {
   "cell_type": "markdown",
   "metadata": {
    "collapsed": true
   },
   "source": [
    "## <a id='train_meta'>7. Generate top-level model using metamodel predicted values using Train-2</a>"
   ]
  },
  {
   "cell_type": "markdown",
   "metadata": {},
   "source": [
    "### <a id='xgb_top'>7.1 Use XGBoost Regressor as top-level model</a>"
   ]
  },
  {
   "cell_type": "code",
   "execution_count": 18,
   "metadata": {},
   "outputs": [
    {
     "name": "stdout",
     "output_type": "stream",
     "text": [
      "[11:46:42] WARNING: src/objective/regression_obj.cu:152: reg:linear is now deprecated in favor of reg:squarederror.\n"
     ]
    }
   ],
   "source": [
    "# Generate a XGBoost object\n",
    "xgb_model_top = XGBRegressor(random_state=22)\n",
    "\n",
    "# Train a XGBoost model using metamodel dataset\n",
    "xgb_model_top.fit(metamodel_train2_df.drop('Actual', axis = 1), metamodel_train2_df['Actual'])\n",
    "\n",
    "# Predict the outcome on Test\n",
    "y_hat_xgb_test_top = xgb_model_top.predict(metamodel_test_df.drop('Actual', axis = 1))\n"
   ]
  },
  {
   "cell_type": "markdown",
   "metadata": {
    "collapsed": true
   },
   "source": [
    "## <a id='analyze_results'>8. Analyze the metamodel and top-level model results</a>"
   ]
  },
  {
   "cell_type": "markdown",
   "metadata": {
    "collapsed": true
   },
   "source": [
    "### <a id='scatterplot_models'>8.1 Scatter plot the model results</a>"
   ]
  },
  {
   "cell_type": "code",
   "execution_count": 19,
   "metadata": {},
   "outputs": [
    {
     "data": {
      "text/plain": [
       "Text(0.5, 1.0, 'Scatter plot STACKED MODEL - XGBoost')"
      ]
     },
     "execution_count": 19,
     "metadata": {},
     "output_type": "execute_result"
    },
    {
     "data": {
      "image/png": "[encoded data removed]",
      "text/plain": [
       "<Figure size 1152x720 with 6 Axes>"
      ]
     },
     "metadata": {
      "needs_background": "light"
     },
     "output_type": "display_data"
    }
   ],
   "source": [
    "# Set plotting area/ size\n",
    "plt.figure(1, figsize=(16, 10))\n",
    "\n",
    "# Set first plot in a grid\n",
    "plt.subplot(231)\n",
    "\n",
    "# Plot the Actual and Predicted values\n",
    "plt.scatter(Y_test, y_hat_lr_test)\n",
    "plt.xlabel('Actual')\n",
    "plt.ylabel('Predicted')\n",
    "plt.title(\"Scatter plot Y-actual vs Y-hat - Linear Regression\")\n",
    "\n",
    "# --------------------------\n",
    "# Set second plot in a grid\n",
    "plt.subplot(232)\n",
    "\n",
    "# Plot the Actual and Predicted values\n",
    "plt.scatter(Y_test, y_hat_rf_test)\n",
    "plt.xlabel('Actual')\n",
    "plt.ylabel('Predicted')\n",
    "plt.title(\"Scatter plot Y-actual vs Y-hat - Random Forest\")\n",
    "\n",
    "# --------------------------\n",
    "# Set third plot in a grid\n",
    "plt.subplot(233)\n",
    "\n",
    "# Plot the Actual and Predicted values\n",
    "plt.scatter(Y_test, y_hat_xgb_test)\n",
    "plt.xlabel('Actual')\n",
    "plt.ylabel('Predicted')\n",
    "plt.title(\"Scatter plot Y-actual vs Y-hat - XGBoost\")\n",
    "\n",
    "# --------------------------\n",
    "# Set fourth plot in a grid\n",
    "plt.subplot(234)\n",
    "\n",
    "# Plot the Actual and Predicted values\n",
    "plt.scatter(Y_test, y_hat_lgb_test)\n",
    "plt.xlabel('Actual')\n",
    "plt.ylabel('Predicted')\n",
    "plt.title(\"Scatter plot Y-actual vs Y-hat - LightGBM\")\n",
    "\n",
    "# --------------------------\n",
    "# Set fifth plot in a grid\n",
    "plt.subplot(235)\n",
    "\n",
    "# Plot the Actual and Predicted values\n",
    "plt.scatter(Y_test, y_hat_gbm_test)\n",
    "plt.xlabel('Actual')\n",
    "plt.ylabel('Predicted')\n",
    "plt.title(\"Scatter plot Y-actual vs Y-hat - GBM\")\n",
    "\n",
    "# --------------------------\n",
    "# Set sixth plot in a grid\n",
    "plt.subplot(236)\n",
    "\n",
    "# Plot the Actual and Predicted values\n",
    "plt.scatter(Y_test, y_hat_xgb_test_top)\n",
    "plt.xlabel('Actual')\n",
    "plt.ylabel('Predicted')\n",
    "plt.title(\"Scatter plot STACKED MODEL - XGBoost\")"
   ]
  },
  {
   "cell_type": "markdown",
   "metadata": {
    "collapsed": true
   },
   "source": [
    "### <a id='rmse_models'>8.2 Compute the RMSE score of all models</a>"
   ]
  },
  {
   "cell_type": "code",
   "execution_count": 20,
   "metadata": {},
   "outputs": [
    {
     "data": {
      "text/html": [
       "<div>\n",
       "<style scoped>\n",
       "    .dataframe tbody tr th:only-of-type {\n",
       "        vertical-align: middle;\n",
       "    }\n",
       "\n",
       "    .dataframe tbody tr th {\n",
       "        vertical-align: top;\n",
       "    }\n",
       "\n",
       "    .dataframe thead th {\n",
       "        text-align: right;\n",
       "    }\n",
       "</style>\n",
       "<table border=\"1\" class=\"dataframe\">\n",
       "  <thead>\n",
       "    <tr style=\"text-align: right;\">\n",
       "      <th></th>\n",
       "      <th>Linear Regression</th>\n",
       "      <th>Random Forest</th>\n",
       "      <th>XGBoost</th>\n",
       "      <th>LightGBM</th>\n",
       "      <th>GBM</th>\n",
       "      <th>XGB-STACK</th>\n",
       "    </tr>\n",
       "  </thead>\n",
       "  <tbody>\n",
       "    <tr>\n",
       "      <th>0</th>\n",
       "      <td>10.205429</td>\n",
       "      <td>6.316279</td>\n",
       "      <td>5.572356</td>\n",
       "      <td>5.738173</td>\n",
       "      <td>5.527342</td>\n",
       "      <td>5.312171</td>\n",
       "    </tr>\n",
       "  </tbody>\n",
       "</table>\n",
       "</div>"
      ],
      "text/plain": [
       "   Linear Regression  Random Forest   XGBoost  LightGBM       GBM  XGB-STACK\n",
       "0          10.205429       6.316279  5.572356  5.738173  5.527342   5.312171"
      ]
     },
     "execution_count": 20,
     "metadata": {},
     "output_type": "execute_result"
    }
   ],
   "source": [
    "# Compute the RMSE score and print it as a dataframe\n",
    "rmse_lr = np.sqrt(metrics.mean_squared_error(Y_test, y_hat_lr_test))\n",
    "\n",
    "rmse_rf = np.sqrt(metrics.mean_squared_error(Y_test, y_hat_rf_test))\n",
    "\n",
    "rmse_xgb = np.sqrt(metrics.mean_squared_error(Y_test, y_hat_xgb_test))\n",
    "\n",
    "rmse_lgb = np.sqrt(metrics.mean_squared_error(Y_test, y_hat_lgb_test))\n",
    "\n",
    "rmse_gbm = np.sqrt(metrics.mean_squared_error(Y_test, y_hat_gbm_test))\n",
    "\n",
    "rmse_xgb_top = np.sqrt(metrics.mean_squared_error(Y_test, y_hat_xgb_test_top))\n",
    "                       \n",
    "rmse_df = pd.DataFrame(\n",
    "                    {'Linear Regression': [rmse_lr],\n",
    "                    'Random Forest': [rmse_rf],\n",
    "                    'XGBoost': [rmse_xgb],\n",
    "                    'LightGBM': [rmse_lgb],\n",
    "                    'GBM': [rmse_gbm],\n",
    "                    'XGB-STACK': [rmse_xgb_top]}\n",
    ")\n",
    "\n",
    "rmse_df"
   ]
  },
  {
   "cell_type": "markdown",
   "metadata": {},
   "source": [
    "From the above graph, the stacked model's \"predicted values\" are closely matching with the \"actual values\". It shows, FOR SURE, the stacking will be working better than the inividual models."
   ]
  },
  {
   "cell_type": "markdown",
   "metadata": {
    "collapsed": true
   },
   "source": [
    "### <a id='perc_perf'>8.3 Compute and print the percentage increase in performance</a>"
   ]
  },
  {
   "cell_type": "code",
   "execution_count": 21,
   "metadata": {},
   "outputs": [
    {
     "data": {
      "text/plain": [
       "'Percentage increase in RMSE is 3.9%'"
      ]
     },
     "metadata": {},
     "output_type": "display_data"
    }
   ],
   "source": [
    "display ('Percentage increase in RMSE is {}%'.format( round(((rmse_gbm - rmse_xgb_top)/rmse_gbm), 3) * 100))"
   ]
  },
  {
   "cell_type": "code",
   "execution_count": null,
   "metadata": {},
   "outputs": [],
   "source": []
  }
 ],
 "metadata": {
  "kernelspec": {
   "display_name": "Python 3",
   "language": "python",
   "name": "python3"
  },
  "language_info": {
   "codemirror_mode": {
    "name": "ipython",
    "version": 3
   },
   "file_extension": ".py",
   "mimetype": "text/x-python",
   "name": "python",
   "nbconvert_exporter": "python",
   "pygments_lexer": "ipython3",
   "version": "3.7.3"
  }
 },
 "nbformat": 4,
 "nbformat_minor": 2
}
