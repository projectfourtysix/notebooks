{
 "cells": [
  {
   "cell_type": "markdown",
   "metadata": {},
   "source": [
    "# Hyper-parameter Tuning. Model: XGBoost"
   ]
  },
  {
   "cell_type": "markdown",
   "metadata": {},
   "source": [
    "### Load libraries"
   ]
  },
  {
   "cell_type": "code",
   "execution_count": 1,
   "metadata": {},
   "outputs": [],
   "source": [
    "# Import Libraries\n",
    "import numpy as np\n",
    "import pandas as pd\n",
    "import xgboost as xgb\n",
    "\n",
    "from xgboost import XGBRegressor\n",
    "from sklearn.model_selection import train_test_split\n",
    "from sklearn.model_selection import GridSearchCV\n",
    "from sklearn import metrics\n",
    "\n",
    "# Import pickle\n",
    "import pickle\n",
    "\n",
    "# Import warnings\n",
    "import warnings\n",
    "warnings.filterwarnings('ignore')"
   ]
  },
  {
   "cell_type": "markdown",
   "metadata": {},
   "source": [
    "### Source data location and data dictionary"
   ]
  },
  {
   "cell_type": "raw",
   "metadata": {
    "collapsed": true
   },
   "source": [
    "# Data Documentation: http://archive.ics.uci.edu/ml/datasets/concrete+compressive+strength\n",
    "# Data Description: http://archive.ics.uci.edu/ml/machine-learning-databases/concrete/compressive/Concrete_Readme.txt\n",
    "# Data Source:  https://archive.ics.uci.edu/ml/machine-learning-databases/concrete/compressive/Concrete_Data.xls\n",
    "\n",
    "# Data location: https://github.com/socratesk/YHatSchoolOfAI/blob/master/data/concrete.csv\n",
    "# Data Dictionary: https://github.com/socratesk/YHatSchoolOfAI/blob/master/data/breastcancer.md"
   ]
  },
  {
   "cell_type": "markdown",
   "metadata": {},
   "source": [
    "### Load data from github/ local"
   ]
  },
  {
   "cell_type": "code",
   "execution_count": 2,
   "metadata": {},
   "outputs": [
    {
     "name": "stdout",
     "output_type": "stream",
     "text": [
      "(1030, 9)\n"
     ]
    },
    {
     "data": {
      "text/html": [
       "<div>\n",
       "<style scoped>\n",
       "    .dataframe tbody tr th:only-of-type {\n",
       "        vertical-align: middle;\n",
       "    }\n",
       "\n",
       "    .dataframe tbody tr th {\n",
       "        vertical-align: top;\n",
       "    }\n",
       "\n",
       "    .dataframe thead th {\n",
       "        text-align: right;\n",
       "    }\n",
       "</style>\n",
       "<table border=\"1\" class=\"dataframe\">\n",
       "  <thead>\n",
       "    <tr style=\"text-align: right;\">\n",
       "      <th></th>\n",
       "      <th>cement</th>\n",
       "      <th>blast</th>\n",
       "      <th>flyash</th>\n",
       "      <th>water</th>\n",
       "      <th>superplasticizer</th>\n",
       "      <th>coarse_aggregate</th>\n",
       "      <th>fine_aggregate</th>\n",
       "      <th>age</th>\n",
       "      <th>compressive_strength</th>\n",
       "    </tr>\n",
       "  </thead>\n",
       "  <tbody>\n",
       "    <tr>\n",
       "      <th>0</th>\n",
       "      <td>540.0</td>\n",
       "      <td>0.0</td>\n",
       "      <td>0.0</td>\n",
       "      <td>162.0</td>\n",
       "      <td>2.5</td>\n",
       "      <td>1040.0</td>\n",
       "      <td>676.0</td>\n",
       "      <td>28</td>\n",
       "      <td>79.99</td>\n",
       "    </tr>\n",
       "    <tr>\n",
       "      <th>1</th>\n",
       "      <td>540.0</td>\n",
       "      <td>0.0</td>\n",
       "      <td>0.0</td>\n",
       "      <td>162.0</td>\n",
       "      <td>2.5</td>\n",
       "      <td>1055.0</td>\n",
       "      <td>676.0</td>\n",
       "      <td>28</td>\n",
       "      <td>61.89</td>\n",
       "    </tr>\n",
       "    <tr>\n",
       "      <th>2</th>\n",
       "      <td>332.5</td>\n",
       "      <td>142.5</td>\n",
       "      <td>0.0</td>\n",
       "      <td>228.0</td>\n",
       "      <td>0.0</td>\n",
       "      <td>932.0</td>\n",
       "      <td>594.0</td>\n",
       "      <td>270</td>\n",
       "      <td>40.27</td>\n",
       "    </tr>\n",
       "    <tr>\n",
       "      <th>3</th>\n",
       "      <td>332.5</td>\n",
       "      <td>142.5</td>\n",
       "      <td>0.0</td>\n",
       "      <td>228.0</td>\n",
       "      <td>0.0</td>\n",
       "      <td>932.0</td>\n",
       "      <td>594.0</td>\n",
       "      <td>365</td>\n",
       "      <td>41.05</td>\n",
       "    </tr>\n",
       "    <tr>\n",
       "      <th>4</th>\n",
       "      <td>198.6</td>\n",
       "      <td>132.4</td>\n",
       "      <td>0.0</td>\n",
       "      <td>192.0</td>\n",
       "      <td>0.0</td>\n",
       "      <td>978.4</td>\n",
       "      <td>825.5</td>\n",
       "      <td>360</td>\n",
       "      <td>44.30</td>\n",
       "    </tr>\n",
       "    <tr>\n",
       "      <th>5</th>\n",
       "      <td>266.0</td>\n",
       "      <td>114.0</td>\n",
       "      <td>0.0</td>\n",
       "      <td>228.0</td>\n",
       "      <td>0.0</td>\n",
       "      <td>932.0</td>\n",
       "      <td>670.0</td>\n",
       "      <td>90</td>\n",
       "      <td>47.03</td>\n",
       "    </tr>\n",
       "    <tr>\n",
       "      <th>6</th>\n",
       "      <td>380.0</td>\n",
       "      <td>95.0</td>\n",
       "      <td>0.0</td>\n",
       "      <td>228.0</td>\n",
       "      <td>0.0</td>\n",
       "      <td>932.0</td>\n",
       "      <td>594.0</td>\n",
       "      <td>365</td>\n",
       "      <td>43.70</td>\n",
       "    </tr>\n",
       "    <tr>\n",
       "      <th>7</th>\n",
       "      <td>380.0</td>\n",
       "      <td>95.0</td>\n",
       "      <td>0.0</td>\n",
       "      <td>228.0</td>\n",
       "      <td>0.0</td>\n",
       "      <td>932.0</td>\n",
       "      <td>594.0</td>\n",
       "      <td>28</td>\n",
       "      <td>36.45</td>\n",
       "    </tr>\n",
       "  </tbody>\n",
       "</table>\n",
       "</div>"
      ],
      "text/plain": [
       "   cement  blast  flyash  water  superplasticizer  coarse_aggregate  \\\n",
       "0   540.0    0.0     0.0  162.0               2.5            1040.0   \n",
       "1   540.0    0.0     0.0  162.0               2.5            1055.0   \n",
       "2   332.5  142.5     0.0  228.0               0.0             932.0   \n",
       "3   332.5  142.5     0.0  228.0               0.0             932.0   \n",
       "4   198.6  132.4     0.0  192.0               0.0             978.4   \n",
       "5   266.0  114.0     0.0  228.0               0.0             932.0   \n",
       "6   380.0   95.0     0.0  228.0               0.0             932.0   \n",
       "7   380.0   95.0     0.0  228.0               0.0             932.0   \n",
       "\n",
       "   fine_aggregate  age  compressive_strength  \n",
       "0           676.0   28                 79.99  \n",
       "1           676.0   28                 61.89  \n",
       "2           594.0  270                 40.27  \n",
       "3           594.0  365                 41.05  \n",
       "4           825.5  360                 44.30  \n",
       "5           670.0   90                 47.03  \n",
       "6           594.0  365                 43.70  \n",
       "7           594.0   28                 36.45  "
      ]
     },
     "execution_count": 2,
     "metadata": {},
     "output_type": "execute_result"
    }
   ],
   "source": [
    "# Load Concrete Data file from local file system\n",
    "# concrete_data = pd.read_csv(\"data/concrete.csv\")\n",
    "\n",
    "# Load Concrete Data file from github\n",
    "concrete_data = pd.read_csv(\"https://raw.githubusercontent.com/socratesk/YHatSchoolOfAI/master/data/concrete.csv\")\n",
    "\n",
    "# Print the shape\n",
    "print (concrete_data.shape)\n",
    "\n",
    "# Print few rows to visualize the data\n",
    "concrete_data.head(8)"
   ]
  },
  {
   "cell_type": "markdown",
   "metadata": {},
   "source": [
    "### Split the dataset into Train and Test sets"
   ]
  },
  {
   "cell_type": "code",
   "execution_count": 4,
   "metadata": {},
   "outputs": [],
   "source": [
    "SPLIT_RATIO = 0.2\n",
    "\n",
    "# Split data into Train and Test sets\n",
    "X_train, X_test, y_train, y_test = train_test_split(concrete_data.drop([\"compressive_strength\"], axis=1), \n",
    "                                                    concrete_data[\"compressive_strength\"], \n",
    "                                                    test_size = SPLIT_RATIO, \n",
    "                                                    random_state = 230)"
   ]
  },
  {
   "cell_type": "markdown",
   "metadata": {},
   "source": [
    "## Let us consider XGBoost algorithm to train the model and tune its hyper-parameters"
   ]
  },
  {
   "cell_type": "markdown",
   "metadata": {},
   "source": [
    "### Create a XGBoost Model"
   ]
  },
  {
   "cell_type": "code",
   "execution_count": 5,
   "metadata": {},
   "outputs": [],
   "source": [
    "# Generate XGBoost Model\n",
    "model = XGBRegressor(random_state=999)"
   ]
  },
  {
   "cell_type": "markdown",
   "metadata": {},
   "source": [
    "### Train the model with Train and Test dataset"
   ]
  },
  {
   "cell_type": "code",
   "execution_count": 7,
   "metadata": {},
   "outputs": [
    {
     "name": "stdout",
     "output_type": "stream",
     "text": [
      "[09:22:59] WARNING: src/objective/regression_obj.cu:152: reg:linear is now deprecated in favor of reg:squarederror.\n"
     ]
    },
    {
     "data": {
      "text/plain": [
       "XGBRegressor(base_score=0.5, booster='gbtree', colsample_bylevel=1,\n",
       "       colsample_bynode=1, colsample_bytree=1, gamma=0,\n",
       "       importance_type='gain', learning_rate=0.1, max_delta_step=0,\n",
       "       max_depth=3, min_child_weight=1, missing=None, n_estimators=100,\n",
       "       n_jobs=1, nthread=None, objective='reg:linear', random_state=999,\n",
       "       reg_alpha=0, reg_lambda=1, scale_pos_weight=1, seed=None,\n",
       "       silent=None, subsample=1, verbosity=1)"
      ]
     },
     "execution_count": 7,
     "metadata": {},
     "output_type": "execute_result"
    }
   ],
   "source": [
    "# Train the XGBoost model using train dataset\n",
    "model.fit(X_train, y_train)"
   ]
  },
  {
   "cell_type": "markdown",
   "metadata": {},
   "source": [
    "### Predict the class using generated model with Test dataset"
   ]
  },
  {
   "cell_type": "code",
   "execution_count": 8,
   "metadata": {},
   "outputs": [],
   "source": [
    "# Make predictions for test data\n",
    "y_pred = model.predict(X_test)"
   ]
  },
  {
   "cell_type": "markdown",
   "metadata": {},
   "source": [
    "### Print first few predicted values"
   ]
  },
  {
   "cell_type": "code",
   "execution_count": 9,
   "metadata": {},
   "outputs": [
    {
     "name": "stdout",
     "output_type": "stream",
     "text": [
      "[19.199282 48.96149  32.501865 34.468933 25.885956 52.59113  21.84642\n",
      " 19.465195 48.688038 22.476915 41.423183 53.783    42.99973  31.512367\n",
      " 40.679497 23.050293 34.574608 36.860527 55.422882 53.818497 44.517254\n",
      " 23.361845 22.398268 38.04239  31.134315]\n"
     ]
    }
   ],
   "source": [
    "# Print first 25 predicted values\n",
    "print(y_pred[0:25])"
   ]
  },
  {
   "cell_type": "markdown",
   "metadata": {},
   "source": [
    "### Print the RMSE score of basic model"
   ]
  },
  {
   "cell_type": "code",
   "execution_count": 10,
   "metadata": {},
   "outputs": [
    {
     "name": "stdout",
     "output_type": "stream",
     "text": [
      "RMSE of XGBoost model:  5.549236368916562\n"
     ]
    }
   ],
   "source": [
    "# Compute the RMSE score\n",
    "rmse_initial = np.sqrt(metrics.mean_squared_error(y_test, y_pred))\n",
    "\n",
    "# Print RMSE score\n",
    "print (\"RMSE of XGBoost model: \", rmse_initial)"
   ]
  },
  {
   "cell_type": "markdown",
   "metadata": {},
   "source": [
    "# <center>Parameter Tuning </center>"
   ]
  },
  {
   "cell_type": "markdown",
   "metadata": {},
   "source": [
    "### Parameters to be tuned:\n",
    "### - <code>n_estimators</code>\n",
    "### - <code>max_depth</code>\n",
    "### - <code>min_child_weight</code>\n",
    "### - <code>subsample</code>\n",
    "### - <code>colsample_bytree</code>\n",
    "### - <code>learning_rate</code>\n",
    "### - <code>reg_alpha</code>"
   ]
  },
  {
   "cell_type": "markdown",
   "metadata": {},
   "source": [
    "### Tune <code>n_estimators</code>"
   ]
  },
  {
   "cell_type": "code",
   "execution_count": 17,
   "metadata": {},
   "outputs": [
    {
     "name": "stdout",
     "output_type": "stream",
     "text": [
      "[09:39:08] WARNING: src/objective/regression_obj.cu:152: reg:linear is now deprecated in favor of reg:squarederror.\n"
     ]
    },
    {
     "data": {
      "text/plain": [
       "({'n_estimators': 195}, 0.9063647320602183)"
      ]
     },
     "execution_count": 17,
     "metadata": {},
     "output_type": "execute_result"
    }
   ],
   "source": [
    "# Set range of parameters for n_estimator\n",
    "param_test0 = {\n",
    "    'n_estimators':list(range(100, 200, 5))\n",
    "}\n",
    "\n",
    "# Build the XGBoost model for the range of n_estimator values\n",
    "gridSearch = GridSearchCV(XGBRegressor(random_state=999),\n",
    "                 param_grid = param_test0, \n",
    "                 scoring = 'r2',\n",
    "                 n_jobs = 4,\n",
    "                 iid = False,  \n",
    "                 return_train_score=True,\n",
    "                 cv = 5)\n",
    "\n",
    "# Fit the train dataset\n",
    "gridSearch.fit(X_train, y_train)\n",
    "\n",
    "# Print scores for each parameter.\n",
    "# REMEMBER the scores are based on train dataset only and NOT on test dataset\n",
    "gridSearch.best_params_, gridSearch.best_score_   # gridSearch.cv_results_"
   ]
  },
  {
   "cell_type": "code",
   "execution_count": 18,
   "metadata": {},
   "outputs": [],
   "source": [
    "# Extract best scores from Grid search\n",
    "estimatorvalue = gridSearch.best_params_['n_estimators']  # 195"
   ]
  },
  {
   "cell_type": "markdown",
   "metadata": {},
   "source": [
    "### Tune <code>max_depth</code> and <code>min_child_weight</code>"
   ]
  },
  {
   "cell_type": "code",
   "execution_count": 22,
   "metadata": {},
   "outputs": [
    {
     "name": "stdout",
     "output_type": "stream",
     "text": [
      "[09:47:54] WARNING: src/objective/regression_obj.cu:152: reg:linear is now deprecated in favor of reg:squarederror.\n"
     ]
    },
    {
     "data": {
      "text/plain": [
       "({'max_depth': 5, 'min_child_weight': 1}, 0.9150314269732434)"
      ]
     },
     "execution_count": 22,
     "metadata": {},
     "output_type": "execute_result"
    }
   ],
   "source": [
    "# Set range of parameters for max_depth and min_child_weight\n",
    "param_test1 = {\n",
    "    'max_depth':list(range(3, 8, 1)),\n",
    "    'min_child_weight':list(range(1, 6, 1))\n",
    "}\n",
    "\n",
    "# Build the XGBoost model for the range of max_depth and min_child_weight values\n",
    "gridSearch = GridSearchCV(XGBRegressor(n_estimators=estimatorvalue, \n",
    "                                   random_state=999),\n",
    "                 param_grid = param_test1, \n",
    "                 scoring = 'r2',\n",
    "                 n_jobs = 4,\n",
    "                 iid = False,  return_train_score=True,\n",
    "                 cv = 5)\n",
    "\n",
    "# Fit the train dataset\n",
    "gridSearch.fit(X_train, y_train)\n",
    "\n",
    "# Print scores for each parameter.\n",
    "# REMEMBER the scores are based on train dataset only and NOT on test dataset\n",
    "gridSearch.best_params_, gridSearch.best_score_   # gridSearch.cv_results_"
   ]
  },
  {
   "cell_type": "code",
   "execution_count": 23,
   "metadata": {},
   "outputs": [],
   "source": [
    "# Extract best scores from Grid search\n",
    "maxdepthvalue = gridSearch.best_params_['max_depth']  # 10\n",
    "minchildvalue = gridSearch.best_params_['min_child_weight']  # 5"
   ]
  },
  {
   "cell_type": "markdown",
   "metadata": {},
   "source": [
    "### Tune <code>subsample</code> and <code>colsample_bytree</code>"
   ]
  },
  {
   "cell_type": "code",
   "execution_count": 24,
   "metadata": {},
   "outputs": [
    {
     "name": "stdout",
     "output_type": "stream",
     "text": [
      "[09:51:02] WARNING: src/objective/regression_obj.cu:152: reg:linear is now deprecated in favor of reg:squarederror.\n"
     ]
    },
    {
     "data": {
      "text/plain": [
       "({'colsample_bytree': 0.5, 'subsample': 0.75}, 0.9246842873920856)"
      ]
     },
     "execution_count": 24,
     "metadata": {},
     "output_type": "execute_result"
    }
   ],
   "source": [
    "# Set range of parameters for subsample and colsample_bytree\n",
    "param_test2 = {\n",
    " 'subsample':[0.7, 0.75, 0.8, 0.85, 0.9],\n",
    " 'colsample_bytree':[0.4, 0.45, 0.5, 0.55, 0.6]\n",
    "}\n",
    "\n",
    "# Build the XGBoost model for the range of subsample and colsample_bytree values\n",
    "gridSearch = GridSearchCV(XGBRegressor(n_estimators = estimatorvalue, \n",
    "                                   max_depth = maxdepthvalue,\n",
    "                                   min_child_weight = minchildvalue,\n",
    "                                   random_state=999),\n",
    "                 param_grid = param_test2, \n",
    "                 scoring = 'r2',\n",
    "                 n_jobs = 4,\n",
    "                 iid = False, \n",
    "                 cv = 5)\n",
    "\n",
    "# Fit the train dataset\n",
    "gridSearch.fit(X_train, y_train)\n",
    "\n",
    "# Print scores for each parameter.\n",
    "# REMEMBER the scores are based on train dataset only and NOT on test dataset\n",
    "gridSearch.best_params_, gridSearch.best_score_"
   ]
  },
  {
   "cell_type": "code",
   "execution_count": 25,
   "metadata": {},
   "outputs": [],
   "source": [
    "# Extract best scores from Grid search\n",
    "colsamplevalue = gridSearch.best_params_['colsample_bytree'] # 0.5\n",
    "subsamplevalue = gridSearch.best_params_['subsample'] # 0.8"
   ]
  },
  {
   "cell_type": "markdown",
   "metadata": {},
   "source": [
    "### Tune <code>learning_rate</code>"
   ]
  },
  {
   "cell_type": "code",
   "execution_count": 26,
   "metadata": {},
   "outputs": [
    {
     "name": "stdout",
     "output_type": "stream",
     "text": [
      "[09:58:20] WARNING: src/objective/regression_obj.cu:152: reg:linear is now deprecated in favor of reg:squarederror.\n"
     ]
    },
    {
     "data": {
      "text/plain": [
       "({'learning_rate': 0.085}, 0.9258870234656745)"
      ]
     },
     "execution_count": 26,
     "metadata": {},
     "output_type": "execute_result"
    }
   ],
   "source": [
    "# Set range of parameters for learning_rate\n",
    "param_test3 = {\n",
    "    #'learning_rate':[0.3, 0.2, 0.1, 0.01, 0.02, 0.03, 0.001, 0.002, 0.003]\n",
    "    #'learning_rate':[0.08, 0.09, 0.1, 0.11, 0.12]\n",
    "    'learning_rate':[0.085, 0.09, 0.095]\n",
    "}\n",
    "\n",
    "# Build the XGBoost model for the range of learning_rate values\n",
    "gridSearch = GridSearchCV(XGBRegressor(n_estimators = estimatorvalue, \n",
    "                                   max_depth = maxdepthvalue,\n",
    "                                   min_child_weight = minchildvalue, \n",
    "                                   subsample = subsamplevalue, \n",
    "                                   colsample_bytree = colsamplevalue,\n",
    "                                   random_state=999),\n",
    "                 param_grid = param_test3, \n",
    "                 scoring = 'r2',\n",
    "                 n_jobs = 4,\n",
    "                 iid = False, \n",
    "                 cv = 5)\n",
    "\n",
    "# Fit the train dataset\n",
    "gridSearch.fit(X_train, y_train)\n",
    "\n",
    "# Print scores for each parameter.\n",
    "# REMEMBER the scores are based on train dataset only and NOT on test dataset\n",
    "gridSearch.best_params_, gridSearch.best_score_"
   ]
  },
  {
   "cell_type": "code",
   "execution_count": 27,
   "metadata": {},
   "outputs": [],
   "source": [
    "# Extract best scores from Grid search\n",
    "learning_rate = gridSearch.best_params_['learning_rate'] # 0.09"
   ]
  },
  {
   "cell_type": "markdown",
   "metadata": {},
   "source": [
    "### Tune  <code>reg_alpha</code>"
   ]
  },
  {
   "cell_type": "code",
   "execution_count": 28,
   "metadata": {},
   "outputs": [
    {
     "name": "stdout",
     "output_type": "stream",
     "text": [
      "[09:59:39] WARNING: src/objective/regression_obj.cu:152: reg:linear is now deprecated in favor of reg:squarederror.\n"
     ]
    },
    {
     "data": {
      "text/plain": [
       "({'reg_alpha': 1.05}, 0.9247388173408172)"
      ]
     },
     "execution_count": 28,
     "metadata": {},
     "output_type": "execute_result"
    }
   ],
   "source": [
    "# Set range of parameters for reg_alpha\n",
    "param_test4 = {\n",
    " 'reg_alpha':[0.9, 0.95, 1, 1.05, 1.1]\n",
    "}\n",
    "\n",
    "# Build the XGBoost model for the range of reg_alpha values\n",
    "gridSearch = GridSearchCV(XGBRegressor(learning_rate = learning_rate, \n",
    "                                   n_estimators = estimatorvalue, \n",
    "                                   max_depth = maxdepthvalue,\n",
    "                                   min_child_weight = minchildvalue, \n",
    "                                   subsample = subsamplevalue, \n",
    "                                   colsample_bytree = colsamplevalue,\n",
    "                                   random_state=999),\n",
    "                 param_grid = param_test4, \n",
    "                 scoring = 'r2',\n",
    "                 n_jobs = 4,\n",
    "                 iid = False, \n",
    "                 cv = 5)\n",
    "\n",
    "# Fit the train dataset\n",
    "gridSearch.fit(X_train, y_train)\n",
    "\n",
    "# Print scores for each parameter.\n",
    "# REMEMBER the scores are based on train dataset only and NOT on test dataset\n",
    "gridSearch.best_params_, gridSearch.best_score_"
   ]
  },
  {
   "cell_type": "code",
   "execution_count": 29,
   "metadata": {},
   "outputs": [],
   "source": [
    "# Extract best scores from Grid search\n",
    "regalphavalue = gridSearch.best_params_['reg_alpha'] # 0.95"
   ]
  },
  {
   "cell_type": "markdown",
   "metadata": {},
   "source": [
    "### Combine all the tuned parameters"
   ]
  },
  {
   "cell_type": "code",
   "execution_count": 30,
   "metadata": {},
   "outputs": [],
   "source": [
    "final_model = XGBRegressor(\n",
    "                  learning_rate = learning_rate,\n",
    "                  n_estimators = estimatorvalue, \n",
    "                  max_depth = maxdepthvalue,\n",
    "                  min_child_weight= minchildvalue, \n",
    "                  subsample = subsamplevalue, \n",
    "                  colsample_bytree = colsamplevalue,\n",
    "                  reg_alpha = regalphavalue,\n",
    "                  metrics = 'rmse',\n",
    "                  random_state=999,\n",
    "                  silent=True\n",
    "                 )"
   ]
  },
  {
   "cell_type": "markdown",
   "metadata": {},
   "source": [
    "### With combined parameters train the model using Train dataset"
   ]
  },
  {
   "cell_type": "code",
   "execution_count": 31,
   "metadata": {},
   "outputs": [
    {
     "name": "stdout",
     "output_type": "stream",
     "text": [
      "[20.855257 51.29979  32.139202 34.521748 24.75205  51.81381  20.878647\n",
      " 16.962027 44.97207  22.01795  36.398148 54.828156 40.983948 33.5913\n",
      " 38.96908  23.389112 36.79337  35.482582 58.833076 52.701454 51.03874\n",
      " 20.557758 20.822382 40.946056 28.830296]\n"
     ]
    }
   ],
   "source": [
    "# Train the final model\n",
    "final_model.fit(X_train, y_train)\n",
    "\n",
    "# Make predictions for test data\n",
    "y_pred = final_model.predict(X_test)\n",
    "\n",
    "# Print the predicted values\n",
    "print(y_pred[0:25])"
   ]
  },
  {
   "cell_type": "markdown",
   "metadata": {},
   "source": [
    "### Compute and print the model's RMSE score after parameter tuning"
   ]
  },
  {
   "cell_type": "code",
   "execution_count": 32,
   "metadata": {},
   "outputs": [
    {
     "name": "stdout",
     "output_type": "stream",
     "text": [
      "XGBoost model RMSE score after parameter tuning: 4.6743\n"
     ]
    }
   ],
   "source": [
    "# Compute the RMSE score\n",
    "rmse_final = np.sqrt(metrics.mean_squared_error(y_test, y_pred))\n",
    "\n",
    "# Print RMSE score\n",
    "print('XGBoost model RMSE score after parameter tuning: %.4f' % rmse_final) # 4.8205"
   ]
  },
  {
   "cell_type": "markdown",
   "metadata": {},
   "source": [
    "### Print the model's RMSE score with default parameters (ORIGINAL)"
   ]
  },
  {
   "cell_type": "code",
   "execution_count": 33,
   "metadata": {},
   "outputs": [
    {
     "name": "stdout",
     "output_type": "stream",
     "text": [
      "XGBoost model RMSE score with default parameters: 5.5492\n"
     ]
    }
   ],
   "source": [
    "# Print initial RMSE Score\n",
    "print('XGBoost model RMSE score with default parameters: %.4f' % rmse_initial) # 5.5492"
   ]
  },
  {
   "cell_type": "markdown",
   "metadata": {},
   "source": [
    "### Print the percentage of decrease in RMSE score after parameter tuning"
   ]
  },
  {
   "cell_type": "code",
   "execution_count": 34,
   "metadata": {},
   "outputs": [
    {
     "name": "stdout",
     "output_type": "stream",
     "text": [
      "Percentage of improvement after parameter tuning: 15.77%\n"
     ]
    }
   ],
   "source": [
    "# Compute percentage improvement\n",
    "perc_improvement = ( (rmse_initial - rmse_final) / rmse_initial) * 100\n",
    "\n",
    "# Print percentage improvement\n",
    "print('Percentage of improvement after parameter tuning: %.2f%%' % perc_improvement)"
   ]
  },
  {
   "cell_type": "markdown",
   "metadata": {},
   "source": [
    "### Train the final deployable model with tuned parameters"
   ]
  },
  {
   "cell_type": "code",
   "execution_count": 35,
   "metadata": {},
   "outputs": [
    {
     "data": {
      "text/plain": [
       "XGBRegressor(base_score=0.5, booster='gbtree', colsample_bylevel=1,\n",
       "       colsample_bynode=1, colsample_bytree=0.5, gamma=0,\n",
       "       importance_type='gain', learning_rate=0.085, max_delta_step=0,\n",
       "       max_depth=5, metrics='rmse', min_child_weight=1, missing=None,\n",
       "       n_estimators=195, n_jobs=1, nthread=None, objective='reg:linear',\n",
       "       random_state=999, reg_alpha=1.05, reg_lambda=1, scale_pos_weight=1,\n",
       "       seed=None, silent=True, subsample=0.75, verbosity=1)"
      ]
     },
     "execution_count": 35,
     "metadata": {},
     "output_type": "execute_result"
    }
   ],
   "source": [
    "# Train the final model\n",
    "final_model.fit(concrete_data.drop([\"compressive_strength\"], axis=1), \n",
    "               concrete_data[\"compressive_strength\"])"
   ]
  },
  {
   "cell_type": "markdown",
   "metadata": {},
   "source": [
    "### Save the final model to deploy"
   ]
  },
  {
   "cell_type": "code",
   "execution_count": 36,
   "metadata": {},
   "outputs": [],
   "source": [
    "# Persist the final model\n",
    "filename = 'concrete_xgb_deloyable_model_ver_1_0.sav'\n",
    "pickle.dump(final_model, open(filename, 'wb'))"
   ]
  },
  {
   "cell_type": "markdown",
   "metadata": {},
   "source": [
    "---"
   ]
  }
 ],
 "metadata": {
  "kernelspec": {
   "display_name": "Python 3",
   "language": "python",
   "name": "python3"
  },
  "language_info": {
   "codemirror_mode": {
    "name": "ipython",
    "version": 3
   },
   "file_extension": ".py",
   "mimetype": "text/x-python",
   "name": "python",
   "nbconvert_exporter": "python",
   "pygments_lexer": "ipython3",
   "version": "3.7.3"
  }
 },
 "nbformat": 4,
 "nbformat_minor": 2
}
